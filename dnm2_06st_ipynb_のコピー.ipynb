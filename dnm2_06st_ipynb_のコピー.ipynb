{
  "cells": [
    {
      "cell_type": "markdown",
      "metadata": {
        "id": "view-in-github",
        "colab_type": "text"
      },
      "source": [
        "<a href=\"https://colab.research.google.com/github/reireu/for-copy/blob/main/dnm2_06st_ipynb_%E3%81%AE%E3%82%B3%E3%83%94%E3%83%BC.ipynb\" target=\"_parent\"><img src=\"https://colab.research.google.com/assets/colab-badge.svg\" alt=\"Open In Colab\"/></a>"
      ]
    },
    {
      "cell_type": "markdown",
      "metadata": {
        "id": "a3QrVhMt5Qf7"
      },
      "source": [
        "# データと数理II 第06回 「フーリエ変換、テイラー展開、オイラーの公式」\n"
      ]
    },
    {
      "cell_type": "code",
      "execution_count": null,
      "metadata": {
        "id": "XuSqXGZ15Qf-"
      },
      "outputs": [],
      "source": [
        "%matplotlib inline\n",
        "#%matplotlib nbagg # JupyterLabでは上手く動かないので今回は使わない。\n",
        "import matplotlib.pyplot as plt\n",
        "import numpy as np\n",
        "from matplotlib.animation import ArtistAnimation\n",
        "from IPython.display import HTML, Audio\n",
        "import random\n",
        "\n",
        "import sympy as sym\n",
        "# Jupyter Notebook上で、レンダリングされた結果を表示する\n",
        "sym.init_printing()"
      ]
    },
    {
      "cell_type": "markdown",
      "metadata": {
        "id": "eWPzp2Cf5QgA"
      },
      "source": [
        "## フーリエ級数展開の式の確認\n",
        "----\n",
        "- フーリエ級数展開の公式と意味 | 高校数学の美しい物語\n",
        "    - https://mathtrain.jp/fourierseries\n",
        "\n",
        "\n",
        "$f(x)$ が周期 $T$ の「まともな」関数なら\n",
        "\n",
        " $f(x)=\\dfrac{a_0}{2}+\\displaystyle\\sum_{n=1}^{\\infty}\\left(a_n\\cos \\dfrac{2\\pi n x}{T}+b_n\\sin \\dfrac{2\\pi nx}{T}\\right)$\n",
        "\n",
        "ただし，\n",
        "\n",
        "$a_n=\\dfrac{2}{T}\\displaystyle\\int_0^{T}f(x)\\cos\\dfrac{2\\pi nx}{T}dx$\n",
        "\n",
        "$b_n=\\dfrac{2}{T}\\displaystyle\\int_0^{T}f(x)\\sin\\dfrac{2\\pi nx}{T}dx$\n",
        "\n",
        "----\n",
        "\n",
        "なお、$a_0$は\n",
        "\n",
        "$a_0=\\dfrac{2}{T}\\displaystyle\\int_0^Tf(x)dx$\n",
        "\n",
        "となる。つまり元の式の第一項の$\\frac{a_0}{2}$は、\n",
        "\n",
        "$\\frac{a_0}{2}=\\dfrac{1}{T}\\displaystyle\\int_0^Tf(x)dx$\n",
        "\n",
        "これは、関数$f(x)$を0からTの区間で積分してTで割ることなので、要は関数$f(x)$の平均成分のことである。\n",
        "(面積を求めて底辺で割ってる)\n",
        "\n"
      ]
    },
    {
      "cell_type": "markdown",
      "metadata": {
        "id": "_blaj8sO5QgA"
      },
      "source": [
        "----\n",
        "### フーリエ級数展開の中身を再度確認\n",
        "\n",
        "\n",
        "\n",
        "$f(x)=\\dfrac{a_0}{2}+\\displaystyle\\sum_{n=1}^{\\infty}\\left(a_n\\cos \\dfrac{2\\pi n x}{T}+b_n\\sin \\dfrac{2\\pi nx}{T}\\right)$\n",
        "\n",
        "の\n",
        "\n",
        "$\\displaystyle\\sum_{n=1}^{\\infty}\\left(a_n\\cos \\dfrac{2\\pi n x}{T}+b_n\\sin \\dfrac{2\\pi nx}{T}\\right)$\n",
        "\n",
        "部分は、展開するとこうである。\n",
        "\n",
        "$(a_1\\cos \\dfrac{2\\pi \\cdot 1 x}{T}+b_1\\sin \\dfrac{2\\pi \\cdot 1 x}{T})\n",
        "+(a_2\\cos \\dfrac{2\\pi \\cdot 2 x}{T}+b_2\\sin \\dfrac{2\\pi \\cdot 2 x}{T})\n",
        "+(a_3\\cos \\dfrac{2\\pi \\cdot 3 x}{T}+b_3\\sin \\dfrac{2\\pi \\cdot 3 x}{T}) + \\cdots$\n"
      ]
    },
    {
      "cell_type": "markdown",
      "metadata": {
        "id": "KTtGjZlv5QgB"
      },
      "source": [
        "----\n",
        "\n",
        "ここで、\n",
        "\n",
        "$\\dfrac{2\\pi n x}{T}$\n",
        "\n",
        "の部分は、Tさえ決めれば同じ形なので、情報量があるのは\n",
        "\n",
        "$\\{a_n\\}, \\{b_n\\}$\n",
        "\n",
        "の部分だけである。これは、対応する周波数の波の振幅の増幅具合がどれぐらいか、ということを表した係数に当たる。\n",
        "\n",
        "言い換えると、Tと、係数部分の\n",
        "\n",
        "$\\{a_n\\}, \\{b_n\\}$\n",
        "\n",
        "だけを保持しておけば、元の波が再現できる。\n"
      ]
    },
    {
      "cell_type": "markdown",
      "metadata": {
        "id": "OhJz75w15QgB"
      },
      "source": [
        "----\n",
        "これは一種の「座標変換」であると考えることができる。\n",
        "\n",
        "- (例)直交座標系で表しても、極座標系で表しても、表記が変わるだけで中身は同じ\n",
        "\n",
        "同じ波を表すのに、データ列(プロットすると波に見える)でそのまま表してもいいし、周波数ごとの増幅具合で表しても良い。\n"
      ]
    },
    {
      "cell_type": "markdown",
      "metadata": {
        "id": "Ku2b5T515QgC"
      },
      "source": [
        "----\n",
        "## フーリエ変換\n",
        "### フーリエ変換(フーリエ級数展開からフーリエ変換へ)\n",
        "\n",
        "- フーリエ級数展開は、周期を持つ関数(同じ形を繰り返す関数)しか表現できない\n",
        "- また、基本周波数(周期の逆数)の整数倍の周波数の波の重ね合わせでしか表現できない\n",
        "- とはいえ、周期Tをいくらでも大きく取れるので、実質何でも表現できると言えばできる\n",
        "\n",
        "- では、Tを無限大にしちゃったらどうなるか？\n",
        "    - 周期を持たない関数も表現できる\n",
        "    - Tを無限大にすると、nxの変化が微小とみなせるので、nx/Tが連続の変化と見なせるので、連続の積分であると見なせるようになる。\n",
        "\n",
        "\n",
        "- ある波にどんな周波数が含まれているのかを調べるには、普通はこちらのフーリエ変換を使う\n",
        "    - フーリエ展開と言わなくもない。が、フーリエ変換と呼ぶことのほうが多い。\n",
        "    - なぜか？これは「座標変換」であることをみんなが重要だと思ってるからだと思う。\n",
        "\n",
        "----\n",
        "覚えること\n",
        "\n",
        "- フーリエ級数展開の周期を無限大にした場合がフーリエ変換\n",
        "- フーリエ級数展開は周期関数のためのもの。フーリエ変換は周期関数じゃなくても大丈夫。\n",
        "\n",
        "----"
      ]
    },
    {
      "cell_type": "markdown",
      "metadata": {
        "id": "uVl7Paxe5QgC"
      },
      "source": [
        "### フーリエ変換の式\n",
        "\n",
        "今日一日で説明するのは無理なので、とりあえず結果を見よう。\n",
        "\n",
        "\n",
        "\n",
        "- フーリエ変換(波の関数f(x)を周波数の関数F(k)に変換する)\n",
        "$$\n",
        "F(k) = \\int^{\\infty}_{-\\infty} f(x) \\ e^{-ikx} dx\n",
        "$$\n",
        "\n",
        "- フーリエ逆変換(周波数の関数F(k)を波の関数f(x)に変換する)\n",
        "$$\n",
        "f(x) = \\frac{1}{2\\pi} \\, \\int^{\\infty}_{-\\infty} F(k) \\ e^{ikx} dk\n",
        "$$\n",
        "\n"
      ]
    },
    {
      "cell_type": "markdown",
      "metadata": {
        "id": "GLZamfu85QgC"
      },
      "source": [
        "----\n",
        "確認すると、フーリエ級数展開は以下だった。\n",
        "\n",
        "$f(x)=\\dfrac{a_0}{2}+\\displaystyle\\sum_{n=1}^{\\infty}\\left(a_n\\cos \\dfrac{2\\pi n x}{T}+b_n\\sin \\dfrac{2\\pi nx}{T}\\right)$\n",
        "\n",
        "これと見比べると、いろいろ疑問だらけ。\n",
        "\n",
        "- eってどこから出てきたの？\n",
        "- sin cosはどこ行ったの？\n",
        "- iって虚数だよね？どこから出てきたの？\n",
        "\n",
        "----\n",
        "\n",
        "それを説明するには、「オイラーの公式」が必要…。\n",
        "\n",
        "- オイラーの公式：この世で最も美しい式とか言われるやつ\n",
        "\n",
        "$$\n",
        "e^{i\\theta} = \\cos \\theta + i \\cdot \\sin \\theta\n",
        "$$\n",
        "\n",
        "これ。これの、$\\theta$が$\\pi$の時は。\n",
        "\n",
        "$$\n",
        "e^{i\\pi} = -1\n",
        "$$\n",
        "\n",
        "となる。これを「オイラーの等式」と言う。(よく考えるとすごい式なのだ。「すごい式だ」と言って知ったかぶりしていこう)\n",
        "\n",
        "\n",
        "\n",
        "\n",
        "フーリエ変換でなんでeやiが出てきたのかをすごいざっくりいうと、この式を使って、cos(x)とsin(x)をe^xに置き換えたということ。\n",
        "\n"
      ]
    },
    {
      "cell_type": "markdown",
      "metadata": {
        "id": "GCoZy93v5QgC"
      },
      "source": [
        "----\n",
        "## フーリエ変換をやってみる\n",
        "\n",
        "### 1. 離散のフーリエ変換をやってみよう！\n",
        "\n",
        "- どうせコンピュータでできるのは離散のフーリエ変換なので、とりあえずそれができればなんとかなる\n",
        "    - ライブラリも充実してるので、とりあえず使ってみよう。\n",
        "    - 一旦上の話は忘れて良い\n"
      ]
    },
    {
      "cell_type": "markdown",
      "metadata": {
        "id": "9NyP7Rfh5QgC"
      },
      "source": [
        "- NumPy 高速フーリエ変換による周波数解析\n",
        "    - https://helve-python.hatenablog.jp/entry/2018/06/17/000000\n",
        "    \n",
        "こちらを使わせてもらった！"
      ]
    },
    {
      "cell_type": "markdown",
      "metadata": {
        "id": "0icvOiYu5QgC"
      },
      "source": [
        "#### フーリエ変換にかける波の作成と確認"
      ]
    },
    {
      "cell_type": "code",
      "execution_count": null,
      "metadata": {
        "id": "0TB4YXC55QgC"
      },
      "outputs": [],
      "source": [
        "N = 1024            # サンプル数\n",
        "dt = 0.001          # サンプリング周期 [s]\n",
        "f1, f2 = 50, 120    # 波の生成に使う周波数 [Hz]\n",
        "\n",
        "t = np.arange(0, N*dt, dt) # 時間 [s]\n",
        "x = 1.5*np.sin(2*np.pi*f1*t) + np.sin(2*np.pi*f2*t) # 信号\n",
        "\n",
        "fig, ax = plt.subplots()\n",
        "ax.plot(t, x)\n",
        "#ax.set_xlim(0, 0.1)                  # ここのコメントアウトを外すと拡大表示\n",
        "ax.set_xlabel(\"Time [s]\")\n",
        "ax.set_ylabel(\"Signal\")\n",
        "ax.grid()\n",
        "plt.show()"
      ]
    },
    {
      "cell_type": "markdown",
      "metadata": {
        "id": "wEGwMRab5QgD"
      },
      "source": [
        "### 2.フーリエ変換の結果の表示1"
      ]
    },
    {
      "cell_type": "code",
      "execution_count": null,
      "metadata": {
        "id": "TvTTXEzo5QgE"
      },
      "outputs": [],
      "source": [
        "F = np.fft.fft(x) # 変換結果\n",
        "freq = np.fft.fftfreq(N, d=dt) # 周波数\n",
        "\n",
        "fig, ax = plt.subplots(nrows=3, sharex=True, figsize=(6,6))\n",
        "ax[0].plot(F.real, label=\"Real part\")\n",
        "ax[0].legend()\n",
        "ax[0].grid()\n",
        "ax[1].plot(F.imag, label=\"Imaginary part\")\n",
        "ax[1].legend()\n",
        "ax[1].grid()\n",
        "ax[2].plot(freq, label=\"Frequency\")\n",
        "ax[2].legend()\n",
        "ax[2].set_xlabel(\"Number of data\")\n",
        "ax[2].grid()\n",
        "plt.show()"
      ]
    },
    {
      "cell_type": "markdown",
      "metadata": {
        "id": "nXsCtA0X5QgE"
      },
      "source": [
        "3つのグラフはそれぞれ、「実部」「虚部」「周波数」を表している。\n",
        "\n",
        "\n",
        "- この3つのグラフの横軸は、サンプル数に対応している。\n",
        "- frequencyのグラフは「横軸：サンプル数、縦軸：周波数」となっている\n",
        "    - 前半の正が周波数の軸、後半が負の周波数の軸。\n",
        "    - Frequencyは、軸の情報と思えば良い。\n",
        "    - この500という数字<font color=\"Red\">（縦軸の）</font>は、サンプリング周期dt = 0.001から来ている(標本化定理と言う。dtを細かくするとより高い周波数が取れる)\n",
        "- 上2つのグラフは、frequencyのグラフで表現される周波数(縦軸の値)に対応するそれそぞれの値を表している\n"
      ]
    },
    {
      "cell_type": "markdown",
      "metadata": {
        "id": "YTvtPRH75QgE"
      },
      "source": [
        "\n",
        "\n",
        "\n",
        "- 元の関数が実関数なら、フーリエ変換の結果は複素共役になる(real部は一緒、imaginary部は正負が逆)\n",
        "- とりあえず必要なのは前半だけ(正の周波数のところだけ)なのでそこをプロットしてみる。"
      ]
    },
    {
      "cell_type": "code",
      "execution_count": null,
      "metadata": {
        "id": "fFQBWwkg5QgF"
      },
      "outputs": [],
      "source": [
        "F = np.fft.fft(x) # 変換結果\n",
        "freq = np.fft.fftfreq(N, d=dt) # 周波数\n",
        "\n",
        "fig, ax = plt.subplots(nrows=3, sharex=True, figsize=(6,6))\n",
        "ax[0].plot(F.real[1:int(N/2)], label=\"Real part\")\n",
        "ax[0].legend()\n",
        "ax[0].grid()\n",
        "ax[1].plot(F.imag[1:int(N/2)], label=\"Imaginary part\")\n",
        "ax[1].legend()\n",
        "ax[1].grid()\n",
        "ax[2].plot(freq[1:int(N/2)], label=\"Frequency\")\n",
        "ax[2].legend()\n",
        "ax[2].set_xlabel(\"Number of data\")\n",
        "ax[2].grid()\n",
        "plt.show()"
      ]
    },
    {
      "cell_type": "markdown",
      "metadata": {
        "id": "Mq32xmS05QgG"
      },
      "source": [
        "### 3.フーリエ変換の結果の表示2\n",
        "\n",
        "- プロットする値のnp.abs(F/(N/2))というのは、振幅を表している。\n",
        "    - Fは複素数なので、大きさを得るには絶対値を取る必要がある\n",
        "\n",
        "\n",
        "```x = 1.5*np.sin(2*np.pi*f1*t) + np.sin(2*np.pi*f2*t) # 元の信号```\n"
      ]
    },
    {
      "cell_type": "code",
      "execution_count": null,
      "metadata": {
        "id": "iUNkmIof5QgG"
      },
      "outputs": [],
      "source": [
        "Amp = np.abs(F/(N/2)) # 振幅\n",
        "\n",
        "fig, ax = plt.subplots()\n",
        "ax.plot(freq[1:int(N/2)], Amp[1:int(N/2)]) # plot(X,Y)\n",
        "ax.set_xlabel(\"Freqency [Hz]\")\n",
        "ax.set_ylabel(\"Amplitude\")\n",
        "ax.grid()\n",
        "plt.show()"
      ]
    },
    {
      "cell_type": "markdown",
      "metadata": {
        "id": "rIO_ieYL5QgG"
      },
      "source": [
        "ちなみに、frequencyの軸をそのまま使ってプロットするとこうなる。(x軸に相当するので、勝手に順番を入れ替えてくれる)"
      ]
    },
    {
      "cell_type": "code",
      "execution_count": null,
      "metadata": {
        "id": "nENmnLU45QgG"
      },
      "outputs": [],
      "source": [
        "Amp = np.abs(F/(N/2)) # 振幅\n",
        "\n",
        "fig, ax = plt.subplots()\n",
        "ax.plot(freq, Amp) # plot(X,Y)\n",
        "ax.set_xlabel(\"Freqency [Hz]\")\n",
        "ax.set_ylabel(\"Amplitude\")\n",
        "ax.grid()\n",
        "plt.show()"
      ]
    },
    {
      "cell_type": "markdown",
      "metadata": {
        "id": "UBnb07ll5QgH"
      },
      "source": [
        "- とはいえ、対称形なのだから、正の部分だけあればよい。\n",
        "- 周波数ごとの大きさを知りたければ、1からN/2までのところをプロットすれば十分\n"
      ]
    },
    {
      "cell_type": "markdown",
      "metadata": {
        "id": "kSQX3Yxv5QgH"
      },
      "source": [
        "### 4.フーリエ変換を関数にまとめておく"
      ]
    },
    {
      "cell_type": "code",
      "execution_count": null,
      "metadata": {
        "id": "l9-Rn_Vu5QgH"
      },
      "outputs": [],
      "source": [
        "# 与えられた信号列をフーリエ変換して表示する関数\n",
        "def plot_fft(x,dt,N):\n",
        "    F = np.fft.fft(x) # 変換結果\n",
        "    freq = np.fft.fftfreq(N, d=dt) # 周波数\n",
        "    Amp = np.abs(F/(N/2)) # 振幅\n",
        "\n",
        "    fig, ax = plt.subplots()\n",
        "    ax.plot(freq[1:int(N/2)], Amp[1:int(N/2)]) # plot(X,Y)\n",
        "    #ax.plot(Amp[1:int(N/2)]) # 前から描くだけならこう書いても同じ\n",
        "    ax.set_xlabel(\"Freqency [Hz]\")\n",
        "    ax.set_ylabel(\"Amplitude\")\n",
        "    ax.grid()\n",
        "    plt.show()"
      ]
    },
    {
      "cell_type": "code",
      "execution_count": null,
      "metadata": {
        "id": "0JjGmrmZ5QgH"
      },
      "outputs": [],
      "source": [
        "N = 1024            # サンプル数\n",
        "dt = 0.001          # サンプリング周期 [s]\n",
        "f1, f2 = 50, 120    # 周波数 [Hz]\n",
        "\n",
        "t = np.arange(0, N*dt, dt) # 時間 [s]\n",
        "x = 1.5*np.sin(2*np.pi*f1*t) + np.sin(2*np.pi*f2*t) # 信号\n",
        "\n",
        "plot_fft(x,dt,N)"
      ]
    },
    {
      "cell_type": "markdown",
      "metadata": {
        "id": "_tazX1yO5QgH"
      },
      "source": [
        "### 5.周波数を変えて試してみる"
      ]
    },
    {
      "cell_type": "markdown",
      "metadata": {
        "id": "EdV-wkrB5QgH"
      },
      "source": [
        "----\n",
        "\n",
        "### 問1.周波数を変えてみよう。また、合成する波を増やしてみよう。\n",
        "\n",
        "----"
      ]
    },
    {
      "cell_type": "code",
      "execution_count": null,
      "metadata": {
        "id": "yvfJxoWI5QgH"
      },
      "outputs": [],
      "source": [
        "N = 1024            # サンプル数\n",
        "dt = 0.001          # サンプリング周期 [s]\n",
        "f1, f2 = 50, 120    # 波の生成に使う周波数 [Hz] # ここを変える\n",
        "\n",
        "t = np.arange(0, N*dt, dt) # 時間 [s]\n",
        "x = 1.5*np.sin(2*np.pi*f1*t) + np.sin(2*np.pi*f2*t) # 信号 # ここを変える\n",
        "\n",
        "plot_fft(x,dt,N)"
      ]
    },
    {
      "cell_type": "markdown",
      "metadata": {
        "id": "myZRHIR15QgH"
      },
      "source": [
        "### 6.音の波をフーリエ展開してみる\n",
        "\n",
        "試しに220Hz,440Hzとしてみる。\n"
      ]
    },
    {
      "cell_type": "code",
      "execution_count": null,
      "metadata": {
        "id": "8YKwzIu35QgH"
      },
      "outputs": [],
      "source": [
        "N = 1024            # サンプル数\n",
        "dt = 0.001          # サンプリング周期 [s]\n",
        "f1, f2 = 220, 440    # 周波数 [Hz] # 中央から一オクターブ低いラ、中央ラ\n",
        "\n",
        "t = np.arange(0, N*dt, dt) # 時間 [s]\n",
        "x = 1.5*np.sin(2*np.pi*f1*t) + np.sin(2*np.pi*f2*t) # 信号\n",
        "\n",
        "plot_fft(x,dt,N)"
      ]
    },
    {
      "cell_type": "markdown",
      "metadata": {
        "id": "CdcdbiII5QgH"
      },
      "source": [
        "500Hzまでしか表せないので、このまま大きくすると雲行きが怪しい。\n",
        "\n",
        "dtを10倍細かくしてみよう。\n",
        "\n"
      ]
    },
    {
      "cell_type": "code",
      "execution_count": null,
      "metadata": {
        "id": "KyrhYD-M5QgI"
      },
      "outputs": [],
      "source": [
        "N = 1024            # サンプル数\n",
        "dt = 0.0001          # サンプリング周期 [s]\n",
        "f1, f2 = 220, 440    # 周波数 [Hz] # 中央から一オクターブ低いラ、中央ラ\n",
        "\n",
        "t = np.arange(0, N*dt, dt) # 時間 [s]\n",
        "x = 1.5*np.sin(2*np.pi*f1*t) + np.sin(2*np.pi*f2*t) # 信号\n",
        "\n",
        "plot_fft(x,dt,N)"
      ]
    },
    {
      "cell_type": "markdown",
      "metadata": {
        "id": "ZCG_DSkh5QgI"
      },
      "source": [
        "周波数は大丈夫になったが、振幅が怪しい。(1.5,1.0になるはずなのに、1.0,1,0になっている)\n",
        "\n",
        "こちらも10倍にしてみよう。"
      ]
    },
    {
      "cell_type": "code",
      "execution_count": null,
      "metadata": {
        "id": "ge-Acqfc5QgI"
      },
      "outputs": [],
      "source": [
        "N = 1024 * 10         # サンプル数\n",
        "dt = 0.0001          # サンプリング周期 [s]\n",
        "f1, f2 = 220, 440    # 周波数 [Hz] # 中央から一オクターブ低いラ、中央ラ\n",
        "\n",
        "t = np.arange(0, N*dt, dt) # 時間 [s]\n",
        "x = 1.5*np.sin(2*np.pi*f1*t) + np.sin(2*np.pi*f2*t) # 信号\n",
        "\n",
        "plot_fft(x,dt,N)"
      ]
    },
    {
      "cell_type": "markdown",
      "metadata": {
        "id": "Aqog9a9a5QgI"
      },
      "source": [
        "比率は良さげになったのでとりあえずよしとする。\n",
        "\n",
        "----\n",
        "- 覚えておこう！\n",
        "\n",
        "標本化定理：波形の最大周波数の2倍を超えた周波数で標本化すれば完全に元の波形に再構成される。\n",
        "\n",
        "----\n",
        "\n"
      ]
    },
    {
      "cell_type": "markdown",
      "metadata": {
        "id": "6CeDxf5a5QgI"
      },
      "source": [
        "### 7.実際の音のフーリエ変換\n",
        "前回作った音の関数でやってみよう。\n"
      ]
    },
    {
      "cell_type": "code",
      "execution_count": null,
      "metadata": {
        "id": "ExL4JT6-5QgI"
      },
      "outputs": [],
      "source": [
        "# 初期設定\n",
        "duration = 1\n",
        "fs = 16000\n",
        "base = 440\n",
        "f0s = [880, 1320, 1760]\n",
        "\n",
        "wave = np.sin(base * 2 * np.pi * np.linspace(0, duration, duration * 16000))\n",
        "\n",
        "# HTML Table の生成\n",
        "html = \"<table><tr><th>Freq</th><th>音声</th></tr>\"\n",
        "for f0 in f0s:\n",
        "    # Audio オブジェクトの生成\n",
        "    wave += np.sin(f0 * 2 * np.pi * np.linspace(0, duration, duration * 16000))\n",
        "\n",
        "audio_obj = Audio(data=wave, rate=fs)\n",
        "# Audio オブジェクトの埋め込み\n",
        "html += \"\"\"\n",
        "<tr><td>%s Hz</td><td>\n",
        "    <audio controls>\n",
        "        <source src=\"%s\" type=\"audio/wav\" volume=\"0.5\">\n",
        "    </audio></td>\n",
        "</tr>\n",
        "\"\"\" % (\"mixed\", audio_obj.src_attr())\n",
        "\n",
        "html += \"</table>\"\n",
        "\n",
        "HTML(html)"
      ]
    },
    {
      "cell_type": "markdown",
      "metadata": {
        "id": "u2iQZvKb5QgI"
      },
      "source": [
        "----\n",
        "\n",
        "### 問2. 上で作った波をplot_fftに渡したい。対応する数字は？\n",
        "\n",
        "plot_fftの入力は、wave, dt, Nである。\n",
        "- wave: 波の信号列\n",
        "- dt: 信号列の間隔\n",
        "- N: サンプル数\n",
        "\n",
        "\n",
        "- duration : 秒数\n",
        "- fs: 一秒あたりの刻み\n",
        "\n",
        "----"
      ]
    },
    {
      "cell_type": "code",
      "execution_count": null,
      "metadata": {
        "id": "-L8TPSWV5QgJ"
      },
      "outputs": [],
      "source": [
        "N = #?\n",
        "dt = #?\n",
        "plot_fft(wave,dt,N)"
      ]
    },
    {
      "cell_type": "markdown",
      "metadata": {
        "id": "jNjkA0_i5QgJ"
      },
      "source": [
        "### 8.ランダムな振幅の増幅幅のケースでも試してみる。"
      ]
    },
    {
      "cell_type": "code",
      "execution_count": null,
      "metadata": {
        "id": "69c2LMWv5QgJ"
      },
      "outputs": [],
      "source": [
        "# 初期設定\n",
        "duration = 1\n",
        "fs = 16000\n",
        "base = 440\n",
        "f0s = [880, 1320, 1760]\n",
        "n = 2 # 倍音成分の増幅度\n",
        "rs = np.array([random.random(),random.random(),random.random()]) * n\n",
        "print(f0s)\n",
        "print(rs)\n",
        "\n",
        "wave = np.sin(base * 2 * np.pi * np.linspace(0, duration, duration * 16000))\n",
        "\n",
        "# HTML Table の生成\n",
        "html = \"<table><tr><th>Freq</th><th>音声</th></tr>\"\n",
        "for i in range(len(f0s)):\n",
        "    # Audio オブジェクトの生成\n",
        "    wave += rs[i] * np.sin(f0s[i] * 2 * np.pi * np.linspace(0, duration, duration * 16000))\n",
        "\n",
        "audio_obj = Audio(data=wave, rate=fs)\n",
        "# Audio オブジェクトの埋め込み\n",
        "html += \"\"\"\n",
        "<tr><td>%s Hz</td><td>\n",
        "    <audio controls>\n",
        "        <source src=\"%s\" type=\"audio/wav\" volume=\"0.5\">\n",
        "    </audio></td>\n",
        "</tr>\n",
        "\"\"\" % (\"mixed\", audio_obj.src_attr())\n",
        "\n",
        "html += \"</table>\"\n",
        "\n",
        "HTML(html)"
      ]
    },
    {
      "cell_type": "code",
      "execution_count": null,
      "metadata": {
        "id": "kz2mHJ2O5QgJ"
      },
      "outputs": [],
      "source": [
        "N = duration * fs\n",
        "dt = 1/ fs\n",
        "\n",
        "plot_fft(wave,dt,N)"
      ]
    },
    {
      "cell_type": "markdown",
      "metadata": {
        "id": "uzL_GUcE5QgJ"
      },
      "source": [
        "## フーリエ逆変換\n",
        "### 9.フーリエ変換とフーリエ逆変換の関数を定義"
      ]
    },
    {
      "cell_type": "code",
      "execution_count": null,
      "metadata": {
        "id": "1J0lEnJU5QgK"
      },
      "outputs": [],
      "source": [
        "def return_fft(x,dt,N):\n",
        "    F = np.fft.fft(x) # 変換結果\n",
        "    freq = np.fft.fftfreq(N, d=dt) # 周波数\n",
        "    Amp = np.abs(F/(N/2)) # 振幅\n",
        "    return(F, freq, Amp)\n",
        "\n",
        "def return_ifft(F,N):\n",
        "    f_time = np.fft.ifft(F,N).real # フーリエ逆変換して実部だけ取り出し\n",
        "    return f_time\n"
      ]
    },
    {
      "cell_type": "markdown",
      "metadata": {
        "id": "cl5tspIE5QgK"
      },
      "source": [
        "#### まずは波の確認"
      ]
    },
    {
      "cell_type": "code",
      "execution_count": null,
      "metadata": {
        "id": "I1Wi8VN65QgK"
      },
      "outputs": [],
      "source": [
        "N = 1024 * 10         # サンプル数\n",
        "dt = 0.0001          # サンプリング周期 [s]\n",
        "f1, f2 = 220, 440    # 周波数 [Hz] # 中央から一オクターブ低いラ、中央ラ\n",
        "\n",
        "t = np.arange(0, N*dt, dt) # 時間 [s]\n",
        "x = 1.5*np.sin(2*np.pi*f1*t) + np.sin(2*np.pi*f2*t) + 3 # 信号\n",
        "\n",
        "fig = plt.figure(figsize=(6,4))\n",
        "ax = fig.add_subplot(1,1,1)\n",
        "ax.plot(t, x)\n",
        "ax.axis([-0.0,0.1,-0.0,6.0]) # 試しに消してみると、密度が高すぎて見にくい\n",
        "plt.show()\n"
      ]
    },
    {
      "cell_type": "markdown",
      "metadata": {
        "id": "LG_atzr_5QgK"
      },
      "source": [
        "#### フーリエ変換して表示"
      ]
    },
    {
      "cell_type": "code",
      "execution_count": null,
      "metadata": {
        "id": "J_iGqwhV5QgK"
      },
      "outputs": [],
      "source": [
        "F, F_freq, F_Amp = return_fft(x,dt,N)\n",
        "\n",
        "fig, ax = plt.subplots()\n",
        "ax.plot(F_freq[1:int(N/2)], F_Amp[1:int(N/2)]) # plot(X,Y)\n",
        "ax.set_xlabel(\"Freqency [Hz]\")\n",
        "ax.set_ylabel(\"Amplitude\")\n",
        "ax.grid()\n",
        "plt.show()"
      ]
    },
    {
      "cell_type": "markdown",
      "metadata": {
        "id": "HlJQjSoO5QgK"
      },
      "source": [
        "#### フーリエ逆変換して表示"
      ]
    },
    {
      "cell_type": "code",
      "execution_count": null,
      "metadata": {
        "id": "qcpmR4Pj5QgK"
      },
      "outputs": [],
      "source": [
        "result_wave = return_ifft(F,N) # フーリエ逆変換\n",
        "\n",
        "fig = plt.figure(figsize=(6,4))\n",
        "ax = fig.add_subplot(1,1,1)\n",
        "ax.plot(t, result_wave)\n",
        "ax.axis([-0.0,0.1,-0.0,6.0])\n",
        "plt.show()"
      ]
    },
    {
      "cell_type": "markdown",
      "metadata": {
        "id": "SjikDSSR5QgL"
      },
      "source": [
        "ちゃんともとに戻ったね！"
      ]
    },
    {
      "cell_type": "markdown",
      "metadata": {
        "id": "a5P9yVB85QgL"
      },
      "source": [
        "### 10. フーリエ変換、逆変換を用いたノイズ除去\n",
        "\n",
        "ノイズを付加してみる"
      ]
    },
    {
      "cell_type": "code",
      "execution_count": null,
      "metadata": {
        "id": "QdDcBwLQ5QgL"
      },
      "outputs": [],
      "source": [
        "N = 1024 * 10         # サンプル数\n",
        "dt = 0.0001          # サンプリング周期 [s]\n",
        "f1, f2 = 220, 440    # 周波数 [Hz] # 中央から一オクターブ低いラ、中央ラ\n",
        "\n",
        "t = np.arange(0, N*dt, dt) # 時間 [s]\n",
        "x = 1.5*np.sin(2*np.pi*f1*t) + np.sin(2*np.pi*f2*t) + 3 # 信号\n",
        "\n",
        "for i in range(len(x)):\n",
        "    x[i] += random.random()- 0.5 # randomは 0.0から1.0の間の値を生み出すので、それを -0.5から0.5にしている\n",
        "\n",
        "fig = plt.figure(figsize=(6,4))\n",
        "ax = fig.add_subplot(1,1,1)\n",
        "ax.plot(t, x)\n",
        "ax.axis([-0.0,0.05,-0.0,6.0])\n",
        "plt.show()\n"
      ]
    },
    {
      "cell_type": "markdown",
      "metadata": {
        "id": "HjMTzaXp5QgL"
      },
      "source": [
        "#### 音も聞いてみる"
      ]
    },
    {
      "cell_type": "code",
      "execution_count": null,
      "metadata": {
        "id": "sV069Zw-5QgL"
      },
      "outputs": [],
      "source": [
        "wave = x\n",
        "audio_obj = Audio(data=wave, rate=fs)\n",
        "# Audio オブジェクトの埋め込み\n",
        "html = \"<table><tr><th>Freq</th><th>音声</th></tr>\"\n",
        "html += \"\"\"\n",
        "<tr><td>%s</td><td>\n",
        "    <audio controls>\n",
        "        <source src=\"%s\" type=\"audio/wav\">\n",
        "    </audio></td>\n",
        "</tr>\n",
        "\"\"\" % (\"noised\", audio_obj.src_attr())\n",
        "\n",
        "html += \"</table>\"\n",
        "HTML(html)"
      ]
    },
    {
      "cell_type": "code",
      "execution_count": null,
      "metadata": {
        "id": "3AqZSIqM5QgL"
      },
      "outputs": [],
      "source": [
        "F, F_freq, F_Amp = return_fft(x,dt,N)\n",
        "\n",
        "fig, ax = plt.subplots()\n",
        "ax.plot(F_freq[1:int(N/2)], F_Amp[1:int(N/2)]) # plot(X,Y)\n",
        "ax.set_xlabel(\"Freqency [Hz]\")\n",
        "ax.set_ylabel(\"Amplitude\")\n",
        "ax.grid()\n",
        "plt.show()"
      ]
    },
    {
      "cell_type": "markdown",
      "metadata": {
        "id": "Nay9CKJD5QgL"
      },
      "source": [
        "- ここのノイズの除去が課題1になります。\n",
        "\n",
        "----\n",
        "----\n",
        "----"
      ]
    },
    {
      "cell_type": "markdown",
      "metadata": {
        "id": "auNfHvhW5QgL"
      },
      "source": [
        "## eってなんだ？\n",
        "\n",
        "eは「自然対数の底」「ネイピア数」などと呼ばれる。\n",
        "\n",
        "\n",
        "### 11. $e^x$のグラフと、その微分のグラフを描いてみる"
      ]
    },
    {
      "cell_type": "code",
      "execution_count": null,
      "metadata": {
        "id": "ec9TE47V5QgM"
      },
      "outputs": [],
      "source": [
        "def return_ab2(x0,x1, y0,y1):\n",
        "    a = (y1 - y0) / (x1 - x0)\n",
        "    b = y0 - a * x0\n",
        "\n",
        "    return (a, b)\n",
        "\n",
        "def line2(x,a,b):\n",
        "    y = a * x + b\n",
        "    return y\n",
        "\n",
        "def tangent_line2(i, x, y, x_tl):\n",
        "    x0 = x[i]\n",
        "    x1 = x[i+1]\n",
        "    y0 = y[i]\n",
        "    y1 = y[i+1]\n",
        "    a, b = return_ab2(x0,x1,y0,y1)\n",
        "    y_tl = line2(x_tl,a,b)\n",
        "    return y_tl"
      ]
    },
    {
      "cell_type": "code",
      "execution_count": null,
      "metadata": {
        "id": "PXDbdcs55QgM"
      },
      "outputs": [],
      "source": [
        "def here_function(x):\n",
        "    y = np.e ** x\n",
        "    return y\n",
        "\n",
        "start = 0 #定義域の左端\n",
        "last = 4 # 定義域の右端\n",
        "\n",
        "x0 = np.arange(start,last, 0.01)\n",
        "y0 = here_function(x0)\n",
        "\n",
        "dx = 0.1\n",
        "x = np.arange(start,last+dx,dx)\n",
        "y = here_function(x)\n",
        "\n",
        "\n",
        "fig = plt.figure(figsize=(12,4)) # Figureオブジェクトを作成\n",
        "ax1 = fig.add_subplot(1,2,1) # figに属するAxesオブジェクトを作成 (縦,横, 自分の番号)\n",
        "ax2 = fig.add_subplot(1,2,2) # figに属するAxesオブジェクトを作成 (縦,横, 自分の番号)\n",
        "#ax.set_aspect('equal')\n",
        "\n",
        "ax1.spines['right'].set_visible(False)\n",
        "ax1.spines['top'].set_visible(False)\n",
        "ax1.spines['bottom'].set_position('zero')\n",
        "ax1.spines['left'].set_position('zero')\n",
        "ax1.grid()\n",
        "ax1.set_title('base e^x') # グラフタイトル\n",
        "\n",
        "ax2.spines['right'].set_visible(False)\n",
        "ax2.spines['top'].set_visible(False)\n",
        "ax2.spines['bottom'].set_position('zero')\n",
        "ax2.spines['left'].set_position('zero')\n",
        "ax2.grid()\n",
        "ax2.set_title('diff dx:'+str(dx)) # グラフタイトル\n",
        "\n",
        "for i in range(len(x)-1):\n",
        "    a, b = return_ab2(x[i],x[i+1],y[i],y[i+1])\n",
        "    ax2.plot(x[i],a, marker='.', color='red', markersize=4, linestyle='None') # 点\n",
        "\n",
        "ax1.plot(x0, y0, label=\"base_function\") # ラベルの追加\n",
        "\n",
        "ax1.legend(bbox_to_anchor=(1, 1), loc='upper right', borderaxespad=0, fontsize=10) # ラベルの反映ax1\n",
        "#ax2.legend(bbox_to_anchor=(1, 1), loc='upper right', borderaxespad=0, fontsize=10) # ラベルの反映ax2\n",
        "\n",
        "plt.show()"
      ]
    },
    {
      "cell_type": "markdown",
      "metadata": {
        "id": "1G2EaB2z5QgM"
      },
      "source": [
        "全く同じになった！これがeの正体そのもの、eはこのために作られたと言って良い。\n",
        "\n",
        "### 12.eをsympyやnumpyでも確かめてみる。"
      ]
    },
    {
      "cell_type": "code",
      "execution_count": null,
      "metadata": {
        "id": "JRgxjpLR5QgM"
      },
      "outputs": [],
      "source": [
        "print(np.e)"
      ]
    },
    {
      "cell_type": "code",
      "execution_count": null,
      "metadata": {
        "id": "sPpi4AS35QgM"
      },
      "outputs": [],
      "source": [
        "x = sym.Symbol('x') # 変数を一個ずつ指定\n",
        "display(sym.E)"
      ]
    },
    {
      "cell_type": "code",
      "execution_count": null,
      "metadata": {
        "id": "U6TCBSXM5QgM"
      },
      "outputs": [],
      "source": [
        "display(sym.diff(sym.E**x,x))"
      ]
    },
    {
      "cell_type": "markdown",
      "metadata": {
        "id": "04ute58b5QgN"
      },
      "source": [
        "### 13.eの定義\n",
        "\n",
        "eの定義：$a^x$が微分したときに$a^x$になるときのa。\n",
        "\n",
        "\n",
        "\n",
        "$$\n",
        "\\frac{d}{dx} \\, a^x\n",
        "= \\lim_{h\\rightarrow 0} \\frac{a^{x+h} -a^x}{h}\n",
        "=a^x \\lim_{h\\rightarrow 0} \\frac{a^h -1}{h}\n",
        "= a^x\n",
        "$$\n",
        "\n",
        "を満たすような実数 ''a''\n",
        "\n",
        "ここで\n",
        "$$\n",
        "a^x \\lim_{h\\rightarrow 0} \\frac{a^h -1}{h}\n",
        "= a^x\n",
        "$$\n",
        "\n",
        "ということは、\n",
        "\n",
        "$$\n",
        "\\lim_{h\\rightarrow 0} \\frac{a^h -1}{h}\n",
        "= 1\n",
        "$$\n",
        "\n",
        "ということ。これをaについて解くと、\n",
        "\n",
        "$$\n",
        "a = \\lim_{h\\rightarrow 0} (1 + h)^\\frac{1}{h}\n",
        "$$\n",
        "\n",
        "\n",
        "$$\n",
        "e \\equiv \\lim_{h\\rightarrow 0} (1 + h)^\\frac{1}{h}\n",
        "$$\n"
      ]
    },
    {
      "cell_type": "markdown",
      "metadata": {
        "id": "gOMpeGb25QgN"
      },
      "source": [
        "### 14.複利計算に出てくるe\n",
        "\n",
        "- お金を預けていると一定期間で利子がついて1.1倍になるとする。10,000円に10回利子が付くといくらになるか？"
      ]
    },
    {
      "cell_type": "code",
      "execution_count": null,
      "metadata": {
        "id": "3IwCteEZ5QgN",
        "outputId": "b71d8737-ff90-4b3a-ee4b-417c961df61d"
      },
      "outputs": [
        {
          "name": "stdout",
          "output_type": "stream",
          "text": [
            "0 : 10000\n",
            "1 : 11000\n",
            "2 : 12100\n",
            "3 : 13310\n",
            "4 : 14641\n",
            "5 : 16105\n",
            "6 : 17715\n",
            "7 : 19487\n",
            "8 : 21435\n",
            "9 : 23579\n",
            "10 : 25937\n"
          ]
        }
      ],
      "source": [
        "x= 10\n",
        "\n",
        "for i in range(x+1):\n",
        "    ans = int(10000 * (1.1)**i)\n",
        "    print(i,\":\",ans)\n"
      ]
    },
    {
      "cell_type": "markdown",
      "metadata": {
        "id": "WdU0nRAs5QgO"
      },
      "source": [
        "nをもっと大きくしてみよう。"
      ]
    },
    {
      "cell_type": "markdown",
      "metadata": {
        "id": "xPtYSE7x5QgP"
      },
      "source": [
        "----\n",
        "\n",
        "### 問3. 複利計算からeを出す\n",
        "\n",
        "では、利子が付く回数がr倍になる(付くまでの期間が1/rになる)たびに、付く利子自体が1/r倍になるとする。\n",
        "これはnを大きくしていくと無限に大きくなるか？小さくなるか？\n",
        "\n",
        "\n",
        "式で表すとこう"
      ]
    },
    {
      "cell_type": "markdown",
      "metadata": {
        "id": "wHS0AIKI5QgP"
      },
      "source": [
        "$\\displaystyle \\lim_{r \\to \\infty} (1+\\frac{1}{r})^r$\n",
        "\n",
        "rをどんどん大きくなるようにforで回してみよう。"
      ]
    },
    {
      "cell_type": "code",
      "execution_count": null,
      "metadata": {
        "id": "8rjX82ee5QgP"
      },
      "outputs": [],
      "source": [
        "# ここに書く"
      ]
    },
    {
      "cell_type": "code",
      "execution_count": null,
      "metadata": {
        "id": "lheWkoFT5QgQ",
        "outputId": "f6248940-2096-44d5-d284-da8133281180"
      },
      "outputs": [
        {
          "data": {
            "text/plain": [
              "2.7169239322355936"
            ]
          },
          "execution_count": 8,
          "metadata": {},
          "output_type": "execute_result"
        }
      ],
      "source": [
        "# ヒント：rを1000にした場合の例\n",
        "r = 1000\n",
        "(1 + 1/r)**r"
      ]
    },
    {
      "cell_type": "code",
      "execution_count": null,
      "metadata": {
        "id": "Sd2qIsBb5QgQ",
        "outputId": "6deff4e6-e4b0-48e3-dc52-f76f6bbddc30"
      },
      "outputs": [
        {
          "name": "stdout",
          "output_type": "stream",
          "text": [
            "1 : \n",
            "10 : \n",
            "100 : \n",
            "1000 : \n",
            "10000 : \n",
            "100000 : \n",
            "1000000 : \n",
            "10000000 : \n"
          ]
        }
      ],
      "source": [
        "# ヒント：for文どんどん大きくする例\n",
        "for i in range(8):\n",
        "    print(10 ** i, \":\", \"\")"
      ]
    },
    {
      "cell_type": "raw",
      "metadata": {
        "id": "kCcdp7zH5QgQ"
      },
      "source": [
        "# 出力\n",
        "1 : 2.0\n",
        "10 : 2.5937424601000023\n",
        "100 : 2.7048138294215285\n",
        "1000 : 2.7169239322355936\n",
        "10000 : 2.7181459268249255\n",
        "100000 : 2.7182682371922975\n",
        "1000000 : 2.7182804690957534\n",
        "10000000 : 2.7182816941320818"
      ]
    },
    {
      "cell_type": "markdown",
      "metadata": {
        "id": "e55O3xTG5QgR"
      },
      "source": [
        "$\\displaystyle \\lim_{r \\to \\infty} (1+\\frac{1}{r})^r$\n",
        "\n",
        "は\n",
        "\n",
        "$\\displaystyle \\lim_{d \\to 0} (1+d)^\\frac{1}{d}$\n",
        "\n",
        "と書いても同じ。これはeの定義そのもの。\n",
        "\n",
        "----\n",
        "\n",
        "### 問4. dを小さくしていくプログラムを書いて同じになるか確かめよう\n",
        "\n",
        "\n"
      ]
    },
    {
      "cell_type": "code",
      "execution_count": null,
      "metadata": {
        "id": "DWSYoxUi5QgR"
      },
      "outputs": [],
      "source": [
        "# ここに書く"
      ]
    },
    {
      "cell_type": "markdown",
      "metadata": {
        "id": "XkI9p-zA5QgR"
      },
      "source": [
        "----\n",
        "\n",
        "## テイラー展開\n",
        "\n",
        "テイラー展開：関数をある地点の周辺で多項式近似する方法\n",
        "\n",
        "多項式：以下のような式のこと。\n",
        "\n",
        "$f(x) = a_0 + a_1x + a_2x^2 + a_3x^3 + \\cdots$\n",
        "\n",
        "\n",
        "多項式近似できるのはすごい！\n",
        "- 具体的な計算ができるので\n",
        "- フーリエ変換の次か同じぐらい重要！\n",
        "\n",
        "### 15.テイラー展開の定義式\n",
        "\n",
        "$$\n",
        "f(x)=f(a)+\\frac{1}{1!}{f}'(a)(x-a)+\\frac{1}{2!}{f}''(a)(x-a)^{2}+\\frac{1}{3!}{f}'''(a)(x-a)^{3}+\\cdots+\\frac{1}{n!}{f}^{(n)}(a)(x-a)^{n}+\\cdots\n",
        "$$\n",
        "\n",
        "0次: $f(a)$\n",
        "\n",
        "1次: $\\frac{1}{1!}{f}'(a)(x-a)$\n",
        "\n",
        "2次: $\\frac{1}{2!}{f}''(a)(x-a)^{2}$\n",
        "\n",
        "\n",
        "n次： $\\frac{1}{n!}{f}^{(n)}(a)(x-a)^{n}$\n"
      ]
    },
    {
      "cell_type": "markdown",
      "metadata": {
        "id": "GDtv48bd5QgS"
      },
      "source": [
        "### 16.マクローリン展開\n",
        "テイラー展開の、a=0のとき、つまり関数が0の近くのときのことを、マクローリン展開と呼ぶ。実質的にテイラー展開の一部なのだが、よく使うので名前がついている。\n",
        "\n",
        "$$\n",
        "f(x)=f(0)+\\frac{1}{1!}{f}'(0)(x)+\\frac{1}{2!}{f}''(0)(x)^{2}+\\frac{1}{3!}{f}'''(0)(x)^{3}+\\cdots+\\frac{1}{n!}{f}^{(n)}(0)(x)^{n}+\\cdots\n",
        "$$\n",
        "\n",
        "0次: $f(0)$\n",
        "\n",
        "1次: $\\frac{1}{1!}{f}'(0)(x)$\n",
        "\n",
        "2次: $\\frac{1}{2!}{f}''(0)(x)^{2}$\n",
        "\n",
        "\n",
        "n次： $\\frac{1}{n!}{f}^{(n)}(0)(x)^{n}$\n"
      ]
    },
    {
      "cell_type": "markdown",
      "metadata": {
        "id": "9M4TqSHC5QgS"
      },
      "source": [
        "### 17.sympyを使ってsin,cos関数をテイラー展開(マクローリン展開)で近似してみる\n",
        "\n",
        "\n"
      ]
    },
    {
      "cell_type": "code",
      "execution_count": null,
      "metadata": {
        "id": "q2PtSXgD5QgS",
        "outputId": "ed82b0af-18b3-4dd2-835e-0c4cc87f42a1"
      },
      "outputs": [
        {
          "data": {
            "image/png": "[encoded data removed]",
            "text/latex": [
              "$\\displaystyle x - \\frac{x^{3}}{6} + O\\left(x^{5}\\right)$"
            ],
            "text/plain": [
              "     3        \n",
              "    x     ⎛ 5⎞\n",
              "x - ── + O⎝x ⎠\n",
              "    6         "
            ]
          },
          "metadata": {},
          "output_type": "display_data"
        },
        {
          "data": {
            "image/png": "[encoded data removed]",
            "text/latex": [
              "$\\displaystyle 1 - \\frac{x^{2}}{2} + \\frac{x^{4}}{24} + O\\left(x^{5}\\right)$"
            ],
            "text/plain": [
              "     2    4        \n",
              "    x    x     ⎛ 5⎞\n",
              "1 - ── + ── + O⎝x ⎠\n",
              "    2    24        "
            ]
          },
          "metadata": {},
          "output_type": "display_data"
        }
      ],
      "source": [
        "x = sym.Symbol('x')\n",
        "sin_taylor = sym.series(sym.sin(x), x, x0=0, n=5)\n",
        "display(sin_taylor)\n",
        "\n",
        "cos_taylor = sym.series(sym.cos(x), x, x0=0, n=5)\n",
        "display(cos_taylor)"
      ]
    },
    {
      "cell_type": "markdown",
      "metadata": {
        "id": "SgwyRCjb5QgT"
      },
      "source": [
        "$O(x^5)$の部分は、剰余項という。まだ分かってない部分のこと。まだ分かってないことを示すには使えるけど計算には使えない。\n",
        "\n",
        ".removeO()\n",
        "\n",
        "と付けると消せる。\n",
        "\n",
        "0(ゼロ)ではなくO(オー、大文字)である。"
      ]
    },
    {
      "cell_type": "code",
      "execution_count": null,
      "metadata": {
        "id": "4fk3thCo5QgU",
        "outputId": "d2b5f684-20fb-4666-9e27-24f844c53015"
      },
      "outputs": [
        {
          "data": {
            "image/png": "[encoded data removed]",
            "text/latex": [
              "$\\displaystyle - \\frac{x^{3}}{6} + x$"
            ],
            "text/plain": [
              "   3    \n",
              "  x     \n",
              "- ── + x\n",
              "  6     "
            ]
          },
          "metadata": {},
          "output_type": "display_data"
        },
        {
          "data": {
            "image/png": "[encoded data removed]",
            "text/latex": [
              "$\\displaystyle \\frac{x^{4}}{24} - \\frac{x^{2}}{2} + 1$"
            ],
            "text/plain": [
              " 4    2    \n",
              "x    x     \n",
              "── - ── + 1\n",
              "24   2     "
            ]
          },
          "metadata": {},
          "output_type": "display_data"
        }
      ],
      "source": [
        "sin_taylor = sym.series(sym.sin(x), x, x0=0, n=5).removeO()\n",
        "display(sin_taylor)\n",
        "\n",
        "cos_taylor = sym.series(sym.cos(x), x, x0=0, n=5).removeO()\n",
        "display(cos_taylor)"
      ]
    },
    {
      "cell_type": "markdown",
      "metadata": {
        "id": "SQNgIZpX5QgW"
      },
      "source": [
        "### 18.sympyの関数をnumpyの関数に変換\n",
        "\n",
        "sym.lambdify(x軸の刻み, sympyの関数f(x), 'numpy')\n",
        "\n",
        "と書くと、sympyの関数をnumpyの関数(というかf(x)にxを入れていった計算結果)が出てくる。\n",
        "そしてmatplotlibでplotできる。\n",
        "\n",
        "こちらのサイトのコードを使わせてもらった。\n",
        "\n",
        "- Python/sympyでテイラー展開した結果をグラフ化する方法\n",
        "    - https://watlab-blog.com/2020/05/05/sympy-taylor-series/\n"
      ]
    },
    {
      "cell_type": "code",
      "execution_count": null,
      "metadata": {
        "id": "tfkKZt495QgW",
        "outputId": "bf3c4ca7-c4e9-4608-99f5-a91869630da0"
      },
      "outputs": [
        {
          "name": "stdout",
          "output_type": "stream",
          "text": [
            "x\n",
            "x\n",
            "-x**3/6 + x\n",
            "-x**3/6 + x\n",
            "x**5/120 - x**3/6 + x\n",
            "x**5/120 - x**3/6 + x\n"
          ]
        },
        {
          "data": {
            "image/png": "[encoded data removed]",
            "text/plain": [
              "<Figure size 432x288 with 1 Axes>"
            ]
          },
          "metadata": {
            "needs_background": "light"
          },
          "output_type": "display_data"
        }
      ],
      "source": [
        "# 理想波形を生成\n",
        "cal_x = np.arange(-10.0, 10.1, 0.1)\n",
        "cal_y = np.sin(cal_x)\n",
        "\n",
        "# シンボルを定義\n",
        "x = sym.Symbol('x')\n",
        "\n",
        "# 任意点周りのテイラー展開を精度違いで計算する\n",
        "sol = []                                                # 結果の入れ物\n",
        "a = 0                                                   # 任意点\n",
        "for i in range(6):\n",
        "    taylor = sym.series(sym.sin(x), x=x, x0=a, n=i+2).removeO() # removeO()で剰余項を除去する\n",
        "    print(taylor)                                       # 式を表示させて確認\n",
        "    taylor_y = sym.lambdify(x, taylor, 'numpy')             # numpyの関数に変換\n",
        "    sol.append(taylor_y(cal_x))                         # 関数に値を入れて曲線を計算\n",
        "\n",
        "# ここからグラフ描画---------------------------------------------------\n",
        "# フォントの種類とサイズを設定する。\n",
        "plt.rcParams['font.size'] = 14\n",
        "plt.rcParams['font.family'] = 'Times New Roman'\n",
        "\n",
        "# 目盛を内側にする。\n",
        "plt.rcParams['xtick.direction'] = 'in'\n",
        "plt.rcParams['ytick.direction'] = 'in'\n",
        "\n",
        "# グラフの上下左右に目盛線を付ける。\n",
        "fig = plt.figure()\n",
        "ax1 = fig.add_subplot(111)\n",
        "ax1.yaxis.set_ticks_position('both')\n",
        "ax1.xaxis.set_ticks_position('both')\n",
        "\n",
        "# 軸のラベルとスケールを設定する。\n",
        "ax1.set_xlabel('x')\n",
        "ax1.set_ylabel('y')\n",
        "ax1.set_xlim(-np.pi*2, np.pi*2)\n",
        "ax1.set_ylim(-2, 2)\n",
        "\n",
        "# データをプロットする。\n",
        "ax1.plot(cal_x, cal_y, label='Theory', lw=3, color='black')\n",
        "for j in range(len(sol)):\n",
        "    ax1.plot(cal_x, sol[j], label='Series:n=' + str(j+2))\n",
        "\n",
        "fig.tight_layout()\n",
        "\n",
        "# グラフを表示する。\n",
        "plt.legend()\n",
        "plt.show()\n",
        "plt.close()"
      ]
    },
    {
      "cell_type": "markdown",
      "metadata": {
        "id": "jqx7S7qw5QgX"
      },
      "source": [
        "### 19. $e^x$のマクローリン展開\n"
      ]
    },
    {
      "cell_type": "code",
      "execution_count": null,
      "metadata": {
        "id": "MEvGC3rW5QgX",
        "outputId": "475a4f11-9e4e-4e06-b740-82a7793a6f34"
      },
      "outputs": [
        {
          "data": {
            "image/png": "[encoded data removed]",
            "text/latex": [
              "$\\displaystyle 1 + x + \\frac{x^{2}}{2} + \\frac{x^{3}}{6} + \\frac{x^{4}}{24} + \\frac{x^{5}}{120} + \\frac{x^{6}}{720} + \\frac{x^{7}}{5040} + \\frac{x^{8}}{40320} + \\frac{x^{9}}{362880} + O\\left(x^{10}\\right)$"
            ],
            "text/plain": [
              "         2    3    4     5     6     7       8       9           \n",
              "        x    x    x     x     x     x       x       x       ⎛ 10⎞\n",
              "1 + x + ── + ── + ── + ─── + ─── + ──── + ───── + ────── + O⎝x  ⎠\n",
              "        2    6    24   120   720   5040   40320   362880         "
            ]
          },
          "metadata": {},
          "output_type": "display_data"
        }
      ],
      "source": [
        "x = sym.Symbol('x')\n",
        "e_taylor = sym.series(sym.exp(x), x, x0=0, n=10)\n",
        "display(e_taylor)\n"
      ]
    },
    {
      "cell_type": "markdown",
      "metadata": {
        "id": "WJXMTjNe5QgY"
      },
      "source": [
        "- ここでsin(x)とcos(x)のマクローリン展開を見てみる\n",
        "- n = 10とすると"
      ]
    },
    {
      "cell_type": "code",
      "execution_count": null,
      "metadata": {
        "id": "7KWSnOzB5QgY",
        "outputId": "b6cb7fe8-f2dc-460e-853e-cfae0aa675b6"
      },
      "outputs": [
        {
          "data": {
            "image/png": "[encoded data removed]",
            "text/latex": [
              "$\\displaystyle x - \\frac{x^{3}}{6} + \\frac{x^{5}}{120} - \\frac{x^{7}}{5040} + \\frac{x^{9}}{362880} + O\\left(x^{10}\\right)$"
            ],
            "text/plain": [
              "     3     5     7       9           \n",
              "    x     x     x       x       ⎛ 10⎞\n",
              "x - ── + ─── - ──── + ────── + O⎝x  ⎠\n",
              "    6    120   5040   362880         "
            ]
          },
          "metadata": {},
          "output_type": "display_data"
        },
        {
          "data": {
            "image/png": "[encoded data removed]",
            "text/latex": [
              "$\\displaystyle 1 - \\frac{x^{2}}{2} + \\frac{x^{4}}{24} - \\frac{x^{6}}{720} + \\frac{x^{8}}{40320} + O\\left(x^{10}\\right)$"
            ],
            "text/plain": [
              "     2    4     6      8          \n",
              "    x    x     x      x      ⎛ 10⎞\n",
              "1 - ── + ── - ─── + ───── + O⎝x  ⎠\n",
              "    2    24   720   40320         "
            ]
          },
          "metadata": {},
          "output_type": "display_data"
        }
      ],
      "source": [
        "x = sym.Symbol('x')\n",
        "sin_taylor = sym.series(sym.sin(x), x, x0=0, n=10)\n",
        "display(sin_taylor)\n",
        "\n",
        "\n",
        "cos_taylor = sym.series(sym.cos(x), x, x0=0, n=10)\n",
        "display(cos_taylor)"
      ]
    },
    {
      "cell_type": "markdown",
      "metadata": {
        "tags": [],
        "id": "efQ-oGOS5QgY"
      },
      "source": [
        "----\n",
        "### 問5. $e^x$と、sin(x)とcos(x)はどういう関係にある？\n",
        "\n",
        "オイラーの公式と見比べると…？\n",
        "\n",
        "$\n",
        "e^{i\\theta} = \\cos \\theta + i \\cdot \\sin \\theta\n",
        "$\n",
        "\n",
        "\n",
        "----"
      ]
    },
    {
      "cell_type": "code",
      "execution_count": null,
      "metadata": {
        "id": "6UYz99NA5QgY",
        "outputId": "3de13ed5-11ca-4179-8d6a-1789f5f4d312"
      },
      "outputs": [
        {
          "data": {
            "image/png": "[encoded data removed]",
            "text/latex": [
              "$\\displaystyle i$"
            ],
            "text/plain": [
              "ⅈ"
            ]
          },
          "metadata": {},
          "output_type": "display_data"
        },
        {
          "data": {
            "image/png": "[encoded data removed]",
            "text/latex": [
              "$\\displaystyle e$"
            ],
            "text/plain": [
              "ℯ"
            ]
          },
          "metadata": {},
          "output_type": "display_data"
        }
      ],
      "source": [
        "# e^(ix) を0付近でテイラー展開する\n",
        "display(sym.I)\n",
        "display(sym.E)\n",
        "\n",
        "x = sym.Symbol('x')\n",
        "f1_taylor = sym.series(_______, x, x0=0, n=10)\n",
        "display(f1_taylor)"
      ]
    },
    {
      "cell_type": "code",
      "execution_count": null,
      "metadata": {
        "id": "I6S2vPSP5QgY"
      },
      "outputs": [],
      "source": [
        "# cos(x) + i*sin(x)を 0付近でテイラー展開する\n",
        "f2_taylor = ____"
      ]
    },
    {
      "cell_type": "markdown",
      "metadata": {
        "id": "2QrdLwhp5QgZ"
      },
      "source": [
        "- ちなみに、sin(x)はnが奇数の時にしか情報が増えない。cosは逆で偶数のときのみ。"
      ]
    },
    {
      "cell_type": "code",
      "execution_count": null,
      "metadata": {
        "tags": [],
        "id": "ZtYMfJ-Z5QgZ",
        "outputId": "aab3f330-e3bd-4f2b-d977-b100ec31074b"
      },
      "outputs": [
        {
          "name": "stdout",
          "output_type": "stream",
          "text": [
            "------------------------------\n",
            "k =  0\n"
          ]
        },
        {
          "data": {
            "image/png": "[encoded data removed]",
            "text/latex": [
              "$\\displaystyle O\\left(1\\right)$"
            ],
            "text/plain": [
              "O(1)"
            ]
          },
          "metadata": {},
          "output_type": "display_data"
        },
        {
          "name": "stdout",
          "output_type": "stream",
          "text": [
            "------------------------------\n",
            "k =  1\n"
          ]
        },
        {
          "data": {
            "image/png": "[encoded data removed]",
            "text/latex": [
              "$\\displaystyle O\\left(x\\right)$"
            ],
            "text/plain": [
              "O(x)"
            ]
          },
          "metadata": {},
          "output_type": "display_data"
        },
        {
          "name": "stdout",
          "output_type": "stream",
          "text": [
            "------------------------------\n",
            "k =  2\n"
          ]
        },
        {
          "data": {
            "image/png": "[encoded data removed]",
            "text/latex": [
              "$\\displaystyle x + O\\left(x^{2}\\right)$"
            ],
            "text/plain": [
              "     ⎛ 2⎞\n",
              "x + O⎝x ⎠"
            ]
          },
          "metadata": {},
          "output_type": "display_data"
        },
        {
          "name": "stdout",
          "output_type": "stream",
          "text": [
            "------------------------------\n",
            "k =  3\n"
          ]
        },
        {
          "data": {
            "image/png": "[encoded data removed]",
            "text/latex": [
              "$\\displaystyle x + O\\left(x^{3}\\right)$"
            ],
            "text/plain": [
              "     ⎛ 3⎞\n",
              "x + O⎝x ⎠"
            ]
          },
          "metadata": {},
          "output_type": "display_data"
        },
        {
          "name": "stdout",
          "output_type": "stream",
          "text": [
            "------------------------------\n",
            "k =  4\n"
          ]
        },
        {
          "data": {
            "image/png": "[encoded data removed]",
            "text/latex": [
              "$\\displaystyle x - \\frac{x^{3}}{6} + O\\left(x^{4}\\right)$"
            ],
            "text/plain": [
              "     3        \n",
              "    x     ⎛ 4⎞\n",
              "x - ── + O⎝x ⎠\n",
              "    6         "
            ]
          },
          "metadata": {},
          "output_type": "display_data"
        },
        {
          "name": "stdout",
          "output_type": "stream",
          "text": [
            "------------------------------\n",
            "k =  5\n"
          ]
        },
        {
          "data": {
            "image/png": "[encoded data removed]",
            "text/latex": [
              "$\\displaystyle x - \\frac{x^{3}}{6} + O\\left(x^{5}\\right)$"
            ],
            "text/plain": [
              "     3        \n",
              "    x     ⎛ 5⎞\n",
              "x - ── + O⎝x ⎠\n",
              "    6         "
            ]
          },
          "metadata": {},
          "output_type": "display_data"
        },
        {
          "name": "stdout",
          "output_type": "stream",
          "text": [
            "------------------------------\n",
            "k =  6\n"
          ]
        },
        {
          "data": {
            "image/png": "[encoded data removed]",
            "text/latex": [
              "$\\displaystyle x - \\frac{x^{3}}{6} + \\frac{x^{5}}{120} + O\\left(x^{6}\\right)$"
            ],
            "text/plain": [
              "     3     5        \n",
              "    x     x     ⎛ 6⎞\n",
              "x - ── + ─── + O⎝x ⎠\n",
              "    6    120        "
            ]
          },
          "metadata": {},
          "output_type": "display_data"
        },
        {
          "name": "stdout",
          "output_type": "stream",
          "text": [
            "------------------------------\n",
            "k =  7\n"
          ]
        },
        {
          "data": {
            "image/png": "[encoded data removed]",
            "text/latex": [
              "$\\displaystyle x - \\frac{x^{3}}{6} + \\frac{x^{5}}{120} + O\\left(x^{7}\\right)$"
            ],
            "text/plain": [
              "     3     5        \n",
              "    x     x     ⎛ 7⎞\n",
              "x - ── + ─── + O⎝x ⎠\n",
              "    6    120        "
            ]
          },
          "metadata": {},
          "output_type": "display_data"
        },
        {
          "name": "stdout",
          "output_type": "stream",
          "text": [
            "------------------------------\n",
            "k =  8\n"
          ]
        },
        {
          "data": {
            "image/png": "[encoded data removed]",
            "text/latex": [
              "$\\displaystyle x - \\frac{x^{3}}{6} + \\frac{x^{5}}{120} - \\frac{x^{7}}{5040} + O\\left(x^{8}\\right)$"
            ],
            "text/plain": [
              "     3     5     7         \n",
              "    x     x     x      ⎛ 8⎞\n",
              "x - ── + ─── - ──── + O⎝x ⎠\n",
              "    6    120   5040        "
            ]
          },
          "metadata": {},
          "output_type": "display_data"
        },
        {
          "name": "stdout",
          "output_type": "stream",
          "text": [
            "------------------------------\n",
            "k =  9\n"
          ]
        },
        {
          "data": {
            "image/png": "[encoded data removed]",
            "text/latex": [
              "$\\displaystyle x - \\frac{x^{3}}{6} + \\frac{x^{5}}{120} - \\frac{x^{7}}{5040} + O\\left(x^{9}\\right)$"
            ],
            "text/plain": [
              "     3     5     7         \n",
              "    x     x     x      ⎛ 9⎞\n",
              "x - ── + ─── - ──── + O⎝x ⎠\n",
              "    6    120   5040        "
            ]
          },
          "metadata": {},
          "output_type": "display_data"
        },
        {
          "name": "stdout",
          "output_type": "stream",
          "text": [
            "------------------------------\n",
            "k =  10\n"
          ]
        },
        {
          "data": {
            "image/png": "[encoded data removed]",
            "text/latex": [
              "$\\displaystyle x - \\frac{x^{3}}{6} + \\frac{x^{5}}{120} - \\frac{x^{7}}{5040} + \\frac{x^{9}}{362880} + O\\left(x^{10}\\right)$"
            ],
            "text/plain": [
              "     3     5     7       9           \n",
              "    x     x     x       x       ⎛ 10⎞\n",
              "x - ── + ─── - ──── + ────── + O⎝x  ⎠\n",
              "    6    120   5040   362880         "
            ]
          },
          "metadata": {},
          "output_type": "display_data"
        }
      ],
      "source": [
        "x = sym.Symbol('x')\n",
        "\n",
        "for k in range(0,11):\n",
        "    print(\"-\"*30)\n",
        "    print(\"k = \",k)\n",
        "    sin_taylor = sym.series(sym.sin(x), x, x0=0, n=k)\n",
        "    display(sin_taylor)\n"
      ]
    },
    {
      "cell_type": "markdown",
      "metadata": {
        "id": "WVuyGJRm5QgZ"
      },
      "source": [
        "----\n",
        "#### フーリエ級数展開の式\n",
        "\n",
        "$$\n",
        "f(x)=\\dfrac{a_0}{2}+\\displaystyle\\sum_{n=1}^{\\infty}\\left(a_n\\cos \\dfrac{2\\pi n x}{T}+b_n\\sin \\dfrac{2\\pi nx}{T}\\right)\n",
        "$$\n",
        "\n",
        "\n",
        "#### フーリエ変換の式\n",
        "\n",
        "- フーリエ変換(波の関数f(x)を周波数の関数F(k)に変換する)\n",
        "$$\n",
        "F(k) = \\int^{\\infty}_{-\\infty} f(x) \\ e^{-ikx} dx\n",
        "$$\n",
        "\n",
        "- フーリエ逆変換(周波数の関数F(k)を波の関数f(x)に変換する)\n",
        "$$\n",
        "f(x) = \\frac{1}{2\\pi} \\, \\int^{\\infty}_{-\\infty} F(k) \\ e^{ikx} dk\n",
        "$$\n",
        "----"
      ]
    },
    {
      "cell_type": "markdown",
      "metadata": {
        "id": "J2DNFmoM5QgZ"
      },
      "source": [
        "$\n",
        "e^{-ikx} = - \\cos kx + i \\sin kx\n",
        "$\n",
        "\n",
        "\n",
        "$$\n",
        "F(k) = \\int^{\\infty}_{-\\infty} f(x) \\ (- \\cos kx + i \\sin kx) dx\n",
        "$$\n",
        "\n",
        "\n",
        "フーリエ級数展開の係数の求め方はこうだった。\n",
        "\n",
        "$a_n=\\dfrac{2}{T}\\displaystyle\\int_0^{T}f(x)\\cos\\dfrac{2\\pi nx}{T}dx$\n",
        "\n",
        "$b_n=\\dfrac{2}{T}\\displaystyle\\int_0^{T}f(x)\\sin\\dfrac{2\\pi nx}{T}dx$\n",
        "\n",
        "フーリエ展開では係数を求める所が中に挟まってまとまっている。(っぽい)"
      ]
    },
    {
      "cell_type": "markdown",
      "metadata": {
        "id": "iKAxB4Da5QgZ"
      },
      "source": [
        "----\n",
        "## 課題6-1. フーリエ変換とフーリエ逆変換によるノイズ除去\n",
        "- 「10. フーリエ変換、逆変換を用いたノイズ除去」の条件で、ノイズの乗った波に対し、周波数2,000Hz以上を除去した場合の波と、周波数1,000Hz以上を除去した場合のグラフを描き、元のグラフと合わせて3つのグラフの画像を提出せよ。\n",
        "    - F が何を表しているのか、よくよく見直してみよう。\n",
        "    - 負の周波数も、対応するところは残しておかないとおかしくなる。\n",
        "- 画像とipynbファイルを提出\n"
      ]
    },
    {
      "cell_type": "markdown",
      "metadata": {
        "id": "motiR-Df5Qga"
      },
      "source": [
        "## 課題6-2. テイラー展開\n",
        "- sin(x)の、x=1付近でのテイラー展開を、n=1から10次項まで求めた場合のグラフを、アニメーションで描いて動画で提出せよ\n",
        "    - 途中増えないけどそれでよし\n",
        "- 動画とipynbファイルを提出\n",
        "    - ipynbファイルは1と共通でも別でも良い\n"
      ]
    },
    {
      "cell_type": "markdown",
      "metadata": {
        "id": "zX7rUTb55Qga"
      },
      "source": [
        "## オプション課題6-3. 離散コサイン変換\n",
        "- 「離散コサイン変換」で検索して調べ、画像の高周波成分を除去した場合について例を示せ\n",
        "\n",
        "- 提出形式は自由"
      ]
    },
    {
      "cell_type": "code",
      "execution_count": null,
      "metadata": {
        "id": "jFX8-1T85Qga"
      },
      "outputs": [],
      "source": []
    }
  ],
  "metadata": {
    "kernelspec": {
      "display_name": "Python 3",
      "language": "python",
      "name": "python3"
    },
    "language_info": {
      "codemirror_mode": {
        "name": "ipython",
        "version": 3
      },
      "file_extension": ".py",
      "mimetype": "text/x-python",
      "name": "python",
      "nbconvert_exporter": "python",
      "pygments_lexer": "ipython3",
      "version": "3.7.3"
    },
    "colab": {
      "provenance": [],
      "include_colab_link": true
    }
  },
  "nbformat": 4,
  "nbformat_minor": 0
}