{
  "cells": [
    {
      "cell_type": "markdown",
      "metadata": {
        "id": "view-in-github",
        "colab_type": "text"
      },
      "source": [
        "<a href=\"https://colab.research.google.com/github/reireu/for-copy/blob/main/dnm2_01s.ipynb\" target=\"_parent\"><img src=\"https://colab.research.google.com/assets/colab-badge.svg\" alt=\"Open In Colab\"/></a>"
      ]
    },
    {
      "cell_type": "markdown",
      "metadata": {
        "id": "2a_-11qmos2E"
      },
      "source": [
        "# データと数理II 第01回 「円の積分をプログラミングして円周率を求める」\n",
        "\n",
        "- 注) 結構各セルの行数が多いのですが、前のセルから変化した点にはコメントが入っているので、参考にしてください。\n",
        "\n"
      ]
    },
    {
      "cell_type": "markdown",
      "metadata": {
        "id": "cjEd8Bfros2I"
      },
      "source": [
        "## グラフの描画の確認"
      ]
    },
    {
      "cell_type": "markdown",
      "metadata": {
        "id": "4wfN60RJos2J"
      },
      "source": [
        "まずはライブラリのimport。"
      ]
    },
    {
      "cell_type": "code",
      "execution_count": null,
      "metadata": {
        "id": "Nr3j7Srcos2J"
      },
      "outputs": [],
      "source": [
        "%matplotlib inline\n",
        "import matplotlib.pyplot as plt\n",
        "import matplotlib.patches as patches\n",
        "import numpy as np"
      ]
    },
    {
      "cell_type": "markdown",
      "metadata": {
        "id": "OjLkoPi3os2L"
      },
      "source": [
        "## matplotlib.pyplotの使い方の確認\n",
        "- 参考文献\n",
        "    - 早く知っておきたかったmatplotlibの基礎知識、あるいは見た目の調整が捗るArtistの話\n",
        "        - https://qiita.com/skotaro/items/08dc0b8c5704c94eafb9\n",
        "    - Pythonを使って二次元座標で任意の点を回転させた\n",
        "        - https://kitsune-no-yomeiri.hatenadiary.jp/entry/2018/05/06/170535\n",
        "    - 公式ドキュメント\n",
        "        - https://matplotlib.org/1.5.1/faq/usage_faq.html"
      ]
    },
    {
      "cell_type": "code",
      "execution_count": null,
      "metadata": {
        "id": "3oo__c1yos2M"
      },
      "outputs": [],
      "source": [
        "x = [1,2,3]\n",
        "y = x\n",
        "\n",
        "fig = plt.figure() # Figureオブジェクトを作成\n",
        "ax = fig.add_subplot(1,1,1) # figに属するAxesオブジェクトを作成\n",
        "ax.plot(x, y) # データをプロット\n",
        "plt.show() # 表示(jupyter notebookeでは無くても表示される)"
      ]
    },
    {
      "cell_type": "code",
      "execution_count": null,
      "metadata": {
        "id": "Z2kedv4bos2M"
      },
      "outputs": [],
      "source": [
        "x = [1,2,3]\n",
        "y = x\n",
        "\n",
        "fig = plt.figure()\n",
        "ax = fig.add_subplot(1,1,1)\n",
        "ax.set_aspect('equal') #軸の縦横比を同じにする\n",
        "ax.plot(x, y)\n",
        "plt.show()"
      ]
    },
    {
      "cell_type": "code",
      "execution_count": null,
      "metadata": {
        "id": "dIz48AaJos2N"
      },
      "outputs": [],
      "source": [
        "x = np.array([1,2,3]) # numpyのarrayでxを表現\n",
        "y = -x + 4 # 式の変更\n",
        "\n",
        "fig = plt.figure()\n",
        "ax = fig.add_subplot(1,1,1)\n",
        "ax.set_aspect('equal')\n",
        "ax.plot(x, y)\n",
        "plt.show()"
      ]
    },
    {
      "cell_type": "code",
      "execution_count": null,
      "metadata": {
        "id": "dFsodzDAos2N"
      },
      "outputs": [],
      "source": [
        "x = np.arange(0,10,0.2) # x軸の範囲と細かさを指定(numpy array形式になる)\n",
        "y = np.sin(x) # y を xの関数で表現(して計算)\n",
        "\n",
        "fig = plt.figure()\n",
        "ax = fig.add_subplot(1,1,1)\n",
        "\n",
        "ax.plot(x,y)\n",
        "ax.plot(x,y+1) # plot は何個も追加できる\n",
        "plt.show()"
      ]
    },
    {
      "cell_type": "code",
      "execution_count": null,
      "metadata": {
        "id": "xKf08RSnos2O"
      },
      "outputs": [],
      "source": [
        "x = np.arange(0,10,0.2)\n",
        "y = np.sin(x)\n",
        "\n",
        "fig = plt.figure()\n",
        "ax = fig.add_subplot(1,1,1)\n",
        "\n",
        "ax.set_title('title') # グラフタイトル\n",
        "ax.set_xlabel('x axis') # x軸ラベル\n",
        "ax.set_ylabel('y axis') # y軸ラベル\n",
        "ax.axis([0,15,-3,3]) # 軸の表示範囲を設定。([x0,x1, y0,y1])\n",
        "ax.set_aspect('equal')\n",
        "\n",
        "ax.plot(x,y)\n",
        "ax.plot(x,y+1)\n",
        "plt.show()"
      ]
    },
    {
      "cell_type": "code",
      "execution_count": null,
      "metadata": {
        "id": "ZzPVCpoQos2O"
      },
      "outputs": [],
      "source": [
        "x = np.arange(0,10,0.2)\n",
        "print(x)\n",
        "y = np.sin(x)\n",
        "print(y)\n",
        "\n",
        "a = range(10)\n",
        "print(list(a))"
      ]
    },
    {
      "cell_type": "code",
      "execution_count": null,
      "metadata": {
        "id": "dGuyQde3os2O"
      },
      "outputs": [],
      "source": [
        "x = np.arange(0,10,0.5) # 点のとり方を荒くする\n",
        "y = np.sin(x)\n",
        "\n",
        "fig = plt.figure()\n",
        "ax = fig.add_subplot(1,1,1)\n",
        "\n",
        "ax.plot(x,y)\n",
        "plt.show()"
      ]
    },
    {
      "cell_type": "code",
      "execution_count": null,
      "metadata": {
        "id": "pn4-ncpLos2P"
      },
      "outputs": [],
      "source": [
        "x = np.arange(0,10,0.5)\n",
        "y = np.sin(x)\n",
        "\n",
        "fig = plt.figure()\n",
        "ax = fig.add_subplot(1,1,1)\n",
        "\n",
        "ax.plot(x,y, marker='.', markersize=5) # 点のところにマーカーを付けて強調する\n",
        "plt.show()"
      ]
    },
    {
      "cell_type": "code",
      "execution_count": null,
      "metadata": {
        "id": "6sGeGrWaos2P"
      },
      "outputs": [],
      "source": [
        "x = np.arange(0,10,0.5)\n",
        "y = np.sin(x)\n",
        "\n",
        "fig = plt.figure()\n",
        "ax = fig.add_subplot(1,1,1)\n",
        "\n",
        "ax.plot(x,y, marker='.', markersize=10, linestyle='None') # 自動で付いていた補完の線を消す\n",
        "plt.show()"
      ]
    },
    {
      "cell_type": "code",
      "execution_count": null,
      "metadata": {
        "id": "wbEhiS5Mos2P"
      },
      "outputs": [],
      "source": [
        "x = np.arange(0,10,0.05) # 点のとり方を細かくする\n",
        "y = np.sin(x)\n",
        "\n",
        "fig = plt.figure()\n",
        "ax = fig.add_subplot(1,1,1)\n",
        "\n",
        "ax.plot(x,y, marker='.', markersize=2, linestyle='None') # マーカーを小さくする\n",
        "plt.show()"
      ]
    },
    {
      "cell_type": "markdown",
      "metadata": {
        "id": "bH9xZH8nos2Q"
      },
      "source": [
        "## matplotlib.patchの使い方の確認\n",
        "- 参考文献\n",
        "    - Matplotlibで円や長方形などの図形を描画\n",
        "        - https://note.nkmk.me/python-matplotlib-patches-circle-rectangle/"
      ]
    },
    {
      "cell_type": "code",
      "execution_count": null,
      "metadata": {
        "id": "Y78adTHmos2Q"
      },
      "outputs": [],
      "source": [
        "fig = plt.figure()\n",
        "ax = plt.axes()\n",
        "\n",
        "# fc = face color, ec = edge color\n",
        "c = patches.Circle(xy=(0, 0), radius=0.5, fc='lime', ec='m') # 円を作る\n",
        "r = patches.Rectangle(xy=(0, 0), width=0.25, height=0.5, ec='#000000', fill=False) #長方形を作る\n",
        "ax.add_patch(c) # 円を追加\n",
        "ax.add_patch(r) # 長方形を追加\n",
        "\n",
        "ax.axis([-1.0,1.0,-1.0,1.0]) # 軸の表示範囲を設定。([x0,x1, y0,y1])\n",
        "ax.set_aspect('equal')\n",
        "plt.show()"
      ]
    },
    {
      "cell_type": "markdown",
      "metadata": {
        "id": "bl0x6EUGos2Q"
      },
      "source": [
        "- 色指定の例\n",
        "\n",
        "b: blue  \n",
        "g: green  \n",
        "r: red  \n",
        "c: cyan  \n",
        "m: magenta  \n",
        "y: yellow  \n",
        "k: black  \n",
        "w: white  \n",
        "'000000' :黒  \n",
        "'FFFFFF' :白"
      ]
    },
    {
      "cell_type": "markdown",
      "metadata": {
        "id": "O6jRjcRuos2Q"
      },
      "source": [
        "## 座標軸の設定"
      ]
    },
    {
      "cell_type": "code",
      "execution_count": null,
      "metadata": {
        "id": "i1chuvDnos2R"
      },
      "outputs": [],
      "source": [
        "x = np.array([0,1,2,3])\n",
        "y = x\n",
        "\n",
        "fig = plt.figure()\n",
        "ax = fig.add_subplot(1,1,1)\n",
        "ax.set_aspect('equal')\n",
        "\n",
        "#軸の調整\n",
        "#right と top はただの線\n",
        "#bottom と left はラベルが入る軸\n",
        "\n",
        "ax.spines['right'].set_visible(False) # 右の枠線を消す\n",
        "#ax.spines['right'].set_color('none') # 上の行と同じ結果になる。右の枠線の色を消す。\n",
        "\n",
        "ax.spines['top'].set_visible(False) # 上の枠線を消す\n",
        "#ax.spines['top'].set_color('none') # 上の行と同じ結果になる。上の枠線の色を消す。\n",
        "\n",
        "ax.spines['bottom'].set_position('zero') #x軸の位置を0にする\n",
        "#ax.spines['bottom'].set_position(('data',0)) # 上の行と同じ意味になる。数値指定する場合の書き方。\n",
        "\n",
        "ax.spines['left'].set_position('zero') #y軸の位置を0にする\n",
        "#ax.spines['left'].set_position(('data',0)) # 上の行と同じ意味になる。数値指定する場合の書き方。\n",
        "\n",
        "ax.xaxis.set_ticks_position('bottom') # x軸のラベル(ヒゲ)の位置。bottomはデフォルトなので書かなくても大丈夫。noneにすると消える。\n",
        "ax.yaxis.set_ticks_position('left') # y軸のラベル(ヒゲ)の位置。leftはデフォルトなので書かなくても大丈夫。noneにすると消える。\n",
        "\n",
        "ax.axis([-1.0,4.0,-1.0,4.0]) # 軸の表示範囲を設定。([x0,x1, y0,y1])\n",
        "ax.grid() # グラフにグリッドを追加\n",
        "\n",
        "ax.plot(x, y)\n",
        "plt.show()"
      ]
    },
    {
      "cell_type": "code",
      "execution_count": null,
      "metadata": {
        "id": "0fB8m1WFos2R"
      },
      "outputs": [],
      "source": [
        "x = np.array([0,1,2,3])\n",
        "y = x\n",
        "\n",
        "fig = plt.figure(figsize=(5,5), dpi=150) # サイズとdpiの指定\n",
        "ax = fig.add_subplot(1,1,1)\n",
        "ax.set_aspect('equal')\n",
        "\n",
        "#軸の調整\n",
        "#right と top はただの線\n",
        "#bottom と left はラベルが入る軸\n",
        "\n",
        "ax.spines['right'].set_visible(False)\n",
        "ax.spines['top'].set_visible(False)\n",
        "ax.spines['bottom'].set_position('zero')\n",
        "ax.spines['left'].set_position('zero')\n",
        "ax.axis([-1.0,4.0,-1.0,4.0])\n",
        "ax.grid()\n",
        "\n",
        "ax.plot(x, y)\n",
        "plt.show()\n"
      ]
    },
    {
      "cell_type": "markdown",
      "metadata": {
        "id": "U_sGNAG2os2R"
      },
      "source": [
        "## numpy.arangeの確認"
      ]
    },
    {
      "cell_type": "code",
      "execution_count": null,
      "metadata": {
        "id": "601XLrGKos2R"
      },
      "outputs": [],
      "source": [
        "x1 = np.arange(0,10,0.2)\n",
        "print(x1)\n",
        "x2 = np.arange(0,10,0.1) #刻みを細かくする\n",
        "print(x2)"
      ]
    },
    {
      "cell_type": "markdown",
      "metadata": {
        "id": "-oYhkPiOos2S"
      },
      "source": [
        "----\n",
        "----\n",
        "\n",
        "\n",
        "# 第01回のコンテンツ\n",
        "## まずは簡単な積分から\n",
        "- 区分求積法で積分のイメージをつかもう\n",
        "\n",
        "### 1.元の関数の式に、等間隔で点を打ってみる"
      ]
    },
    {
      "cell_type": "code",
      "execution_count": null,
      "metadata": {
        "id": "pNrBWwMOos2S"
      },
      "outputs": [],
      "source": [
        "x0 = np.array([0,1,2,3]) # 目標とする式のx\n",
        "y0 = x0 # 目標とする式のy\n",
        "\n",
        "fig = plt.figure()\n",
        "ax = fig.add_subplot(1,1,1)\n",
        "\n",
        "ax.set_aspect('equal')\n",
        "ax.spines['right'].set_visible(False)\n",
        "ax.spines['top'].set_visible(False)\n",
        "ax.spines['bottom'].set_position('zero')\n",
        "ax.spines['left'].set_position('zero')\n",
        "ax.grid()\n",
        "\n",
        "x = np.arange(0,3, 0.2) # 積分計算のためのx\n",
        "y = x # 積分計算のためのy(目標とする式のyと同じにする)\n",
        "\n",
        "ax.plot(x0, y0) # 目標とする式\n",
        "ax.plot(x,y, marker='.', color='red', markersize=2, linestyle='None') # 積分のための点\n",
        "\n",
        "ax.axis([-1.0,4.0,-1.0,4.0])\n",
        "plt.show()"
      ]
    },
    {
      "cell_type": "markdown",
      "metadata": {
        "id": "D0D9dzcNos2S"
      },
      "source": [
        "### 2.長方形を描いて面積を求める"
      ]
    },
    {
      "cell_type": "code",
      "execution_count": null,
      "metadata": {
        "id": "GBtSpGqsos2S"
      },
      "outputs": [],
      "source": [
        "x0 = np.array([0,1,2,3])\n",
        "y0 = x0\n",
        "\n",
        "fig = plt.figure()\n",
        "ax = fig.add_subplot(1,1,1)\n",
        "\n",
        "ax.set_aspect('equal')\n",
        "ax.spines['right'].set_visible(False)\n",
        "ax.spines['top'].set_visible(False)\n",
        "ax.spines['bottom'].set_position('zero')\n",
        "ax.spines['left'].set_position('zero')\n",
        "ax.grid()\n",
        "\n",
        "haba = 0.2 # 積分区間の区切りの細かさ\n",
        "x = np.arange(0,3, haba) # haba を使った表記に\n",
        "y = x\n",
        "\n",
        "area_sum = 0 # 面積の合計\n",
        "\n",
        "for i in range(len(x)):\n",
        "    # habaの幅、y[i] の高さ(0からの距離)の長方形\n",
        "    r = patches.Rectangle(xy=(x[i], 0), width=haba, height=y[i], ec='000000', fc='#EEEEEE')\n",
        "    ax.add_patch(r)\n",
        "    area_sum += y[i] * haba # 四角形の面積を足す\n",
        "\n",
        "ax.plot(x0, y0)\n",
        "\n",
        "ax.axis([-1.0,4.0,-1.0,4.0])\n",
        "\n",
        "plt.show()\n",
        "\n",
        "print(\"area_sum: \", area_sum) # 面積の合計を表示"
      ]
    },
    {
      "cell_type": "markdown",
      "metadata": {
        "id": "ykq1aE7Fos2T"
      },
      "source": [
        "----\n",
        "### 問1: 本当の値は何になるはず？\n",
        "\n",
        "----"
      ]
    },
    {
      "cell_type": "markdown",
      "metadata": {
        "id": "Cj3V4Jntos2T"
      },
      "source": [
        "## 端の処理1\n",
        "### 3. 割り切れなかった場合はどうなる？"
      ]
    },
    {
      "cell_type": "code",
      "execution_count": null,
      "metadata": {
        "id": "jnMAvVCSos2T"
      },
      "outputs": [],
      "source": [
        "x0 = np.array([0,1,2,3,4]) # ちょっと区間を伸ばす\n",
        "y0 = x0\n",
        "\n",
        "fig = plt.figure()\n",
        "ax = fig.add_subplot(1,1,1)\n",
        "\n",
        "ax.set_aspect('equal')\n",
        "ax.spines['right'].set_visible(False)\n",
        "ax.spines['top'].set_visible(False)\n",
        "ax.spines['bottom'].set_position('zero')\n",
        "ax.spines['left'].set_position('zero')\n",
        "ax.grid()\n",
        "\n",
        "haba = 0.3 # 4 を整数倍で割り切れない幅を設定\n",
        "x = np.arange(0,4, haba)\n",
        "y = x\n",
        "\n",
        "area_sum = 0\n",
        "\n",
        "for i in range(len(x)):\n",
        "    r = patches.Rectangle(xy=(x[i], 0), width=haba, height=y[i], ec='#000000', fc='#EEEEEE')\n",
        "    ax.add_patch(r)\n",
        "    area_sum += y[i] * haba\n",
        "\n",
        "ax.plot(x0, y0)\n",
        "\n",
        "ax.axis([-1.0,5.0,-1.0,5.0]) # 軸の表示範囲を設定。([x0,x1, y0,y1])\n",
        "plt.show()\n",
        "print(\"area_sum: \", area_sum)"
      ]
    },
    {
      "cell_type": "markdown",
      "metadata": {
        "id": "8yAXNkvjos2T"
      },
      "source": [
        "### 4. 端の処理法1:定義域を越えた分は無視する"
      ]
    },
    {
      "cell_type": "code",
      "execution_count": null,
      "metadata": {
        "id": "-JX8ceNjos2T"
      },
      "outputs": [],
      "source": [
        "x0 = np.array([0,1,2,3,4])\n",
        "y0 = x0\n",
        "\n",
        "fig = plt.figure()\n",
        "ax = fig.add_subplot(1,1,1)\n",
        "\n",
        "ax.set_aspect('equal')\n",
        "ax.spines['right'].set_visible(False)\n",
        "ax.spines['top'].set_visible(False)\n",
        "ax.spines['bottom'].set_position('zero')\n",
        "ax.spines['left'].set_position('zero')\n",
        "ax.grid()\n",
        "\n",
        "haba = 0.3\n",
        "x = np.arange(0,4, haba)\n",
        "y = x\n",
        "\n",
        "last = 4 # xの定義域の上限\n",
        "area_sum = 0 # 面積の合計\n",
        "\n",
        "for i in range(len(x)):\n",
        "    # 定義域を越えた分は無視する\n",
        "    if x[i] + haba > last:\n",
        "        continue\n",
        "\n",
        "    r = patches.Rectangle(xy=(x[i], 0), width=haba, height=y[i], ec='#000000', fc='#EEEEEE')\n",
        "    ax.add_patch(r)\n",
        "    area_sum += y[i] * haba\n",
        "\n",
        "ax.plot(x0, y0)\n",
        "\n",
        "ax.axis([-1.0,5.0,-1.0,5.0])\n",
        "plt.show()\n",
        "print(\"area_sum: \", area_sum)"
      ]
    },
    {
      "cell_type": "markdown",
      "metadata": {
        "id": "t8y0zJ6Ios2U"
      },
      "source": [
        "### 5.端の処理法2:定義域を越えた分は定義域までの面積にする"
      ]
    },
    {
      "cell_type": "code",
      "execution_count": null,
      "metadata": {
        "id": "2wfMV4Sdos2U"
      },
      "outputs": [],
      "source": [
        "x0 = np.array([0,1,2,3,4])\n",
        "y0 = x0\n",
        "\n",
        "fig = plt.figure()\n",
        "ax = fig.add_subplot(1,1,1)\n",
        "\n",
        "ax.set_aspect('equal')\n",
        "ax.spines['right'].set_visible(False)\n",
        "ax.spines['top'].set_visible(False)\n",
        "ax.spines['bottom'].set_position('zero')\n",
        "ax.spines['left'].set_position('zero')\n",
        "ax.grid()\n",
        "\n",
        "haba = 0.3\n",
        "x = np.arange(0,4, haba)\n",
        "y = x\n",
        "\n",
        "last = 4 # xの定義域の上限\n",
        "area_sum = 0 # 面積の合計\n",
        "\n",
        "for i in range(len(x)):\n",
        "    # 定義域を越えた分は定義域までの面積にする\n",
        "    if x[i] + haba > last:\n",
        "        haba2 = last - x[i]\n",
        "    else:\n",
        "        haba2 = haba\n",
        "\n",
        "    r = patches.Rectangle(xy=(x[i], 0), width=haba2, height=y[i], ec='#000000', fc='#EEEEEE') # habaをhaba2に\n",
        "    ax.add_patch(r)\n",
        "    area_sum += y[i] * haba2\n",
        "\n",
        "ax.plot(x0, y0)\n",
        "\n",
        "ax.axis([-1.0,5.0,-1.0,5.0])\n",
        "plt.show()\n",
        "print(\"area_sum: \", area_sum)"
      ]
    },
    {
      "cell_type": "markdown",
      "metadata": {
        "id": "6nn1t5tcos2V"
      },
      "source": [
        "### ここで一度「極限」を体験してみよう！\n",
        "----\n",
        "### 問2：上２つの方式のhabaを小さくするとどうなる？\n",
        "- 値がいくつに収束するか確認しよう\n",
        "\n",
        "----\n"
      ]
    },
    {
      "cell_type": "markdown",
      "metadata": {
        "id": "7putuKVMos2V"
      },
      "source": [
        "## 端の処理2\n",
        "### 6.減少関数だとどうなる？"
      ]
    },
    {
      "cell_type": "code",
      "execution_count": null,
      "metadata": {
        "id": "ffRE-JoUos2V"
      },
      "outputs": [],
      "source": [
        "x0 = np.array([0,1,2,3,4])\n",
        "y0 = -x0 + 4 # 式の変更\n",
        "\n",
        "fig = plt.figure()\n",
        "ax = fig.add_subplot(1,1,1)\n",
        "\n",
        "ax.set_aspect('equal')\n",
        "ax.spines['right'].set_visible(False)\n",
        "ax.spines['top'].set_visible(False)\n",
        "ax.spines['bottom'].set_position('zero')\n",
        "ax.spines['left'].set_position('zero')\n",
        "ax.grid()\n",
        "\n",
        "haba = 0.3\n",
        "x = np.arange(0,4, haba)\n",
        "y = -x + 4 # 式の変更\n",
        "\n",
        "last = 4\n",
        "area_sum = 0\n",
        "\n",
        "for i in range(len(x)):\n",
        "    if x[i] + haba > last:\n",
        "        continue\n",
        "\n",
        "    r = patches.Rectangle(xy=(x[i], 0), width=haba, height=y[i], ec='#000000', fc='#EEEEEE')\n",
        "    ax.add_patch(r)\n",
        "    area_sum += y[i] * haba\n",
        "\n",
        "ax.plot(x0, y0)\n",
        "\n",
        "ax.axis([-1.0,5.0,-1.0,5.0])\n",
        "plt.show()\n",
        "print(\"area_sum: \", area_sum)"
      ]
    },
    {
      "cell_type": "markdown",
      "metadata": {
        "id": "AYubjX91os2W"
      },
      "source": [
        "### 6.減少している場合は、値が小さい方に合わせる\n",
        "----\n",
        "### 問3: 長方形の高さを低い方に合わせるプログラムを書こう\n",
        "- 2つの引数のうち小さい方を返す関数 return_lower1を定義しよう\n",
        "- x[i] と x[i+1] のときのyをy1とy2として定義しよう\n",
        "\n",
        "----"
      ]
    },
    {
      "cell_type": "code",
      "execution_count": null,
      "metadata": {
        "id": "VVcHuExcos2W"
      },
      "outputs": [],
      "source": [
        "def return_lower1(y1, y2):\n",
        "    ######################################\n",
        "    # この下にコードを追加しよう\n",
        "    # yi = y1 と y2 のうち 小さい方をyiに入れる(if文を使う)\n",
        "    ######################################\n",
        "\n",
        "    return yi"
      ]
    },
    {
      "cell_type": "code",
      "execution_count": null,
      "metadata": {
        "id": "ioFkjFbios2X"
      },
      "outputs": [],
      "source": [
        "x0 = np.array([0,1,2,3,4])\n",
        "y0 = -x0 + 4 # 式の変更\n",
        "\n",
        "fig = plt.figure()\n",
        "ax = fig.add_subplot(1,1,1)\n",
        "\n",
        "ax.set_aspect('equal')\n",
        "ax.spines['right'].set_visible(False)\n",
        "ax.spines['top'].set_visible(False)\n",
        "ax.spines['bottom'].set_position('zero')\n",
        "ax.spines['left'].set_position('zero')\n",
        "ax.grid()\n",
        "\n",
        "haba = 0.3\n",
        "x = np.arange(0,4, haba)\n",
        "y = -x + 4 # 式の変更\n",
        "\n",
        "last = 4\n",
        "area_sum = 0\n",
        "\n",
        "for i in range(len(x)):\n",
        "    if x[i] + haba > last:\n",
        "        continue\n",
        "\n",
        "    ######################################\n",
        "    # この下にコードを追加しよう\n",
        "    # y1 = x[i] のときのy # 長方形の左側の高さ。\n",
        "    # y2 = x[i+1] のときのy(ただしx[i+1]と書くと端でエラーになることがある) # 長方形の右側の高さ。\n",
        "    ######################################\n",
        "\n",
        "    yi = return_lower1(y1,y2)\n",
        "\n",
        "    r = patches.Rectangle(xy=(x[i], 0), width=haba, height=yi, ec='#000000', fc='#EEEEEE') # 高さをyiに\n",
        "    ax.add_patch(r)\n",
        "    area_sum += yi * haba # 高さをyiに\n",
        "\n",
        "ax.plot(x0, y0)\n",
        "\n",
        "ax.axis([-1.0,5.0,-1.0,5.0])\n",
        "plt.show()\n",
        "print(\"area_sum: \", area_sum)"
      ]
    },
    {
      "cell_type": "markdown",
      "metadata": {
        "id": "Jb0rWzBEos2X"
      },
      "source": [
        "## 式は1度定義して使いまわしたい\n",
        "### 7. 関数(数学)を関数(プログラミング)で定義\n",
        "\n",
        "np.arrayを入れたときと、数値単体を入れたときの挙動を確認"
      ]
    },
    {
      "cell_type": "code",
      "execution_count": null,
      "metadata": {
        "id": "N7Xi2QVoos2X"
      },
      "outputs": [],
      "source": [
        "def here_function(x):\n",
        "    y = -x + 4\n",
        "    return y\n",
        "\n",
        "x = np.array([0,1,2,3]) # ただのarray\n",
        "y = here_function(x)\n",
        "print(y)\n",
        "\n",
        "x = np.arange(0,4,0.2) # np.arangeで作るarray\n",
        "y = here_function(x)\n",
        "print(y)\n",
        "\n",
        "x = np.arange(0, 10, 0.2) # より刻みを細かくしたもの\n",
        "y = np.sin(x)\n",
        "print(y)\n",
        "\n",
        "x = 2 # 数値単体\n",
        "y = here_function(x)\n",
        "print(y)"
      ]
    },
    {
      "cell_type": "markdown",
      "metadata": {
        "id": "sOnYuKi5os2Y"
      },
      "source": [
        "### 8.これまで作ってきたプログラムの、数式を一度定義して使い回すバージョン"
      ]
    },
    {
      "cell_type": "code",
      "execution_count": null,
      "metadata": {
        "id": "nTLlnl4Fos2Y"
      },
      "outputs": [],
      "source": [
        "# 関数(数学的な意味)を関数(プログラミング的な意味)で定義\n",
        "def here_function(x):\n",
        "    y = -x + 4\n",
        "    return y\n",
        "\n",
        "start = 0 # 目標の式と積分のためのxは共通なので、共通にする\n",
        "last = 4 # 目標の式と積分のためのxは共通なので、共通にする\n",
        "\n",
        "x0 = np.arange(start,last, 0.01) # 目標とする式なので細かめに表現\n",
        "y0 = here_function(x0) # 関数を使ったyの計算\n",
        "\n",
        "fig = plt.figure()\n",
        "ax = fig.add_subplot(1,1,1)\n",
        "\n",
        "ax.set_aspect('equal')\n",
        "ax.spines['right'].set_visible(False)\n",
        "ax.spines['top'].set_visible(False)\n",
        "ax.spines['bottom'].set_position('zero')\n",
        "ax.spines['left'].set_position('zero')\n",
        "ax.grid()\n",
        "\n",
        "haba = 0.3\n",
        "x = np.arange(start,last, haba) # startとlastを使った定義\n",
        "y = here_function(x) # 関数を使ったyの計算\n",
        "\n",
        "area_sum = 0\n",
        "\n",
        "for i in range(len(x)):\n",
        "    if x[i] + haba > last:\n",
        "        continue\n",
        "\n",
        "    y1 = y[i] # 長方形の左側の高さ。\n",
        "    y2 = here_function(x[i]+ haba) # 関数を使ったyの計算\n",
        "    yi = return_lower1(y1,y2)\n",
        "\n",
        "    r = patches.Rectangle(xy=(x[i], 0), width=haba, height=yi, ec='#000000', fc='#EEEEEE') # 高さをyiに\n",
        "    ax.add_patch(r)\n",
        "    area_sum += yi * haba # 高さをyiに\n",
        "\n",
        "\n",
        "ax.plot(x0, y0)\n",
        "\n",
        "ax.axis([-1.0,5.0,-1.0,5.0])\n",
        "plt.show()\n",
        "print(\"area_sum: \", area_sum)"
      ]
    },
    {
      "cell_type": "markdown",
      "metadata": {
        "id": "mX60a14Dos2Z"
      },
      "source": [
        "## 様々な式で試してみよう！\n",
        "### 9.２次方程式で試してみる"
      ]
    },
    {
      "cell_type": "code",
      "execution_count": null,
      "metadata": {
        "id": "yzhkTRU6os2Z"
      },
      "outputs": [],
      "source": [
        "def here_function(x):\n",
        "    y = x**2\n",
        "    return y\n",
        "\n",
        "start = 0\n",
        "last = 4\n",
        "\n",
        "x0 = np.arange(start,last, 0.01) # 目標とする式なので細かめに表現\n",
        "y0 = here_function(x0)\n",
        "\n",
        "fig = plt.figure()\n",
        "ax = fig.add_subplot(1,1,1)\n",
        "\n",
        "#ax.set_aspect('equal') # 見にくかったら外しても良い\n",
        "ax.spines['right'].set_visible(False)\n",
        "ax.spines['top'].set_visible(False)\n",
        "ax.spines['bottom'].set_position('zero')\n",
        "ax.spines['left'].set_position('zero')\n",
        "ax.grid()\n",
        "\n",
        "haba = 0.1\n",
        "x = np.arange(start,last, haba)\n",
        "y = here_function(x)\n",
        "\n",
        "last = 4\n",
        "area_sum = 0\n",
        "\n",
        "for i in range(len(x)):\n",
        "    if x[i] + haba > last:\n",
        "        continue\n",
        "\n",
        "    y1 = y[i]\n",
        "    y2 = here_function(x[i]+ haba)\n",
        "    yi = return_lower1(y1,y2)\n",
        "\n",
        "    r = patches.Rectangle(xy=(x[i], 0), width=haba, height=yi, ec='#000000', fc='#EEEEEE')\n",
        "    ax.add_patch(r)\n",
        "    area_sum += yi * haba\n",
        "\n",
        "ax.plot(x0, y0)\n",
        "\n",
        "ax.axis([-1.0,5.0,-1.0,20.0]) # 見にくかったら外しても良い\n",
        "plt.show()\n",
        "print(\"area_sum: \", area_sum)"
      ]
    },
    {
      "cell_type": "markdown",
      "metadata": {
        "id": "TxJcyAcpos2Z"
      },
      "source": [
        "----\n",
        "### 問4: 実際の積分計算をして比較してみよう！\n",
        "- $\\int^4_0 x^2 dx$\n",
        "\n",
        "#### habaを小さくしてその値に近づくか試してみよう\n",
        "\n",
        "----"
      ]
    },
    {
      "cell_type": "markdown",
      "metadata": {
        "id": "Lxct2qt8os2a"
      },
      "source": [
        "### 10. 三角関数で試してみよう"
      ]
    },
    {
      "cell_type": "code",
      "execution_count": null,
      "metadata": {
        "id": "ifGBrE6los2a"
      },
      "outputs": [],
      "source": [
        "def here_function(x):\n",
        "    y = np.sin(x)\n",
        "    return y\n",
        "\n",
        "start = 0\n",
        "last = 2 * np.pi # 定義域を2πまでとする\n",
        "\n",
        "x0 = np.arange(start,last, 0.01)\n",
        "y0 = here_function(x0)\n",
        "\n",
        "fig = plt.figure()\n",
        "ax = fig.add_subplot(1,1,1)\n",
        "\n",
        "#ax.set_aspect('equal') # 見にくかったら外しても良い\n",
        "ax.spines['right'].set_visible(False)\n",
        "ax.spines['top'].set_visible(False)\n",
        "ax.spines['bottom'].set_position('zero')\n",
        "ax.spines['left'].set_position('zero')\n",
        "ax.grid()\n",
        "\n",
        "haba = 0.1\n",
        "x = np.arange(start,last, haba)\n",
        "y = here_function(x)\n",
        "\n",
        "area_sum = 0\n",
        "\n",
        "for i in range(len(x)):\n",
        "    if x[i] + haba > last:\n",
        "        continue\n",
        "\n",
        "    y1 = y[i]\n",
        "    y2 = here_function(x[i]+ haba)\n",
        "    yi = return_lower1(y1,y2)\n",
        "\n",
        "    r = patches.Rectangle(xy=(x[i], 0), width=haba, height=yi, ec='#000000', fc='#EEEEEE')\n",
        "    ax.add_patch(r)\n",
        "    area_sum += yi * haba\n",
        "\n",
        "ax.plot(x0, y0)\n",
        "\n",
        "#ax.axis([-1.0,5.0,-1.0,20.0]) # 見にくかったら外しても良い\n",
        "plt.show()\n",
        "print(\"area_sum: \", area_sum)"
      ]
    },
    {
      "cell_type": "markdown",
      "metadata": {
        "id": "GQc2ieV0os2a"
      },
      "source": [
        "### うまくいかなかった！\n",
        "### 11.関数が負の値を取るときでも上手くいくプログラム\n",
        "----\n",
        "### 問5: 四角形がx軸から見て内側に収まるように直してみよう\n",
        "- 2つの引数の値の符号を考慮して、2つの引数のうち0からの距離が小さい方を返す関数 return_lower2を定義しよう\n",
        "- xの区間の中で正負が逆転するときは0としよう\n",
        "----"
      ]
    },
    {
      "cell_type": "code",
      "execution_count": null,
      "metadata": {
        "id": "WGQurKYxos2a"
      },
      "outputs": [],
      "source": [
        "def return_lower2(y1,y2):\n",
        "    ######################################\n",
        "    # ここにコードを追加しよう\n",
        "    # 長方形の左端と右端で符号が違ったら0とする\n",
        "    # x軸からの距離が近い方をyiに採用する\n",
        "    ######################################\n"
      ]
    },
    {
      "cell_type": "code",
      "execution_count": null,
      "metadata": {
        "id": "4zjcfZleos2a"
      },
      "outputs": [],
      "source": [
        "def here_function(x):\n",
        "    y = np.sin(x)\n",
        "    return y\n",
        "\n",
        "start = 0\n",
        "last = 2 * np.pi\n",
        "\n",
        "x0 = np.arange(start,last, 0.01)\n",
        "y0 = here_function(x0)\n",
        "\n",
        "fig = plt.figure()\n",
        "ax = fig.add_subplot(1,1,1)\n",
        "\n",
        "#ax.set_aspect('equal') # 見にくかったら外しても良い\n",
        "ax.spines['right'].set_visible(False)\n",
        "ax.spines['top'].set_visible(False)\n",
        "ax.spines['bottom'].set_position('zero')\n",
        "ax.spines['left'].set_position('zero')\n",
        "ax.grid()\n",
        "\n",
        "haba = 0.1\n",
        "x = np.arange(start,last, haba)\n",
        "y = here_function(x)\n",
        "\n",
        "area_sum = 0\n",
        "\n",
        "for i in range(len(x)):\n",
        "    if x[i] + haba > last:\n",
        "        continue\n",
        "\n",
        "    y1 = y[i]\n",
        "    y2 = here_function(x[i]+ haba)\n",
        "    yi = return_lower2(y1, y2) # ここに新たな関数を追加\n",
        "\n",
        "    r = patches.Rectangle(xy=(x[i], 0), width=haba, height=yi, ec='#000000', fc='#EEEEEE')\n",
        "    ax.add_patch(r)\n",
        "    area_sum += yi * haba\n",
        "\n",
        "ax.plot(x0, y0)\n",
        "\n",
        "#ax.axis([-1.0,5.0,-1.0,20.0]) # 見にくかったら外しても良い\n",
        "plt.show()\n",
        "print(\"area_sum: \", area_sum)"
      ]
    },
    {
      "cell_type": "markdown",
      "metadata": {
        "id": "tRYw0r3Hos2a"
      },
      "source": [
        "### 12.好きな関数を入れて遊んでみよう！\n",
        "- 二次関数\n",
        "    - $ax + bx + c$\n",
        "- 三次関数\n",
        "    - $ax^3 + bx^2 + cx^2 + d$\n",
        "- 対数関数\n",
        "    - $log(x)$\n",
        "- 指数関数\n",
        "    - $exp(x)$\n",
        "- 三角関数\n",
        "    - $sin(x)$"
      ]
    },
    {
      "cell_type": "code",
      "execution_count": null,
      "metadata": {
        "id": "xcZ9shXCos2b"
      },
      "outputs": [],
      "source": [
        "def here_function(x): # 好きな関数に変えてみよう！\n",
        "    y = -x**2 + 3 * x + 4\n",
        "    return y\n",
        "\n",
        "start = 0 #定義域の左端\n",
        "last = 6 # 定義域の右端\n",
        "\n",
        "x0 = np.arange(start,last, 0.01)\n",
        "y0 = here_function(x0)\n",
        "\n",
        "fig = plt.figure()\n",
        "ax = fig.add_subplot(1,1,1)\n",
        "\n",
        "#ax.set_aspect('equal') # 見にくかったら外しても良い\n",
        "ax.spines['right'].set_visible(False)\n",
        "ax.spines['top'].set_visible(False)\n",
        "ax.spines['bottom'].set_position('zero')\n",
        "ax.spines['left'].set_position('zero')\n",
        "ax.grid()\n",
        "\n",
        "haba = 0.1\n",
        "x = np.arange(start,last, haba)\n",
        "y = here_function(x)\n",
        "\n",
        "area_sum = 0\n",
        "\n",
        "for i in range(len(x)):\n",
        "    if x[i] + haba > last:\n",
        "        continue\n",
        "\n",
        "    y1 = y[i]\n",
        "    y2 = here_function(x[i]+ haba)\n",
        "    yi = return_lower2(y1, y2)\n",
        "\n",
        "    r = patches.Rectangle(xy=(x[i], 0), width=haba, height=yi, ec='#000000', fc='#EEEEEE')\n",
        "    ax.add_patch(r)\n",
        "    area_sum += yi * haba\n",
        "\n",
        "ax.plot(x0, y0)\n",
        "\n",
        "#ax.axis([-1.0,5.0,-1.0,20.0]) # 見にくかったら外しても良い\n",
        "plt.show()\n",
        "print(\"area_sum: \", area_sum)"
      ]
    },
    {
      "cell_type": "markdown",
      "metadata": {
        "id": "lrE0jVs7os2b"
      },
      "source": [
        "----\n",
        "\n",
        "----\n",
        "\n",
        "# 第01回 課題\n",
        "## 課題1-1 円の面積から円周率を求めてみよう\n",
        "- 円に内接する長方形を描いてその面積を求める。\n",
        "    - 長方形の幅を3種類で計算して、それぞれの図と、それぞれの円周率を求める\n",
        "- 円に内接する長方形を描くのはちょっとむずかしいので、計算を使って迂回しても良い。\n",
        "    - 既存のπは使わないこと\n",
        "    - 円に内接する長方形を完全に描けたら少し加点する\n",
        "    \n"
      ]
    },
    {
      "cell_type": "code",
      "execution_count": null,
      "metadata": {
        "id": "KrJPJPHqos2b"
      },
      "outputs": [],
      "source": [
        "fig = plt.figure(figsize=(3,3), dpi=150) # サイズとdpiの指定(好みで調節してどうぞ)\n",
        "ax = fig.add_subplot(1,1,1)\n",
        "\n",
        "ax.set_aspect('equal')\n",
        "ax.spines['right'].set_visible(False)\n",
        "ax.spines['top'].set_visible(False)\n",
        "ax.spines['bottom'].set_position('zero')\n",
        "ax.spines['left'].set_position('zero')\n",
        "\n",
        "\n",
        "c = patches.Circle(xy=(0, 0), radius=1.0, fc='none', ec='red') # 円を作る\n",
        "ax.add_patch(c) # 円を追加\n",
        "\n",
        "ax.axis([-1.5,1.5,-1.5,1.5])\n",
        "plt.show()\n"
      ]
    },
    {
      "cell_type": "markdown",
      "metadata": {
        "id": "ta6gAeZ6os2b"
      },
      "source": [
        "## オプション課題1-2 モンテカルロ法を使って円周率を求める\n",
        "- モンテカルロ法を自分で調べて、点の数を変えて円周率を何パターンか求め、その時の図と円周率を示す。\n",
        "- 参考にしたサイトが有る場合は参照を示すこと。"
      ]
    },
    {
      "cell_type": "markdown",
      "metadata": {
        "id": "7wzsgsMios2b"
      },
      "source": []
    }
  ],
  "metadata": {
    "kernelspec": {
      "display_name": "Python 3 (ipykernel)",
      "language": "python",
      "name": "python3"
    },
    "language_info": {
      "codemirror_mode": {
        "name": "ipython",
        "version": 3
      },
      "file_extension": ".py",
      "mimetype": "text/x-python",
      "name": "python",
      "nbconvert_exporter": "python",
      "pygments_lexer": "ipython3",
      "version": "3.11.0"
    },
    "toc-autonumbering": false,
    "toc-showcode": false,
    "toc-showmarkdowntxt": false,
    "colab": {
      "provenance": [],
      "include_colab_link": true
    }
  },
  "nbformat": 4,
  "nbformat_minor": 0
}