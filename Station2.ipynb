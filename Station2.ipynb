{
  "cells": [
    {
      "cell_type": "markdown",
      "metadata": {
        "id": "view-in-github",
        "colab_type": "text"
      },
      "source": [
        "<a href=\"https://colab.research.google.com/github/rena-tech/for-copy/blob/main/Station2.ipynb\" target=\"_parent\"><img src=\"https://colab.research.google.com/assets/colab-badge.svg\" alt=\"Open In Colab\"/></a>"
      ]
    },
    {
      "cell_type": "markdown",
      "metadata": {
        "id": "l5H9UtUTe55_"
      },
      "source": [
        "| Version | Published Date| Details |\n",
        "| -- | -- | -- |\n",
        "| ver.1.0.0 | 2023/8/29 | 初版 |\n",
        "| ver.1.0.1 | 2023/9/01 | 問題に補足を追記 |"
      ]
    },
    {
      "cell_type": "markdown",
      "metadata": {
        "id": "MAtlY0aUCLeV"
      },
      "source": [
        "# 正規表現についてもっと詳しくなろう\n",
        "\n",
        "Station1 では強力なツールである **正規表現** について学びました。まずは数字のパターンを検出できるようになりましたが，このStationではより詳しく正規表現を学びます。正規表現は書き方もややむずかしく，学ぶこともより増えますが，引き続きしっかり習得していきましょう。"
      ]
    },
    {
      "cell_type": "markdown",
      "metadata": {
        "id": "y9cBlG2vMIIa"
      },
      "source": [
        "# 正規表現によるパターンマッチの続き\n",
        "\n",
        "## `()` を用いたグルーピング\n",
        "\n",
        "前回のStationでも `group()` を使いました。これは正規表現の機能のひとつです。\n",
        "\n",
        "電話番号を市外局番とそれ以降に分けて取得するとしましょう。その場合は `(\\d\\d\\d\\d)-(\\d\\d-\\d\\d\\d\\d)` のように正規表現に `()` を追加してグループを作成します。そして `group()` ごとにマッチした文字列を取得します。\n",
        "\n",
        "`()` で囲まれたグループごとにグループ1, 2, ... となります。`group()` メソッドに `1` や `2` を渡すとマッチした文字列の異なる部分を取得できます。`0` を渡すかなにも渡さなければマッチした文字列全体が返ります。"
      ]
    },
    {
      "cell_type": "code",
      "execution_count": null,
      "metadata": {
        "id": "TXCUGHNPQiLO"
      },
      "outputs": [],
      "source": [
        "import re"
      ]
    },
    {
      "cell_type": "markdown",
      "metadata": {
        "id": "U0rbHXKGQijc"
      },
      "source": [
        "今回もまずは `re` を `import` します。"
      ]
    },
    {
      "cell_type": "code",
      "execution_count": null,
      "metadata": {
        "id": "AS6zI97uMCDt"
      },
      "outputs": [],
      "source": [
        "phone_num_regex = re.compile(r'(\\d\\d\\d\\d)-(\\d\\d-\\d\\d\\d\\d)')\n",
        "mo = phone_num_regex.search('私の電話番号は0120-56-7890です。')"
      ]
    },
    {
      "cell_type": "code",
      "execution_count": null,
      "metadata": {
        "id": "BcL1sf7uQfs_"
      },
      "outputs": [],
      "source": [
        "mo.group(1)"
      ]
    },
    {
      "cell_type": "code",
      "execution_count": null,
      "metadata": {
        "id": "t5N_qrJoQoug"
      },
      "outputs": [],
      "source": [
        "mo.group(2)"
      ]
    },
    {
      "cell_type": "code",
      "execution_count": null,
      "metadata": {
        "id": "RTDdLwueQuMx"
      },
      "outputs": [],
      "source": [
        "mo.group()"
      ]
    },
    {
      "cell_type": "markdown",
      "metadata": {
        "id": "V4tTiCzoRl-F"
      },
      "source": [
        "`groups()` を使うとすべてのグループを一気に取得できます。`group()` と違って `s` がつく `groups()` になっていることに注意しましょう。"
      ]
    },
    {
      "cell_type": "code",
      "execution_count": null,
      "metadata": {
        "id": "6mJaaUNkQwJY"
      },
      "outputs": [],
      "source": [
        "mo.groups()"
      ]
    },
    {
      "cell_type": "markdown",
      "metadata": {
        "id": "jfdzyqpPSdGB"
      },
      "source": [
        "`groups()` は複数の値からなるタプルを返すため，このように複数代入を行うこともできます。"
      ]
    },
    {
      "cell_type": "code",
      "execution_count": null,
      "metadata": {
        "id": "OGAoJvZZRz4Z"
      },
      "outputs": [],
      "source": [
        "area_code, main_number = mo.groups()"
      ]
    },
    {
      "cell_type": "code",
      "execution_count": null,
      "metadata": {
        "id": "idaaph3YR1yY"
      },
      "outputs": [],
      "source": [
        "area_code"
      ]
    },
    {
      "cell_type": "code",
      "execution_count": null,
      "metadata": {
        "id": "7nB4Co_1R2pg"
      },
      "outputs": [],
      "source": [
        "main_number"
      ]
    },
    {
      "cell_type": "markdown",
      "metadata": {
        "id": "rlAVnNIVSluG"
      },
      "source": [
        "正規表現では `()` は特別な意味を持ちます。では `()` そのものを検索したい場合はどうすればよいでしょうか？たとえば市外局番が `()` を使って書かれていることもあります。このような場合にはバックスラッシュ `\\` を使って `()` を **エスケープ (Escape)** する必要があります。"
      ]
    },
    {
      "cell_type": "code",
      "execution_count": null,
      "metadata": {
        "id": "lPpzVpW6R5CH"
      },
      "outputs": [],
      "source": [
        "phone_num_regex = re.compile(r'(\\(\\d\\d\\d\\d\\)) (\\d\\d-\\d\\d\\d\\d)')\n",
        "mo = phone_num_regex.search('私の電話番号は (0120) 23-4234 です。')\n",
        "mo.group(1)"
      ]
    },
    {
      "cell_type": "code",
      "execution_count": null,
      "metadata": {
        "id": "17c_A4EvTe0d"
      },
      "outputs": [],
      "source": [
        "mo.group(2)"
      ]
    },
    {
      "cell_type": "markdown",
      "metadata": {
        "id": "qmYWfKyNWQOZ"
      },
      "source": [
        "正規表現では以下の文字は特別な意味を持ちます。これらの文字を用いる場合は同様に `\\` を用いるようにしましょう。\n",
        "\n",
        "```\n",
        ".  ^  $  *  +  ?  {  }  [  ]  \\\\  |  (  )\n",
        "```"
      ]
    },
    {
      "cell_type": "markdown",
      "metadata": {
        "id": "SbQh1ofPWtsW"
      },
      "source": [
        "## `|` を用いた複数グループとのマッチ\n",
        "\n",
        "`|` を用いると，複数パターンのうちのひとつとマッチできます。たとえば `r'Tokyo|Osaka'` という正規表現は `Tokyo` または `Osaka` とマッチします。すべてのマッチした箇所を取得する `finaall()` メソッドについては後で解説します。\n",
        "\n",
        "検索対象に `Tokyo` と `Osaka` の両方がある場合，先に出現した方が `Match` オブジェクトとして返ります。"
      ]
    },
    {
      "cell_type": "code",
      "execution_count": null,
      "metadata": {
        "id": "FMIPHMNAXFM0"
      },
      "outputs": [],
      "source": [
        "city_regex = re.compile(r'Tokyo|Osaka')\n",
        "mo1 = city_regex.search('Tokyo and Osaka')\n",
        "mo1.group()"
      ]
    },
    {
      "cell_type": "code",
      "execution_count": null,
      "metadata": {
        "id": "vPUuwKCHXQQy"
      },
      "outputs": [],
      "source": [
        "mo2 = city_regex.search('Osaka and Tokyo')\n",
        "mo2.group()"
      ]
    },
    {
      "cell_type": "markdown",
      "metadata": {
        "id": "3QvYD7irYCDY"
      },
      "source": [
        "縦線は，複数パターンのうち1つにマッチするためにも使えます。たとえば `Tokyo` `Tokai` `Tokio` `Tokiwa` のいずれかにマッチさせたい場合を考えます。この場合すべて `Tok` からはじまるため，接頭辞として一度だけマッチすればよいでしょう。"
      ]
    },
    {
      "cell_type": "code",
      "execution_count": null,
      "metadata": {
        "id": "OkKGmdB3XY2q"
      },
      "outputs": [],
      "source": [
        "tok_regex = re.compile(r'Tok(yo|ai|io|iwa)')\n",
        "mo = tok_regex.search(\"Tokyo station is very beautiful.\")\n",
        "mo.group()"
      ]
    },
    {
      "cell_type": "code",
      "execution_count": null,
      "metadata": {
        "id": "OSWMYp_aY41C"
      },
      "outputs": [],
      "source": [
        "mo.group(1)"
      ]
    },
    {
      "cell_type": "markdown",
      "metadata": {
        "id": "PCooRGjXaxbe"
      },
      "source": [
        "引数をつけずに `group()` を呼び出すとマッチした文字列全体を，`group(1)` のように呼び出すと1番目 `()` のグループ内にマッチした文字列だけを取得できます。"
      ]
    },
    {
      "cell_type": "markdown",
      "metadata": {
        "id": "OniP53jBbGNw"
      },
      "source": [
        "## `?` を用いた任意のマッチ\n",
        "\n",
        "マッチしてもしなくてもよいパターンを指定したい場合があります。つまりテキストの一部があってもなくてもいい場合です。 `?` を用いるとその直前のパターンを任意パターンとして指定します。"
      ]
    },
    {
      "cell_type": "code",
      "execution_count": null,
      "metadata": {
        "id": "28wAijRQauCd"
      },
      "outputs": [],
      "source": [
        "tokyo_regex = re.compile(r'Toky(ot)?o')\n",
        "mo1 = tokyo_regex.search('Tokyo')\n",
        "mo1.group()"
      ]
    },
    {
      "cell_type": "code",
      "execution_count": null,
      "metadata": {
        "id": "k5c0n1f3bwKj"
      },
      "outputs": [],
      "source": [
        "mo2 = tokyo_regex.search('Tokyoto')\n",
        "mo2.group()"
      ]
    },
    {
      "cell_type": "markdown",
      "metadata": {
        "id": "QYLDf3YZcHOF"
      },
      "source": [
        "正規表現の `(ot)?` の部分は `ot` というパターンが任意であることを意味します。そのため正規表現は `ot` が0回または1回現れるテキストにマッチします。そのため `Tokyo` にも `Tokyoto` にもマッチします。\n",
        "\n",
        "市外局番のあるなしに関わらず電話番号を検索したいとしましょう。その場合はこのように書けます。"
      ]
    },
    {
      "cell_type": "code",
      "execution_count": null,
      "metadata": {
        "id": "_vhlipWfb92u"
      },
      "outputs": [],
      "source": [
        "phone_num_regex = re.compile(r'(\\d\\d\\d\\d-)?\\d\\d-\\d\\d\\d\\d')\n",
        "mo1 = phone_num_regex.search('私の電話番号は 0120-23-4234 です。')\n",
        "mo1.group()"
      ]
    },
    {
      "cell_type": "code",
      "execution_count": null,
      "metadata": {
        "id": "514QNLOlcrKU"
      },
      "outputs": [],
      "source": [
        "mo2 = phone_num_regex.search('私の電話番号は 23-4234 です。')\n",
        "mo2.group()"
      ]
    },
    {
      "cell_type": "markdown",
      "metadata": {
        "id": "XK9ip-lec11G"
      },
      "source": [
        "同様にこの場合は `?` は「直前のグループに0または1回マッチする」とみなせます。"
      ]
    },
    {
      "cell_type": "markdown",
      "metadata": {
        "id": "dxW_5_gL1MwW"
      },
      "source": [
        "## `*` を用いた0回以上のマッチ\n",
        "\n",
        "`*` は「0回以上にマッチする」という意味です。アスタリスクの直前のグループが任意の回数出現してもよいということです。まったく出現しなくてもよいし，繰り返し出現しても問題ありません。"
      ]
    },
    {
      "cell_type": "code",
      "execution_count": null,
      "metadata": {
        "id": "QCcswm13cvdt"
      },
      "outputs": [],
      "source": [
        "tokyo_regex = re.compile(r'Toky(ot)*o')\n",
        "mo1 = tokyo_regex.search('Tokyo is the capital of Japan.')\n",
        "mo1.group()"
      ]
    },
    {
      "cell_type": "code",
      "execution_count": null,
      "metadata": {
        "id": "1UYFgPLZ1nWM"
      },
      "outputs": [],
      "source": [
        "mo2 = tokyo_regex.search('Tokyoto is the capital of Japan.')\n",
        "mo2.group()"
      ]
    },
    {
      "cell_type": "code",
      "execution_count": null,
      "metadata": {
        "id": "QMjjgHSc1sCY"
      },
      "outputs": [],
      "source": [
        "mo3 = tokyo_regex.search('Tokyototototo is the capital of Japan.')\n",
        "mo3.group()"
      ]
    },
    {
      "cell_type": "markdown",
      "metadata": {
        "id": "bbMLQkrP12Ls"
      },
      "source": [
        "`Tokyo` に関しては `(ot)*` の正規表現が0回，`Tokyoto` に関しては1回，`Tokyototototo` に関しては4回マッチします。"
      ]
    },
    {
      "cell_type": "markdown",
      "metadata": {
        "id": "D-I-elef2Di5"
      },
      "source": [
        "## `+` を用いた1回以上のマッチ\n",
        "\n",
        "`*` が0回以上にマッチするのに対して `+` は「1回以上マッチ」することを意味します。プラスは少なくとも1回出現する必要があります。"
      ]
    },
    {
      "cell_type": "code",
      "execution_count": null,
      "metadata": {
        "id": "vu2cH3cH1ySg"
      },
      "outputs": [],
      "source": [
        "tokyo_regex = re.compile(r'Toky(ot)+o')\n",
        "mo1 = tokyo_regex.search('Tokyoto is the capital of Japan.')\n",
        "mo1.group()"
      ]
    },
    {
      "cell_type": "code",
      "execution_count": null,
      "metadata": {
        "id": "sP4x1lWw2UDg"
      },
      "outputs": [],
      "source": [
        "mo2 = tokyo_regex.search('Tokyototototo is the capital of Japan.')\n",
        "mo2.group()"
      ]
    },
    {
      "cell_type": "code",
      "execution_count": null,
      "metadata": {
        "id": "iV_-Yrod2Y06"
      },
      "outputs": [],
      "source": [
        "mo3 = tokyo_regex.search('Tokyo is the capital of Japan.')\n",
        "mo3.group()"
      ]
    },
    {
      "cell_type": "markdown",
      "metadata": {
        "id": "DdIWnv3q2l_s"
      },
      "source": [
        "`mo3` にマッチするものがないため `group()` を呼ぶとエラーになります。エラーコードを読みましょう。 *'NoneType' object has no attribute 'group'* とは「 `None` の型のオブジェクトには `group` という属性はありません」という意味です。"
      ]
    },
    {
      "cell_type": "markdown",
      "metadata": {
        "id": "aIzw_VDg3YTv"
      },
      "source": [
        "## `{}` による繰り返し回数の指定\n",
        "\n",
        "`{}` を使うとグループの繰り返し出現回数を指定できます。たとえば `(Wa){3}` という正規表現は `WaWaWa` という文字列にマッチしますが `WaWa` にはマッチしません。`Wa` が2回しか現れないためです。\n",
        "\n",
        "繰り返し回数は単一の数字だけでなく，カンマ区切りで最大値と最小値の指定が可能です。たとえば `(Ma){3,5}` は `MaMaMa` にも `MaMaMaMa` にも `MaMaMaMaMa` にもマッチします。\n",
        "\n",
        "片方を省略すると最小値と最大値を指定しないことになります。たとえば `(Wa){3,}` とすると `(Wa)` が3回以上， `(Wa){,5}` とすると0~5回出現する場合にマッチします。\n",
        "\n",
        "`{}` を使うと正規表現を短く書くのに役立ちます。`(Ma){3}` と `MaMaMa` ， `(Ma){3,5}` と `MaMaMa|MaMaMaMa|MaMaMaMaMa` はそれぞれ同じ意味です。"
      ]
    },
    {
      "cell_type": "code",
      "execution_count": null,
      "metadata": {
        "id": "HSvsZAV_2hZg"
      },
      "outputs": [],
      "source": [
        "ha_regex = re.compile(r'(Ha){3}')\n",
        "mo1 = ha_regex.search('HaHaHa')\n",
        "mo1.group()"
      ]
    },
    {
      "cell_type": "code",
      "execution_count": null,
      "metadata": {
        "id": "KeBuXn8T51At"
      },
      "outputs": [],
      "source": [
        "mo2 = ha_regex.search('Ha')\n",
        "mo2.group()"
      ]
    },
    {
      "cell_type": "markdown",
      "metadata": {
        "id": "O7aoBeID55GU"
      },
      "source": [
        "これも `Ha` ひとつだけではマッチしないため，同じようにエラーになります。"
      ]
    },
    {
      "cell_type": "markdown",
      "metadata": {
        "id": "liMsUMM96Yf-"
      },
      "source": [
        "## 貪欲マッチと非貪欲マッチ\n",
        "\n",
        "ところで `MaMaMaMaMa` という文字列に対して `(Ma){3,5}` というパターンは `Ma` が3回，4回，5回のいずれの場合にもマッチします。先の例で `group()` を呼び出すと，少ない回数でマッチせずに最大回数にマッチした `MaMaMaMaMa` が返ってきます。 `MaMaMa` も `MaMaMaMa` も `(Ma){3,5}` に正しくマッチするにも関わらず，です。\n",
        "\n",
        "これはなぜでしょうか？なぜならPythonの正規表現はデフォルトでは **貪欲 (Greedy)** にマッチするためです。つまり複数の可能性のあるものは最も長いものにマッチします。一方で `)` の後に `?` をつけると **怠惰 (Lazy)** あるいは **非貪欲** なマッチを意味し，最も短いものにマッチするようになります。\n",
        "\n",
        "「貪欲」と「怠惰」というのはは、コンピューターサイエンスにおいてアルゴリズムの設計でよく使われる用語です。興味がある方はそれぞれの言葉を調べてみてください。"
      ]
    },
    {
      "cell_type": "code",
      "execution_count": null,
      "metadata": {
        "id": "h8lVX4zQ8oU0"
      },
      "outputs": [],
      "source": [
        "greedy_ha_regex = re.compile(r'(Ha){3,5}')\n",
        "mo1 = greedy_ha_regex.search(r'HaHaHaHaHa')\n",
        "mo1.group()"
      ]
    },
    {
      "cell_type": "code",
      "execution_count": null,
      "metadata": {
        "id": "jrQ_69SD88Wq"
      },
      "outputs": [],
      "source": [
        "lazy_ha_regex = re.compile(r'(Ha){3,5}?')\n",
        "mo2 = lazy_ha_regex.search(r'HaHaHaHaHa')\n",
        "mo2.group()"
      ]
    },
    {
      "cell_type": "markdown",
      "metadata": {
        "id": "aJ5r9JUe9JPX"
      },
      "source": [
        "正規表現において `?` が「任意グループの指定」と「非貪欲マッチ」の2種類の意味を持つことに注意しましょう。"
      ]
    },
    {
      "cell_type": "markdown",
      "metadata": {
        "id": "IFpwnZXqGIut"
      },
      "source": [
        "## `findall()` メソッド\n",
        "\n",
        "今までは `Regex` オブジェクトにおける `search()` を主に用いてきましたが，他に `findall()` メソッドがあります。"
      ]
    },
    {
      "cell_type": "code",
      "execution_count": null,
      "metadata": {
        "id": "cxV9lCiiGcZY"
      },
      "outputs": [],
      "source": [
        "phone_num_regex = re.compile(r'\\d\\d-\\d\\d\\d\\d')\n",
        "mo = phone_num_regex.search('自宅の電話番号は 55-4433 です。会社の電話番号は 23-4234 です。')\n",
        "mo.group()"
      ]
    },
    {
      "cell_type": "markdown",
      "metadata": {
        "id": "7erS09TiISf1"
      },
      "source": [
        "`search()` は最初に見つかった `Match` オブジェクトを返すのに対して `findall()` は文字列のリストを返します。リストの各要素はマッチした文字列です。"
      ]
    },
    {
      "cell_type": "code",
      "execution_count": null,
      "metadata": {
        "id": "iHcQKXcgGq-e"
      },
      "outputs": [],
      "source": [
        "phone_num_regex = re.compile(r'\\d\\d-\\d\\d\\d\\d')\n",
        "phone_num_regex.findall('自宅の電話番号は 55-4433 です。会社の電話番号は 23-4234 です。')"
      ]
    },
    {
      "cell_type": "markdown",
      "metadata": {
        "id": "VgLvW999JJfd"
      },
      "source": [
        "正規表現にグループが含まれている場合 `findall()` はタプルのリストを返します。各タプルの要素は，正規表現のグループに対応しマッチした文字列です。 `findall()` の動作を確認しましょう。"
      ]
    },
    {
      "cell_type": "code",
      "execution_count": null,
      "metadata": {
        "id": "x5JiCAamJKDZ"
      },
      "outputs": [],
      "source": [
        "phone_num_regex = re.compile(r'(\\(\\d\\d\\d\\d\\)) (\\d\\d-\\d\\d\\d\\d)')\n",
        "mo = phone_num_regex.findall('自宅の電話番号は (0345) 55-4433 です。会社の電話番号は (0120) 23-4234 です。')\n",
        "mo"
      ]
    },
    {
      "cell_type": "markdown",
      "metadata": {
        "id": "20pA9OIFKO0a"
      },
      "source": [
        "`findall()` メソッドの返り値についてのまとめです。\n",
        "\n",
        "- グループのない正規表現の場合，マッチした文字列のリストを返す。\n",
        "- グループのある正規表現の場合，グループに対応した文字列のタプルのリストを返す。"
      ]
    },
    {
      "cell_type": "markdown",
      "metadata": {
        "id": "Xn8VxLhzLGy3"
      },
      "source": [
        "# 確認テスト\n",
        "\n",
        "- 東京都の電話番号にマッチする正規表現を書いてください。東京都の電話番号とは `03-1234-5678` のように市外局番 `03` のあとに数字4ケタ，ハイフン，数字4ケタの順で続くものとします。\n",
        "  - 簡潔に書ける場合はなるべく簡潔な表現を使用してください。例えば `\\d\\d\\d\\d\\d\\d\\d\\d` は `\\d{8}` とする、などです。\n",
        "- `東京` と `京都` と `京` と `東京都` にマッチする正規表現を書いてください。\n",
        "  - 東京都が東京としてマッチしてしまわないように注意しましょう\n",
        "  - 簡潔に書ける場合はなるべく簡潔な表現を使用してください。例えば、`あ{0,1}` は `あ?` でよく、`あ{0}` は単に `あ` でよい、などです。"
      ]
    },
    {
      "cell_type": "code",
      "execution_count": null,
      "metadata": {
        "id": "6D1ZOoGFe56N"
      },
      "outputs": [],
      "source": [
        "# 確認テスト (1)\n",
        "import re\n",
        "mo = re.search(\n",
        "    r''# <- ここに正規表現を書きます (ここに記入した内容を回答フォームに登録してください)\n",
        "    , '東京オフィス:03-1234-5678、大阪オフィス:06-1234-5678')\n",
        "print(f'マッチした電話番号が見つかりました: {mo.group()}')"
      ]
    },
    {
      "cell_type": "code",
      "execution_count": null,
      "metadata": {
        "id": "QgIM_H1se56N"
      },
      "outputs": [],
      "source": [
        "# 確認テスト (2)\n",
        "import re\n",
        "mo = re.findall(\n",
        "    r''# <- ここに正規表現を書きます (ここに記入した内容を回答フォームに登録してください)\n",
        "    , '弊社は東京オフィスが東京都千代田区にあり、京都オフィスがプラザ京にあります。')\n",
        "print(f'マッチした文字列が見つかりました: {mo}')"
      ]
    }
  ],
  "metadata": {
    "colab": {
      "provenance": [],
      "include_colab_link": true
    },
    "kernelspec": {
      "display_name": "Python 3",
      "name": "python3"
    },
    "language_info": {
      "codemirror_mode": {
        "name": "ipython",
        "version": 3
      },
      "file_extension": ".py",
      "mimetype": "text/x-python",
      "name": "python",
      "nbconvert_exporter": "python",
      "pygments_lexer": "ipython3",
      "version": "3.9.6"
    }
  },
  "nbformat": 4,
  "nbformat_minor": 0
}