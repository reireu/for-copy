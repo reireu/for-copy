{
  "cells": [
    {
      "cell_type": "markdown",
      "metadata": {
        "id": "view-in-github",
        "colab_type": "text"
      },
      "source": [
        "<a href=\"https://colab.research.google.com/github/reireu/for-copy/blob/main/%E5%80%89%E7%A7%91%E4%B8%96%E7%8E%B2%E8%8F%9C_dae_bayes03_kadai_student.ipynb\" target=\"_parent\"><img src=\"https://colab.research.google.com/assets/colab-badge.svg\" alt=\"Open In Colab\"/></a>"
      ]
    },
    {
      "cell_type": "markdown",
      "metadata": {
        "id": "Dhwxtj16Rsge"
      },
      "source": [
        "# データと計量経済学 第3回 確率と確率分布"
      ]
    },
    {
      "cell_type": "code",
      "execution_count": null,
      "metadata": {
        "id": "75b4wwBxRsgh"
      },
      "outputs": [],
      "source": [
        "# ライブラリのimport\n",
        "\n",
        "# NumPy用ライブラリ\n",
        "import numpy as np\n",
        "# Matplotlib中のpyplotライブラリのインポート\n",
        "import matplotlib.pyplot as plt\n",
        "# matplotlib日本語化対応ライブラリのインポート\n",
        "import japanize_matplotlib\n",
        "\n",
        "# randomに値を生成するライブラリ\n",
        "import random\n"
      ]
    },
    {
      "cell_type": "markdown",
      "metadata": {
        "id": "9IAZhR10Rsgj"
      },
      "source": [
        "----\n",
        "### 課題3-1. 大数の法則を残差から確かめる(サイコロ)\n",
        "\n",
        "----"
      ]
    },
    {
      "cell_type": "markdown",
      "metadata": {
        "id": "aPmokPtJRsgj"
      },
      "source": [
        "- コインの場合と同様に、試行回数を増やして、真の確率との残差を求めて、それが減少していくか確認します。\n",
        "- コインの場合は表の場合だけで残差を求めましたが、今回は1〜6のすべての場合で残差(絶対値とする)を求めてその合計を求めましょう。\n",
        "\n",
        "- `law_of_large_numbers2`関数を定義します。\n",
        "    - 引数 : n\n",
        "    - 戻り値 : 「1〜6の出現確率の残差の合計」のi番目ごとのリスト\n",
        "    - 中でdice_rollを呼び出して使いましょう。\n"
      ]
    },
    {
      "cell_type": "code",
      "execution_count": null,
      "metadata": {
        "id": "nT_nhb6VRsgk"
      },
      "outputs": [],
      "source": [
        "## ここに書く(law_of_large_numbers2関数)\n"
      ]
    },
    {
      "cell_type": "code",
      "execution_count": null,
      "metadata": {
        "id": "_coJySAiRsgk"
      },
      "outputs": [],
      "source": [
        "# 実行部\n",
        "\n",
        "# nを決定(ここでは1000とする)\n",
        "n= 100\n",
        "\n",
        "# 折れ線グラフをプロット\n",
        "fig, ax = plt.subplots()\n",
        "ax.set_xlabel('サイコロを振る回数')\n",
        "ax.set_ylabel('残差合計')\n",
        "ax.set_title('サイコロの残差推移(n=100)')\n",
        "ax.plot(law_of_large_numbers2(n))\n",
        "plt.show()\n"
      ]
    },
    {
      "cell_type": "markdown",
      "metadata": {
        "id": "iRpeAtO8Rsgk"
      },
      "source": [
        "----\n",
        "### 課題3-2. サイコロを2回振った時の出目の合計値についての確率を求める\n",
        "\n",
        "----\n",
        "\n",
        "\n"
      ]
    },
    {
      "cell_type": "markdown",
      "metadata": {
        "id": "YjPhUcW8Rsgl"
      },
      "source": [
        "- サイコロを2回振ったときの合計値の出現確率のグラフを描きます\n",
        "- 「2回振る」ということをn回試行します。\n",
        "- 提出用スライドにはn=100の例が載せてあります。n=10000のときのグラフを作って貼ってください"
      ]
    },
    {
      "cell_type": "code",
      "execution_count": null,
      "metadata": {
        "id": "6pRP5Vv2Rsgl"
      },
      "outputs": [],
      "source": [
        "# ここにコードを書く"
      ]
    },
    {
      "cell_type": "markdown",
      "metadata": {
        "id": "0NzRFe5VRsgl"
      },
      "source": [
        "----\n",
        "### 課題3-3. サイコロを2回振ったときの真の確率との残差を求める\n",
        "\n",
        "----\n",
        "\n",
        "\n",
        "\n"
      ]
    },
    {
      "cell_type": "markdown",
      "metadata": {
        "id": "boRGc50DRsgl"
      },
      "source": [
        "- n を増やすことで、真の確率に近づいているのかを確認します。(大数の法則)\n",
        "- まず、サイコロを2回振ったときの出目の合計値の出現確率についての真の出現率を求めてください。\n",
        "    - 計算で求めればよいかと思います。どうやってもいいです。\n",
        "- そして、シミュレーションで求めた確率との残差(ここでは絶対値とする)の合計を、nを変えて求めて、その推移をグラフにしてください。\n",
        "    - nは1000までとします。"
      ]
    },
    {
      "cell_type": "code",
      "execution_count": null,
      "metadata": {
        "id": "U_7XmgyaRsgm"
      },
      "outputs": [],
      "source": [
        "# ここにコードを書く"
      ]
    }
  ],
  "metadata": {
    "kernelspec": {
      "display_name": "class_bayes",
      "language": "python",
      "name": "python3"
    },
    "language_info": {
      "codemirror_mode": {
        "name": "ipython",
        "version": 3
      },
      "file_extension": ".py",
      "mimetype": "text/x-python",
      "name": "python",
      "nbconvert_exporter": "python",
      "pygments_lexer": "ipython3",
      "version": "3.11.0"
    },
    "colab": {
      "provenance": [],
      "include_colab_link": true
    }
  },
  "nbformat": 4,
  "nbformat_minor": 0
}