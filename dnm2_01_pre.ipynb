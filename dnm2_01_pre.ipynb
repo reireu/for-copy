{
  "cells": [
    {
      "cell_type": "markdown",
      "metadata": {
        "id": "view-in-github",
        "colab_type": "text"
      },
      "source": [
        "<a href=\"https://colab.research.google.com/github/reireu/for-copy/blob/main/dnm2_01_pre.ipynb\" target=\"_parent\"><img src=\"https://colab.research.google.com/assets/colab-badge.svg\" alt=\"Open In Colab\"/></a>"
      ]
    },
    {
      "cell_type": "markdown",
      "metadata": {
        "id": "I4hJlBCUoZFJ"
      },
      "source": [
        "# データと数理II 第一回 予習\n",
        "## matplotlibの動作確認"
      ]
    },
    {
      "cell_type": "markdown",
      "metadata": {
        "id": "ncTb030coZFP"
      },
      "source": [
        "まずはライブラリのimport。"
      ]
    },
    {
      "cell_type": "code",
      "execution_count": null,
      "metadata": {
        "id": "hh_5qATKoZFP"
      },
      "outputs": [],
      "source": [
        "%matplotlib inline\n",
        "import matplotlib.pyplot as plt\n",
        "import matplotlib.patches as patches\n",
        "import numpy as np"
      ]
    },
    {
      "cell_type": "markdown",
      "metadata": {
        "id": "R1ZcMcLqoZFR"
      },
      "source": [
        "## matplotlib.pyplotの使い方の確認\n",
        "- 参考文献\n",
        "    - 早く知っておきたかったmatplotlibの基礎知識、あるいは見た目の調整が捗るArtistの話\n",
        "        - https://qiita.com/skotaro/items/08dc0b8c5704c94eafb9\n",
        "    - Pythonを使って二次元座標で任意の点を回転させた\n",
        "        - https://kitsune-no-yomeiri.hatenadiary.jp/entry/2018/05/06/170535\n",
        "    - 公式ドキュメント\n",
        "        - https://matplotlib.org/1.5.1/faq/usage_faq.html"
      ]
    },
    {
      "cell_type": "code",
      "execution_count": null,
      "metadata": {
        "id": "y8SAmo9soZFS"
      },
      "outputs": [],
      "source": [
        "x = [1,2,3]\n",
        "y = x\n",
        "\n",
        "fig = plt.figure() # Figureオブジェクトを作成\n",
        "ax = fig.add_subplot(1,1,1) # figに属するAxesオブジェクトを作成。(1,1,1)というのは、デフォルトで、複数グラフを書くときの位置に相当\n",
        "ax.plot(x, y) # データをプロット\n",
        "plt.show() # 表示(jupyter notebookeでは無くても表示される)"
      ]
    },
    {
      "cell_type": "code",
      "execution_count": null,
      "metadata": {
        "id": "bD-7hzwpoZFS"
      },
      "outputs": [],
      "source": [
        "x = [1,2,3]\n",
        "y = x\n",
        "\n",
        "fig = plt.figure()\n",
        "ax = fig.add_subplot(1,1,1)\n",
        "ax.set_aspect('equal') #軸の縦横比を同じにする\n",
        "ax.plot(x, y)\n",
        "plt.show()"
      ]
    },
    {
      "cell_type": "code",
      "execution_count": null,
      "metadata": {
        "id": "xQGBszF1oZFT"
      },
      "outputs": [],
      "source": [
        "x = np.array([1,2,3]) # numpyのarrayでxを表現\n",
        "y = -x + 4 # 式の変更\n",
        "\n",
        "fig = plt.figure()\n",
        "ax = fig.add_subplot(1,1,1)\n",
        "ax.set_aspect('equal')\n",
        "ax.plot(x, y)\n",
        "plt.show()"
      ]
    },
    {
      "cell_type": "code",
      "execution_count": null,
      "metadata": {
        "id": "Wk1rHI9noZFT"
      },
      "outputs": [],
      "source": [
        "x = np.array([1,2,3])\n",
        "print(x)\n",
        "y = -x + 4\n",
        "print(y)"
      ]
    },
    {
      "cell_type": "code",
      "execution_count": null,
      "metadata": {
        "id": "_uyrr5ZtoZFU"
      },
      "outputs": [],
      "source": [
        "x = np.arange(0,10,0.2)\n",
        "print(x)\n",
        "y = -x + 4\n",
        "print(y)"
      ]
    },
    {
      "cell_type": "code",
      "execution_count": null,
      "metadata": {
        "id": "7fSwi54loZFU"
      },
      "outputs": [],
      "source": [
        "x = np.arange(0,10,0.2) # x軸の範囲と細かさを指定(numpy array形式になる)\n",
        "y = np.sin(x) # y を xの関数で表現(して計算)\n",
        "\n",
        "fig = plt.figure()\n",
        "ax = fig.add_subplot(1,1,1)\n",
        "\n",
        "ax.plot(x,y)\n",
        "ax.plot(x,y+1) # plot は何個も追加できる\n",
        "plt.show()"
      ]
    },
    {
      "cell_type": "code",
      "execution_count": null,
      "metadata": {
        "id": "uD901l57oZFV"
      },
      "outputs": [],
      "source": [
        "x = np.arange(0,10,0.2)\n",
        "y = np.sin(x)\n",
        "\n",
        "fig = plt.figure()\n",
        "ax = fig.add_subplot(1,1,1)\n",
        "\n",
        "ax.set_title('title') # グラフタイトル\n",
        "ax.set_xlabel('x axis') # x軸ラベル\n",
        "ax.set_ylabel('y axis') # y軸ラベル\n",
        "ax.axis([0,10,-4,4]) # 軸の表示範囲を設定。([x0,x1, y0,y1])\n",
        "ax.set_aspect('equal')\n",
        "\n",
        "ax.plot(x,y)\n",
        "ax.plot(x,y+1)\n",
        "plt.show()"
      ]
    },
    {
      "cell_type": "code",
      "execution_count": null,
      "metadata": {
        "id": "EwQ7OA-uoZFV"
      },
      "outputs": [],
      "source": [
        "x = np.arange(0,10,0.5) # 点のとり方を荒くする\n",
        "y = np.sin(x)\n",
        "\n",
        "fig = plt.figure()\n",
        "ax = fig.add_subplot(1,1,1)\n",
        "\n",
        "ax.plot(x,y)\n",
        "plt.show()"
      ]
    },
    {
      "cell_type": "code",
      "execution_count": null,
      "metadata": {
        "id": "O0mzHXNxoZFV"
      },
      "outputs": [],
      "source": [
        "x = np.arange(0,10,0.5)\n",
        "y = np.sin(x)\n",
        "\n",
        "fig = plt.figure()\n",
        "ax = fig.add_subplot(1,1,1)\n",
        "\n",
        "ax.plot(x,y, marker='.', markersize=10) # 点のところにマーカーを付けて強調する\n",
        "plt.show()"
      ]
    },
    {
      "cell_type": "code",
      "execution_count": null,
      "metadata": {
        "id": "dwLY8eUAoZFW"
      },
      "outputs": [],
      "source": [
        "x = np.arange(0,10,0.5)\n",
        "y = np.sin(x)\n",
        "\n",
        "fig = plt.figure()\n",
        "ax = fig.add_subplot(1,1,1)\n",
        "\n",
        "ax.plot(x,y, marker='.', markersize=10, linestyle='None') # 自動で付いていた補完の線を消す\n",
        "plt.show()"
      ]
    },
    {
      "cell_type": "code",
      "execution_count": null,
      "metadata": {
        "id": "EYm6yeRgoZFW"
      },
      "outputs": [],
      "source": [
        "x = np.arange(0,10,0.05) # 点のとり方を細かくする\n",
        "y = np.sin(x)\n",
        "\n",
        "fig = plt.figure()\n",
        "ax = fig.add_subplot(1,1,1)\n",
        "\n",
        "ax.plot(x,y, marker='.', markersize=2, linestyle='None') # マーカーを小さくする\n",
        "plt.show()"
      ]
    },
    {
      "cell_type": "markdown",
      "metadata": {
        "id": "IFwLZX2WoZFW"
      },
      "source": [
        "## matplotlib.patchの使い方の確認\n",
        "- 参考文献\n",
        "    - Matplotlibで円や長方形などの図形を描画\n",
        "        - https://note.nkmk.me/python-matplotlib-patches-circle-rectangle/"
      ]
    },
    {
      "cell_type": "code",
      "execution_count": null,
      "metadata": {
        "id": "ttz6q_TMoZFX"
      },
      "outputs": [],
      "source": [
        "fig = plt.figure()\n",
        "ax = plt.axes()\n",
        "\n",
        "# fc = face color, ec = edge color\n",
        "c = patches.Circle(xy=(0, 0), radius=0.5, fc='lime', ec='b') # 円を作る\n",
        "r = patches.Rectangle(xy=(0, 0), width=0.25, height=0.5, ec='#000000', fill=False) #長方形を作る\n",
        "ax.add_patch(c) # 円を追加\n",
        "ax.add_patch(r) # 長方形を追加\n",
        "\n",
        "ax.axis([-1.0,1.0,-1.0,1.0]) # 軸の表示範囲を設定。([x0,x1, y0,y1])\n",
        "ax.set_aspect('equal')\n",
        "plt.show()"
      ]
    },
    {
      "cell_type": "raw",
      "metadata": {
        "id": "99HnRRe9oZFX"
      },
      "source": [
        "色指定の例\n",
        "\n",
        "b: blue\n",
        "g: green\n",
        "r: red\n",
        "c: cyan\n",
        "m: magenta\n",
        "y: yellow\n",
        "k: black\n",
        "w: white"
      ]
    },
    {
      "cell_type": "markdown",
      "metadata": {
        "id": "dH1H5_MMoZFX"
      },
      "source": [
        "## 座標軸の設定"
      ]
    },
    {
      "cell_type": "code",
      "execution_count": null,
      "metadata": {
        "id": "LwzCjMzXoZFY"
      },
      "outputs": [],
      "source": [
        "x = np.array([0,1,2,3])\n",
        "y = x\n",
        "\n",
        "fig = plt.figure()\n",
        "ax = fig.add_subplot(1,1,1)\n",
        "ax.set_aspect('equal')\n",
        "\n",
        "#軸の調整\n",
        "#right と top はただの線\n",
        "#bottom と left はラベルが入る軸\n",
        "\n",
        "ax.spines['right'].set_visible(False) # 右の枠線を消す\n",
        "#ax.spines['right'].set_color('none') # 上の行と同じ結果になる。右の枠線の色を消す。\n",
        "\n",
        "ax.spines['top'].set_visible(False) # 上の枠線を消す\n",
        "#ax.spines['top'].set_color('none') # 上の行と同じ結果になる。上の枠線の色を消す。\n",
        "\n",
        "ax.spines['bottom'].set_position('zero') #x軸の位置を0にする\n",
        "#ax.spines['bottom'].set_position(('data',0)) # 上の行と同じ意味になる。数値指定する場合の書き方。\n",
        "\n",
        "ax.spines['left'].set_position('zero') #y軸の位置を0にする\n",
        "#ax.spines['left'].set_position(('data',0)) # 上の行と同じ意味になる。数値指定する場合の書き方。\n",
        "\n",
        "ax.xaxis.set_ticks_position('bottom') # x軸のラベル(ヒゲ)の位置。bottomはデフォルトなので書かなくても大丈夫。noneにすると消える。\n",
        "ax.yaxis.set_ticks_position('left') # y軸のラベル(ヒゲ)の位置。leftはデフォルトなので書かなくても大丈夫。noneにすると消える。\n",
        "\n",
        "ax.axis([-1.0,4.0,-1.0,4.0]) # 軸の表示範囲を設定。([x0,x1, y0,y1])\n",
        "\n",
        "ax.grid() # グラフにグリッドを追加\n",
        "\n",
        "ax.plot(x, y)\n",
        "plt.show()"
      ]
    },
    {
      "cell_type": "code",
      "execution_count": null,
      "metadata": {
        "id": "eqzBtXJ6oZFY"
      },
      "outputs": [],
      "source": [
        "x = np.array([0,1,2,3])\n",
        "y = x\n",
        "\n",
        "fig = plt.figure(figsize=(6,6), dpi=100) # サイズとdpiの指定\n",
        "ax = fig.add_subplot(1,1,1)\n",
        "ax.set_aspect('equal')\n",
        "\n",
        "#軸の調整\n",
        "#right と top はただの線\n",
        "#bottom と left はラベルが入る軸\n",
        "\n",
        "ax.spines['right'].set_visible(False)\n",
        "ax.spines['top'].set_visible(False)\n",
        "ax.spines['bottom'].set_position('zero')\n",
        "ax.spines['left'].set_position('zero')\n",
        "ax.axis([-1.0,4.0,-1.0,4.0])\n",
        "ax.grid()\n",
        "\n",
        "ax.plot(x, y)\n",
        "plt.show()\n",
        "\n"
      ]
    },
    {
      "cell_type": "code",
      "execution_count": null,
      "metadata": {
        "id": "00DbT7UioZFY"
      },
      "outputs": [],
      "source": []
    }
  ],
  "metadata": {
    "kernelspec": {
      "display_name": "Python 3 (ipykernel)",
      "language": "python",
      "name": "python3"
    },
    "language_info": {
      "codemirror_mode": {
        "name": "ipython",
        "version": 3
      },
      "file_extension": ".py",
      "mimetype": "text/x-python",
      "name": "python",
      "nbconvert_exporter": "python",
      "pygments_lexer": "ipython3",
      "version": "3.11.0"
    },
    "colab": {
      "provenance": [],
      "include_colab_link": true
    }
  },
  "nbformat": 4,
  "nbformat_minor": 0
}