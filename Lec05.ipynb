{
  "cells": [
    {
      "cell_type": "markdown",
      "metadata": {
        "id": "view-in-github",
        "colab_type": "text"
      },
      "source": [
        "<a href=\"https://colab.research.google.com/github/rena-tech/for-copy/blob/main/Lec05.ipynb\" target=\"_parent\"><img src=\"https://colab.research.google.com/assets/colab-badge.svg\" alt=\"Open In Colab\"/></a>"
      ]
    },
    {
      "cell_type": "markdown",
      "metadata": {
        "id": "HtZbUVgy5rF5"
      },
      "source": [
        "# 行列とベクトルの積の復習\n",
        "- 行列と行列の積はPythonではnumpy.dot(A,B)を使用する\n",
        "- $m\\times n$行列の場合$n$列ベクトルとの積のとき、必ず$m$列ベクトルを返す\n",
        "\n",
        "- 例)\n",
        "$\n",
        "A=\n",
        "\\begin{bmatrix}\n",
        "1 & 2 & -5 \\\\\n",
        "2 & 3 & -7 \\\\\n",
        "\\end{bmatrix}\n",
        ", {\\bf x}=\n",
        "\\begin{bmatrix}\n",
        "1 \\\\\n",
        "2 \\\\\n",
        "3 \\\\\n",
        "\\end{bmatrix}\n",
        "$\n",
        "\n",
        "  - ${\\bf y}=A{\\bf x}=\\begin{bmatrix}\n",
        "1 & 2 & -5 \\\\\n",
        "2 & 3 & -7 \\\\\n",
        "\\end{bmatrix}\n",
        "\\begin{bmatrix}\n",
        "1 \\\\\n",
        "2 \\\\\n",
        "3 \\\\\n",
        "\\end{bmatrix}=\n",
        "\\begin{bmatrix}\n",
        "-10 \\\\\n",
        "-13\\\\\n",
        "\\end{bmatrix}\n",
        "$\n",
        "\n",
        "  - つまり、例の場合は、$2\\times 2$行列である$A$は、$3$列ベクトル${\\bf x}$を与えられることにより、$2$列ベクトル${\\bf y}$に変換される。"
      ]
    },
    {
      "cell_type": "code",
      "execution_count": null,
      "metadata": {
        "id": "26FzBKD48qHM"
      },
      "outputs": [],
      "source": [
        "import numpy as np"
      ]
    },
    {
      "cell_type": "code",
      "execution_count": null,
      "metadata": {
        "id": "uz_akWWs5qhO"
      },
      "outputs": [],
      "source": [
        "A = np.array([\n",
        "    [ 1, 2, -5],\n",
        "    [ 2, 3, -7],\n",
        "])\n",
        "x = np.array([1, 2, 3]).reshape(-1,1)"
      ]
    },
    {
      "cell_type": "code",
      "execution_count": null,
      "metadata": {
        "colab": {
          "base_uri": "https://localhost:8080/"
        },
        "id": "jnennY5U8m2U",
        "outputId": "41956021-17cf-431f-f3b4-02263f488cf8"
      },
      "outputs": [
        {
          "data": {
            "text/plain": [
              "array([[-10],\n",
              "       [-13]])"
            ]
          },
          "execution_count": 51,
          "metadata": {},
          "output_type": "execute_result"
        }
      ],
      "source": [
        "np.dot(A,x)"
      ]
    },
    {
      "cell_type": "markdown",
      "metadata": {
        "id": "OUuqgEZi-kqX"
      },
      "source": [
        "# 線形写像\n",
        "\n",
        "- $n$次元ベクトル空間$𝑅^𝑛$ の1つの要素を決めたとき、ベクトル空間$𝑅^𝑚$ のただ一つの要素が決まるとする。\n",
        "  - $𝑓:𝑅^𝑛→𝑅^𝑚$\n",
        "  - この$𝑓$が次を満たすとき、$𝑓$を線形写像 \"(linear mapping)\" という。\n",
        "    - 𝑓(𝒙+𝒚)=𝑓(𝒙)+𝑓(𝒚)\n",
        "    - 𝑓(𝑘𝒙)=𝑘𝑓(𝒙)\n",
        "- 特に、 $𝑛=𝑚$のとき、これを線形変換(linear transformation)という。\n",
        "  - $𝑓:𝑅^𝑛→𝑅^𝑛$\n",
        "\n",
        "\n"
      ]
    },
    {
      "cell_type": "markdown",
      "metadata": {
        "id": "E77vehiNeKAc"
      },
      "source": [
        "## 線形変換の例\n",
        "- 線形変換$𝑓$の対応関係が\n",
        "  - $𝑓: 𝑅^3→𝑅^3$\n",
        "  - $\\begin{bmatrix}\n",
        "x_{1} \\\\\n",
        "x_{2} \\\\\n",
        "x_{3} \\\\\n",
        "\\end{bmatrix}\n",
        "→\\begin{bmatrix}\n",
        "𝑥_1+2𝑥_2−3𝑥_3 \\\\\n",
        "2𝑥_1−𝑥_2+𝑥_3 \\\\\n",
        "−𝑥_1+3𝑥_2−2𝑥_3\n",
        "\\end{bmatrix}\n",
        "$\n",
        "\n",
        "- と定められるとき。この線形変換の表現行列を求めよう。\n",
        "- さらに、 $\\begin{bmatrix}\n",
        "4 \\\\\n",
        "2 \\\\\n",
        "3 \\\\\n",
        "\\end{bmatrix}$が線形変換𝑓によってどこに変換されるかを求めよう。\n"
      ]
    },
    {
      "cell_type": "code",
      "execution_count": null,
      "metadata": {
        "id": "0DBru2S08uOh"
      },
      "outputs": [],
      "source": [
        "A = np.array([\n",
        "    [ 1, 2, -3],\n",
        "    [ 2, -1, 1],\n",
        "    [ -1, 3, -2],\n",
        "])\n",
        "x = np.array([4, 2, 3]).reshape(-1,1)"
      ]
    },
    {
      "cell_type": "code",
      "execution_count": null,
      "metadata": {
        "colab": {
          "base_uri": "https://localhost:8080/"
        },
        "id": "H5H7w9JHfbvc",
        "outputId": "6ee6af49-58a5-447b-815e-bb3f69e6991f"
      },
      "outputs": [
        {
          "data": {
            "text/plain": [
              "array([[ 1,  2, -3],\n",
              "       [ 2, -1,  1],\n",
              "       [-1,  3, -2]])"
            ]
          },
          "execution_count": 53,
          "metadata": {},
          "output_type": "execute_result"
        }
      ],
      "source": [
        "A"
      ]
    },
    {
      "cell_type": "code",
      "execution_count": null,
      "metadata": {
        "colab": {
          "base_uri": "https://localhost:8080/"
        },
        "id": "ONuL72gyfcKh",
        "outputId": "c6b8974c-0c7e-4572-881b-42a3f0e979f5"
      },
      "outputs": [
        {
          "data": {
            "text/plain": [
              "array([[-1],\n",
              "       [ 9],\n",
              "       [-4]])"
            ]
          },
          "execution_count": 54,
          "metadata": {},
          "output_type": "execute_result"
        }
      ],
      "source": [
        "np.dot(A,x)"
      ]
    },
    {
      "cell_type": "markdown",
      "metadata": {
        "id": "qmGgOzivqwuz"
      },
      "source": [
        "# 合成写像\n",
        "- $𝐴=\\begin{bmatrix}\n",
        "1 & 2 \\\\\n",
        "3 & −1\\\\\n",
        "4 & 5\\\\\n",
        "\\end{bmatrix}$という表現行列であらわされる\n",
        "$𝑓: 𝑅^2→𝑅^3$\n",
        "\n",
        "- $𝐵=\\begin{bmatrix}\n",
        "−2&2&−1\\\\\n",
        "3&1&2\n",
        "\\end{bmatrix}$という表現行列であらわされる\n",
        "$𝑔: 𝑅^3→𝑅^2$\n",
        "\n",
        "- 合成写像$𝑔∘𝑓$の表現行列は$𝐵𝐴$($2 \\times 2$行列)\n",
        "- 合成写像$𝑓∘𝑔$は表現行列は$𝐴𝐵$($3 \\times 3$行列)\n"
      ]
    },
    {
      "cell_type": "code",
      "execution_count": null,
      "metadata": {
        "id": "SqyUFqUgfd3b"
      },
      "outputs": [],
      "source": [
        "A = np.array([\n",
        "    [ 1, 2],\n",
        "    [ 3, -1],\n",
        "    [ 4, 5],\n",
        "])\n",
        "\n",
        "B = np.array([\n",
        "    [ -2, 2, -1,],\n",
        "    [ 3, 1, 2,],\n",
        "])\n"
      ]
    },
    {
      "cell_type": "code",
      "execution_count": null,
      "metadata": {
        "colab": {
          "base_uri": "https://localhost:8080/"
        },
        "id": "Hy39pv_WsdX0",
        "outputId": "32463bdb-e62a-4ea2-b447-2a3b2101f414"
      },
      "outputs": [
        {
          "data": {
            "text/plain": [
              "array([[  0, -11],\n",
              "       [ 14,  15]])"
            ]
          },
          "execution_count": 56,
          "metadata": {},
          "output_type": "execute_result"
        }
      ],
      "source": [
        "np.dot(B,A)"
      ]
    },
    {
      "cell_type": "code",
      "execution_count": null,
      "metadata": {
        "colab": {
          "base_uri": "https://localhost:8080/"
        },
        "id": "uBI05SR6sfzv",
        "outputId": "e9421258-0de2-4a76-ba5e-6ec02549a862"
      },
      "outputs": [
        {
          "data": {
            "text/plain": [
              "array([[ 4,  4,  3],\n",
              "       [-9,  5, -5],\n",
              "       [ 7, 13,  6]])"
            ]
          },
          "execution_count": 57,
          "metadata": {},
          "output_type": "execute_result"
        }
      ],
      "source": [
        "np.dot(A,B)"
      ]
    },
    {
      "cell_type": "markdown",
      "metadata": {
        "id": "Trb9_bUd8yn3"
      },
      "source": [
        "# 像$Imf$の定義\n",
        "- 線形写像$𝑓: 𝑉→𝑉′$に対し、像(image, range)を定義する\n",
        "  - $Im𝑓=\\{𝑓(𝒙)|𝒙∈𝑉\\}$\n",
        "\n",
        "![image.png](data:image/png;base64,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)\n",
        "\n",
        "- Im𝑓の基底の数、つまり𝑑𝑖𝑚(Im𝑓)は、線形写像𝑓の表現行列𝐴の階数(ランク)と一致する。\n",
        "\n"
      ]
    },
    {
      "cell_type": "code",
      "execution_count": null,
      "metadata": {
        "id": "Y3j3KUzmsiUa"
      },
      "outputs": [],
      "source": [
        "A = np.array([\n",
        "    [ 1, 2, 3],\n",
        "    [ 2, 3, 5],\n",
        "    [ 1, 1, 3],\n",
        "])"
      ]
    },
    {
      "cell_type": "code",
      "execution_count": null,
      "metadata": {
        "colab": {
          "base_uri": "https://localhost:8080/"
        },
        "id": "wt6kduSE0DaE",
        "outputId": "ca3d1b24-113a-4e69-c4dc-9784ba58c58b"
      },
      "outputs": [
        {
          "data": {
            "text/plain": [
              "3"
            ]
          },
          "execution_count": 59,
          "metadata": {},
          "output_type": "execute_result"
        }
      ],
      "source": [
        "np.linalg.matrix_rank(A)"
      ]
    },
    {
      "cell_type": "code",
      "execution_count": null,
      "metadata": {
        "id": "ZB2mT04H-fgw"
      },
      "outputs": [],
      "source": [
        "A = np.array([\n",
        "    [ 1, 2, 3],\n",
        "    [ 2, 3, 5],\n",
        "    [ 1, 1, 2],\n",
        "])"
      ]
    },
    {
      "cell_type": "code",
      "execution_count": null,
      "metadata": {
        "colab": {
          "base_uri": "https://localhost:8080/"
        },
        "id": "fbCMvw8b-fjE",
        "outputId": "a447a36b-82ef-4844-c23f-409e8ed7db56"
      },
      "outputs": [
        {
          "data": {
            "text/plain": [
              "2"
            ]
          },
          "execution_count": 61,
          "metadata": {},
          "output_type": "execute_result"
        }
      ],
      "source": [
        "np.linalg.matrix_rank(A)"
      ]
    },
    {
      "cell_type": "code",
      "execution_count": null,
      "metadata": {
        "id": "uIsDi6qe-fle"
      },
      "outputs": [],
      "source": [
        "A = np.array([\n",
        "    [ 1, 2, 3],\n",
        "    [ 2, 4, 6],\n",
        "    [ 3, 6, 9],\n",
        "])"
      ]
    },
    {
      "cell_type": "code",
      "execution_count": null,
      "metadata": {
        "colab": {
          "base_uri": "https://localhost:8080/"
        },
        "id": "8Afm1Qtn-9fI",
        "outputId": "38d6171f-5b73-44b2-9d3c-6b1af03ce7a0"
      },
      "outputs": [
        {
          "data": {
            "text/plain": [
              "1"
            ]
          },
          "execution_count": 63,
          "metadata": {},
          "output_type": "execute_result"
        }
      ],
      "source": [
        "np.linalg.matrix_rank(A)"
      ]
    },
    {
      "cell_type": "markdown",
      "metadata": {
        "id": "tlwp9jlWBB7-"
      },
      "source": [
        "# 核$Ker𝑓$の定義\n",
        "- 線形写像$𝑓: 𝑉→𝑉′$に対し、核(kernel, null space)を定義する\n",
        "  - $Ker𝑓=\\{𝒙|𝒙∈𝑉,𝑓(𝒙)=𝟎\\}$\n",
        "\n",
        "\n",
        "![image.png](data:image/png;base64,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)\n",
        "\n",
        "\n",
        "- $Kerf$の基底はscipy.linalg.null_space(A)で計算できる。\n",
        "- つまり $dim(Kerf)$は、scipy.linalg.null_space(A).shape[1]で表現できる。\n"
      ]
    },
    {
      "cell_type": "code",
      "execution_count": null,
      "metadata": {
        "id": "TtNhHorH-9h6"
      },
      "outputs": [],
      "source": [
        "from scipy import linalg"
      ]
    },
    {
      "cell_type": "code",
      "execution_count": null,
      "metadata": {
        "id": "FDP7qoCw-9md"
      },
      "outputs": [],
      "source": [
        "A = np.array([\n",
        "    [ 1, 2, 3],\n",
        "    [ 2, 3, 5],\n",
        "    [ 1, 1, 3],\n",
        "])"
      ]
    },
    {
      "cell_type": "code",
      "execution_count": null,
      "metadata": {
        "colab": {
          "base_uri": "https://localhost:8080/"
        },
        "id": "Kw1PSK2p-9r5",
        "outputId": "e1927ed3-ef5f-4d10-c6a4-ec72cdcabfc2"
      },
      "outputs": [
        {
          "data": {
            "text/plain": [
              "array([], shape=(3, 0), dtype=float64)"
            ]
          },
          "execution_count": 66,
          "metadata": {},
          "output_type": "execute_result"
        }
      ],
      "source": [
        "linalg.null_space(A)"
      ]
    },
    {
      "cell_type": "code",
      "execution_count": null,
      "metadata": {
        "colab": {
          "base_uri": "https://localhost:8080/"
        },
        "id": "UdPAaQxB-9zO",
        "outputId": "bba706dc-dfac-44e4-951b-a5f7c0d58cae"
      },
      "outputs": [
        {
          "data": {
            "text/plain": [
              "0"
            ]
          },
          "execution_count": 67,
          "metadata": {},
          "output_type": "execute_result"
        }
      ],
      "source": [
        "linalg.null_space(A).shape[1]"
      ]
    },
    {
      "cell_type": "code",
      "execution_count": null,
      "metadata": {
        "id": "tMZf6ISG-91C"
      },
      "outputs": [],
      "source": [
        "A = np.array([\n",
        "    [ 1, 2, 3],\n",
        "    [ 2, 3, 5],\n",
        "    [ 1, 1, 2],\n",
        "])"
      ]
    },
    {
      "cell_type": "code",
      "execution_count": null,
      "metadata": {
        "colab": {
          "base_uri": "https://localhost:8080/"
        },
        "id": "Vh8sszhP-92r",
        "outputId": "6da7957b-acb6-4d91-cfb7-42c961761d12"
      },
      "outputs": [
        {
          "data": {
            "text/plain": [
              "array([[-0.57735027],\n",
              "       [-0.57735027],\n",
              "       [ 0.57735027]])"
            ]
          },
          "execution_count": 69,
          "metadata": {},
          "output_type": "execute_result"
        }
      ],
      "source": [
        "linalg.null_space(A)"
      ]
    },
    {
      "cell_type": "code",
      "execution_count": null,
      "metadata": {
        "colab": {
          "base_uri": "https://localhost:8080/"
        },
        "id": "_uy8WF4_-94d",
        "outputId": "ec09aa31-111f-4169-85da-2e4b970b49d9"
      },
      "outputs": [
        {
          "data": {
            "text/plain": [
              "1"
            ]
          },
          "execution_count": 70,
          "metadata": {},
          "output_type": "execute_result"
        }
      ],
      "source": [
        "linalg.null_space(A).shape[1]"
      ]
    },
    {
      "cell_type": "code",
      "execution_count": null,
      "metadata": {
        "id": "HSIng5pMDCqr"
      },
      "outputs": [],
      "source": [
        "A = np.array([\n",
        "    [ 1, 2, 3],\n",
        "    [ 2, 4, 6],\n",
        "    [ 3, 6, 9],\n",
        "])"
      ]
    },
    {
      "cell_type": "code",
      "execution_count": null,
      "metadata": {
        "colab": {
          "base_uri": "https://localhost:8080/"
        },
        "id": "kUHbiGnfDCs6",
        "outputId": "e2d09e50-cca3-4a0d-ca9b-7b7f952a6ce7"
      },
      "outputs": [
        {
          "data": {
            "text/plain": [
              "array([[ 0.96362411, -0.        ],\n",
              "       [-0.14824986,  0.83205029],\n",
              "       [-0.22237479, -0.5547002 ]])"
            ]
          },
          "execution_count": 72,
          "metadata": {},
          "output_type": "execute_result"
        }
      ],
      "source": [
        "linalg.null_space(A)"
      ]
    },
    {
      "cell_type": "code",
      "execution_count": null,
      "metadata": {
        "colab": {
          "base_uri": "https://localhost:8080/"
        },
        "id": "Fa_pyDp4-97H",
        "outputId": "1f5db3e8-cd4f-43c9-cbc2-6e340d0f29fb"
      },
      "outputs": [
        {
          "data": {
            "text/plain": [
              "2"
            ]
          },
          "execution_count": 73,
          "metadata": {},
          "output_type": "execute_result"
        }
      ],
      "source": [
        "linalg.null_space(A).shape[1]"
      ]
    },
    {
      "cell_type": "markdown",
      "metadata": {
        "id": "a8TT1oCQPPqu"
      },
      "source": [
        "# 個人課題のサンプルプログラム\n",
        "- filepathで指定した画像ファイルを読み込み、その画像のRGB値の平均をNumpyのArrayで【行ベクトルで】返す関数　ext_mean_rgb(filepath)\n",
        "- RGB値をnumpy array、qcolor=np.array([r,g,b])で与えられると[赤,橙,黄,緑,青,紫,ピンク,白,グレー,黒]の重みを成分とする10次元ベクトルが出力される関数gen_color_vec(qcolor)\n",
        "\n",
        "## やること\n",
        "- 「15分で理解する色彩と心理学の関係－色が人間の心に与える影響」(https://re-sta.jp/color-psychology-7787 )を読みながら印象を表す語と10色の関係を表す行列を作ってみよう\n",
        "- 画像データをファイルパスで指定するとその画像データの色の印象から喚起される語が出力されるようなプログラムを作ってみよう\n",
        "\n",
        "\n",
        "### ヒント\n",
        "- 印象を表す語と10色(赤,橙,黄,緑,青,紫,ピンク,白,グレー,黒)の関係を表す行列を$A$作成するためには、その語が書いてあれば「1」、書いてなければ「0」で表現する行列を作成すればよい。\n",
        "- 上記のext_mean_rgb(filepath)、gen_color_vec(qcolor)を使えば、画像データから10色の要素からなる10次元のベクトルが出力される。\n",
        "- あとは、${\\bf y}=A{\\bf x}$を計算すれば、${\\bf y}$が各語の重みになるため、重みの大きいものから順番に列挙できれば完成\n"
      ]
    },
    {
      "cell_type": "code",
      "source": [],
      "metadata": {
        "id": "UIAzW97pFCQ5"
      },
      "execution_count": null,
      "outputs": []
    }
  ],
  "metadata": {
    "colab": {
      "provenance": [],
      "include_colab_link": true
    },
    "kernelspec": {
      "display_name": "Python 3",
      "name": "python3"
    },
    "language_info": {
      "codemirror_mode": {
        "name": "ipython",
        "version": 3
      },
      "file_extension": ".py",
      "mimetype": "text/x-python",
      "name": "python",
      "nbconvert_exporter": "python",
      "pygments_lexer": "ipython3",
      "version": "3.11.6"
    }
  },
  "nbformat": 4,
  "nbformat_minor": 0
}