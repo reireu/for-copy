{
 "cells": [
  {
   "cell_type": "markdown",
   "metadata": {},
   "source": [
    "# データと計量経済学 第2回 ベイズ推定の基本(その2)"
   ]
  },
  {
   "cell_type": "markdown",
   "metadata": {},
   "source": [
    "## 参考文献\n",
    "- 完全独習 ベイズ統計学入門 小島　寛之 著 ダイヤモンド社\n",
    "    - https://www.diamond.co.jp/book/9784478013328.html"
   ]
  },
  {
   "cell_type": "code",
   "execution_count": 1,
   "metadata": {},
   "outputs": [],
   "source": [
    "# ライブラリのimport\n",
    "\n",
    "# NumPy用ライブラリ\n",
    "import numpy as np\n",
    "# Matplotlib中のpyplotライブラリのインポート\n",
    "import matplotlib.pyplot as plt\n",
    "# matplotlib日本語化対応ライブラリのインポート\n",
    "import japanize_matplotlib\n",
    "\n"
   ]
  },
  {
   "cell_type": "markdown",
   "metadata": {},
   "source": [
    "- **BayesianEstimationAreaChartAnalyzer**というクラスを用意しました。"
   ]
  },
  {
   "cell_type": "code",
   "execution_count": 54,
   "metadata": {},
   "outputs": [],
   "source": [
    "class BayesianEstimationAreaChartAnalyzer:\n",
    "    def __init__(self, conditional_probabilities, labels, prior_probabilities):\n",
    "        \"\"\"\n",
    "        分析クラスを初期化し、データを保持します。\n",
    "\n",
    "        Args:\n",
    "            conditional_probabilities (list of lists): 条件付確率のリスト（形状は [カテゴリ][スタック]）。\n",
    "            labels (list): 各カテゴリのラベル。\n",
    "            prior_probabilities (list): 事前確率のリスト（割合指定、合計が1である必要あり）。\n",
    "        \"\"\"\n",
    "        self.conditional_probabilities = np.array(conditional_probabilities)\n",
    "        self.labels = labels\n",
    "        self.prior_probabilities = prior_probabilities\n",
    "\n",
    "    def plot_prior_probabilities_chart(self, colors=None, title=\"事前確率のみを表示する棒グラフ\", xlabel=\"カテゴリ\", ylabel=\"割合\", text_offset_ratio=0.05):\n",
    "        \"\"\"\n",
    "        事前確率のみを使用して棒グラフをプロットします。\n",
    "\n",
    "        棒グラフは縦に分割されず、データラベルも表示しません。\n",
    "        各カテゴリの上部には事前確率の値を表示します。\n",
    "        \"\"\"\n",
    "        num_categories = len(self.prior_probabilities)\n",
    "\n",
    "        if colors is None:\n",
    "            colors = plt.cm.tab10.colors  # デフォルトの色パレット\n",
    "\n",
    "        if not np.isclose(sum(self.prior_probabilities), 1.0):\n",
    "            raise ValueError(\"prior_probabilitiesの合計は1である必要があります。\")\n",
    "\n",
    "        x_positions = np.cumsum([0] + self.prior_probabilities[:-1])  # 各カテゴリの左端位置\n",
    "        y_max = 1.0  # グラフ全体の高さを1.0に設定\n",
    "        fig, ax = plt.subplots(figsize=(8, 6))\n",
    "\n",
    "        # 上部と右部の枠線を削除\n",
    "        ax.spines['top'].set_visible(False)\n",
    "        ax.spines['right'].set_visible(False)\n",
    "\n",
    "        # 各カテゴリのバーをプロット\n",
    "        for i, (label, x_pos, width) in enumerate(zip(self.labels, x_positions, self.prior_probabilities)):\n",
    "            bar = ax.bar(\n",
    "                x_pos,\n",
    "                y_max,\n",
    "                width=width,\n",
    "                bottom=0,\n",
    "                color='white',\n",
    "                edgecolor='black',\n",
    "                align='edge',\n",
    "                label=f\"{label}\"\n",
    "            )\n",
    "\n",
    "            # 事前確率をカテゴリごとの上部に表示\n",
    "            text_y_position = y_max * (1 + text_offset_ratio)\n",
    "            ax.text(\n",
    "                x_pos + width / 2,\n",
    "                text_y_position,\n",
    "                f\"{width:.2f}\",\n",
    "                ha='center',\n",
    "                va='bottom',\n",
    "                fontsize=10,\n",
    "                color=\"black\"\n",
    "            )\n",
    "\n",
    "        # 区切り線を描画\n",
    "        for x_pos in x_positions:\n",
    "            ax.axvline(x_pos, color=\"gray\", linestyle=\"--\", linewidth=1)\n",
    "        ax.axvline(x_positions[-1] + self.prior_probabilities[-1], color=\"gray\", linestyle=\"--\", linewidth=1)\n",
    "\n",
    "        ax.set_xticks(x_positions + np.array(self.prior_probabilities) / 2)\n",
    "        ax.set_xticklabels(self.labels)\n",
    "        ax.set_ylim(0, y_max * (1 + text_offset_ratio * 2))\n",
    "        ax.set_title(title)\n",
    "        ax.set_xlabel(xlabel)\n",
    "        ax.set_ylabel(ylabel)\n",
    "\n",
    "        plt.tight_layout()\n",
    "        plt.show()\n",
    "\n",
    "    def plot_combined_stacked_bar_chart(self, colors=None, title=\"データラベルを2行表示する積み上げ棒グラフ\", xlabel=\"カテゴリ\", ylabel=\"割合\", text_offset_ratio=0.05):\n",
    "        \"\"\"\n",
    "        一つのグラフで、条件付確率と事前確率×条件付確率の積の両方のデータラベルを表示します。\n",
    "\n",
    "        各バーには以下の形式で2行のデータラベルが表示されます：\n",
    "        条件付確率：数値\n",
    "        全体の確率：数値\n",
    "        \"\"\"\n",
    "        num_categories, num_stacks = self.conditional_probabilities.shape\n",
    "\n",
    "        if colors is None:\n",
    "            colors = plt.cm.tab10.colors  # デフォルトの色パレット\n",
    "\n",
    "        if not np.isclose(sum(self.prior_probabilities), 1.0):\n",
    "            raise ValueError(\"prior_probabilitiesの合計は1である必要があります。\")\n",
    "\n",
    "        x_positions = np.cumsum([0] + self.prior_probabilities[:-1])  # 各カテゴリの左端位置\n",
    "        y_max = 1.0  # グラフ全体の最大値を1.0に設定\n",
    "        fig, ax = plt.subplots(figsize=(8, 6))\n",
    "\n",
    "        # 上部と右部の枠線を削除\n",
    "        ax.spines['top'].set_visible(False)\n",
    "        ax.spines['right'].set_visible(False)\n",
    "\n",
    "        for i, (category_data, label, x_pos, width) in enumerate(zip(self.conditional_probabilities, self.labels, x_positions, self.prior_probabilities)):\n",
    "            # データの順序を逆にする\n",
    "            category_data_reversed = category_data[::-1]\n",
    "\n",
    "            # bottomsを再計算\n",
    "            bottoms = np.cumsum(category_data_reversed) - category_data_reversed\n",
    "\n",
    "            bars = ax.bar(\n",
    "                x_pos,\n",
    "                category_data_reversed,\n",
    "                width=width,\n",
    "                bottom=bottoms,\n",
    "                facecolor='none',   # 塗りつぶしなし\n",
    "                edgecolor='black',  # 枠線の色を黒色に指定\n",
    "                align='edge',\n",
    "                label=f\"{label}\"\n",
    "            )\n",
    "\n",
    "            # 各バーに2行のデータラベルを表示\n",
    "            for bar, cond_prob in zip(bars, category_data_reversed):\n",
    "                bar_center = bar.get_y() + bar.get_height() / 2  # バーの中央位置\n",
    "                multiplied_value = cond_prob * width\n",
    "                label_text = f\"条件付確率：{cond_prob:.2f}\\n全体の確率：{multiplied_value:.2f}\"\n",
    "                ax.text(\n",
    "                    bar.get_x() + width / 2,\n",
    "                    bar_center,\n",
    "                    label_text,\n",
    "                    ha='center',\n",
    "                    va='center',\n",
    "                    color=\"black\",\n",
    "                    fontsize=10\n",
    "                )\n",
    "\n",
    "            # 事前確率をカテゴリごとの上部に表示\n",
    "            text_y_position = y_max * (1 + text_offset_ratio)\n",
    "            ax.text(\n",
    "                x_pos + width / 2,\n",
    "                text_y_position,\n",
    "                f\"{width:.2f}\",\n",
    "                ha='center',\n",
    "                va='bottom',\n",
    "                fontsize=10,\n",
    "                color=\"black\"\n",
    "            )\n",
    "\n",
    "        # 区切り線を描画\n",
    "        for x_pos in x_positions:\n",
    "            ax.axvline(x_pos, color=\"gray\", linestyle=\"--\", linewidth=1)\n",
    "        ax.axvline(x_positions[-1] + self.prior_probabilities[-1], color=\"gray\", linestyle=\"--\", linewidth=1)\n",
    "\n",
    "        ax.set_xticks(x_positions + np.array(self.prior_probabilities) / 2)\n",
    "        ax.set_xticklabels(self.labels)\n",
    "        ax.set_ylim(0, y_max * (1 + text_offset_ratio * 2))\n",
    "        ax.set_title(title)\n",
    "        ax.set_xlabel(xlabel)\n",
    "        ax.set_ylabel(ylabel)\n",
    "\n",
    "        plt.tight_layout()\n",
    "        plt.show()\n",
    "\n",
    "    def plot_highlighted_stacked_bar_chart(self, index, colors=None, title=\"指定インデックスのスタックのみ表示\", xlabel=\"カテゴリ\", ylabel=\"割合\", text_offset_ratio=0.05):\n",
    "        \"\"\"\n",
    "        指定したインデックス以外のスタックを灰色で表示し、指定したスタックのみ強調表示するグラフをプロットします。\n",
    "\n",
    "        Args:\n",
    "            index (int): 強調表示したいスタックのインデックス（0始まり）。\n",
    "        \"\"\"\n",
    "        import matplotlib.pyplot as plt\n",
    "        import numpy as np\n",
    "\n",
    "        num_categories, num_stacks = self.conditional_probabilities.shape\n",
    "\n",
    "        if colors is None:\n",
    "            colors = plt.cm.tab10.colors\n",
    "\n",
    "        if not np.isclose(sum(self.prior_probabilities), 1.0):\n",
    "            raise ValueError(\"prior_probabilitiesの合計は1である必要があります。\")\n",
    "\n",
    "        x_positions = np.cumsum([0] + self.prior_probabilities[:-1])\n",
    "        y_max = 1.0  # グラフ全体の最大値を1.0に設定\n",
    "        fig, ax = plt.subplots(figsize=(8, 6))\n",
    "\n",
    "        # 上部と右部の枠線を削除\n",
    "        ax.spines['top'].set_visible(False)\n",
    "        ax.spines['right'].set_visible(False)\n",
    "\n",
    "        for i, (category_data, label, x_pos, width) in enumerate(zip(self.conditional_probabilities, self.labels, x_positions, self.prior_probabilities)):\n",
    "            # データの順序を逆にする\n",
    "            category_data_reversed = category_data[::-1]\n",
    "\n",
    "            # bottomsを再計算\n",
    "            bottoms = np.cumsum(category_data_reversed) - category_data_reversed\n",
    "\n",
    "            # インデックスも逆順に対応させる\n",
    "            reversed_index = num_stacks - 1 - index\n",
    "\n",
    "            for j in range(num_stacks):\n",
    "                if j == reversed_index:\n",
    "                    facecolor = 'white'\n",
    "                    edgecolor = 'black'\n",
    "                    show_label = True\n",
    "                else:\n",
    "                    facecolor = 'gray'\n",
    "                    edgecolor = 'black'\n",
    "                    show_label = False\n",
    "\n",
    "                bar = ax.bar(\n",
    "                    x_pos,\n",
    "                    category_data_reversed[j],\n",
    "                    width=width,\n",
    "                    bottom=bottoms[j],\n",
    "                    facecolor=facecolor,\n",
    "                    edgecolor=edgecolor,\n",
    "                    align='edge'\n",
    "                )\n",
    "\n",
    "                multiplied_value = category_data_reversed[j] * width\n",
    "\n",
    "                if show_label and multiplied_value > 0:\n",
    "                    bar_center = bottoms[j] + category_data_reversed[j] / 2\n",
    "                    ax.text(\n",
    "                        x_pos + width / 2,\n",
    "                        bar_center,\n",
    "                        f\"{multiplied_value:.2f}\",\n",
    "                        ha='center',\n",
    "                        va='center',\n",
    "                        color=\"black\",\n",
    "                        fontsize=10\n",
    "                    )\n",
    "\n",
    "            # 事前確率をカテゴリごとの上部に表示\n",
    "            text_y_position = y_max * (1 + text_offset_ratio)\n",
    "            ax.text(\n",
    "                x_pos + width / 2,\n",
    "                text_y_position,\n",
    "                f\"{width:.2f}\",\n",
    "                ha='center',\n",
    "                va='bottom',\n",
    "                fontsize=10,\n",
    "                color=\"black\"\n",
    "            )\n",
    "\n",
    "        # 区切り線を描画\n",
    "        for x_pos in x_positions:\n",
    "            ax.axvline(x_pos, color=\"gray\", linestyle=\"--\", linewidth=1)\n",
    "        ax.axvline(x_positions[-1] + self.prior_probabilities[-1], color=\"gray\", linestyle=\"--\", linewidth=1)\n",
    "\n",
    "        ax.set_xticks(x_positions + np.array(self.prior_probabilities) / 2)\n",
    "        ax.set_xticklabels(self.labels)\n",
    "        ax.set_ylim(0, y_max * (1 + text_offset_ratio * 2))\n",
    "        ax.set_title(title)\n",
    "        ax.set_xlabel(xlabel)\n",
    "        ax.set_ylabel(ylabel)\n",
    "\n",
    "        plt.tight_layout()\n",
    "        plt.show()\n",
    "\n",
    "        # 事後確率を計算\n",
    "        numerator = self.prior_probabilities * self.conditional_probabilities[:, index]\n",
    "        denominator = np.sum(numerator)\n",
    "        posterior_probs = numerator / denominator\n",
    "\n",
    "        # ラベルと事後確率を表示\n",
    "        print(\"事後確率:\")\n",
    "        for label, prob in zip(self.labels, posterior_probs):\n",
    "            print(f\"{label}: {prob:.2%}\")\n",
    "\n",
    "    def calculate_posterior_probabilities(self, index):\n",
    "        \"\"\"\n",
    "        指定されたスタックのインデックスに基づいて事後確率を計算し、リストで返します。\n",
    "\n",
    "        Args:\n",
    "            index (int): 事後確率を計算するためのスタックのインデックス（0始まり）。\n",
    "\n",
    "        Returns:\n",
    "            list: 各カテゴリに対応する事後確率のリスト（合計は1）。\n",
    "        \"\"\"\n",
    "        num_stacks = self.conditional_probabilities.shape[1]\n",
    "        if index < 0 or index >= num_stacks:\n",
    "            raise ValueError(f\"indexは0から{num_stacks - 1}の範囲で指定してください。\")\n",
    "\n",
    "        # 各カテゴリごとに、事前確率と条件付確率の積を計算\n",
    "        multiplied_values = []\n",
    "        for prior, cond_probs in zip(self.prior_probabilities, self.conditional_probabilities):\n",
    "            cond_prob = cond_probs[index]\n",
    "            multiplied_value = prior * cond_prob\n",
    "            multiplied_values.append(multiplied_value)\n",
    "\n",
    "        # 合計を計算して正規化\n",
    "        total = sum(multiplied_values)\n",
    "        if total == 0:\n",
    "            raise ValueError(\"合計が0になるため、事後確率を計算できません。\")\n",
    "\n",
    "        posterior_probabilities = [value / total for value in multiplied_values]\n",
    "\n",
    "        return posterior_probabilities"
   ]
  },
  {
   "cell_type": "markdown",
   "metadata": {},
   "source": [
    "## 1.おさらい\n",
    "- ベイズ推定の手続きの基本は以下という話でした。\n",
    "    - (事前確率) -> (条件付き確率) -> (観測による情報の入手) -> (事後確率)\n",
    "\n",
    "\n",
    "- 用語確認\n",
    "    - 事前確率(prior probability)\n",
    "    - 条件付き確率(conditional probability)\n",
    "    - 事後確率(posterior probability)\n"
   ]
  },
  {
   "cell_type": "markdown",
   "metadata": {},
   "source": [
    "- 前回の「買う人」「ひやかし」の例で確認しましょう。\n",
    "\n",
    "\n",
    "- 事前確率：\n",
    "\n",
    "| 買う人 | ひやかし |\n",
    "| ---- | ---- |\n",
    "|0.2 | 0.8|\n",
    "\n",
    "- 条件付き確率：\n",
    "\n",
    "| タイプ | 声かけの確率 | 声かけしない確率 |\n",
    "| ---- | ---- | ---- |\n",
    "|買う人 | 0.9 | 0.1|\n",
    "|ひやかし | 0.3 | 0.7 |"
   ]
  },
  {
   "cell_type": "markdown",
   "metadata": {},
   "source": [
    "- 実行例です。"
   ]
  },
  {
   "cell_type": "code",
   "execution_count": null,
   "metadata": {},
   "outputs": [],
   "source": [
    "# サンプルデータの定義\n",
    "prior_probabilities = [0.2, 0.8]\n",
    "labels = ['買う人', 'ひやかし']\n",
    "\n",
    "conditional_probabilities = [\n",
    "    [0.9, 0.1],\n",
    "    [0.3, 0.7]\n",
    "]\n",
    "\n",
    "# クラスのインスタンス化\n",
    "analyzer = BayesianEstimationAreaChartAnalyzer(conditional_probabilities, labels, prior_probabilities)\n",
    "\n",
    "# 1. 事前確率のみを表示するグラフをプロット\n",
    "analyzer.plot_prior_probabilities_chart(title=\"事前確率\")\n",
    "\n",
    "# 2. データラベルを2行表示する積み上げ棒グラフをプロット\n",
    "analyzer.plot_combined_stacked_bar_chart(title=\"条件付き確率\")\n",
    "\n",
    "# 3. 特定のスタックを強調表示するグラフをプロット\n",
    "## 次の4も中で呼び出している。\n",
    "index = 0\n",
    "analyzer.plot_highlighted_stacked_bar_chart(index, title=f\"インデックス{index}を観測した場合\")\n",
    "\n",
    "# 4. 事後確率を計算して返す(indexを指定)\n",
    "posterior_probs = analyzer.calculate_posterior_probabilities(index)\n",
    "print(\"4.数値のリストだけを計算して入手して表示\")\n",
    "print(posterior_probs)"
   ]
  },
  {
   "cell_type": "markdown",
   "metadata": {},
   "source": [
    "- 上記で分かる通り、事後確率も計算できるようにしました。\n",
    "- 上の例は、声かけがあった場合でした。声かけがなかった場合も実行してみましょう。"
   ]
  },
  {
   "cell_type": "code",
   "execution_count": null,
   "metadata": {},
   "outputs": [],
   "source": [
    "# 3. 特定のスタックを強調表示するグラフをプロット\n",
    "## 次の4も中で呼び出している。\n",
    "index = 1\n",
    "analyzer.plot_highlighted_stacked_bar_chart(index, title=f\"インデックス{index}を観測した場合\")"
   ]
  },
  {
   "cell_type": "markdown",
   "metadata": {},
   "source": [
    "----\n",
    "### 問1 ベイズ推定ができるクラスを具体的な問題に適用してみよう。\n",
    "----"
   ]
  },
  {
   "cell_type": "markdown",
   "metadata": {},
   "source": [
    " #### 問1-1 スパムメールの分類(カテゴリ2×2)\n",
    "- 背景:\n",
    "> 受信したメールが「スパム」か「通常メール」かを分類したい。メールがスパムかどうかは直接には分かりませんが、特定のキーワード（例えば「無料」）が含まれているかどうかが分かります。\n",
    "\n",
    "- 事前確率:\n",
    "    - スパムメールの割合:20%\n",
    "    - 通常メールの割合:80%\n",
    "\n",
    "- 条件付き確率:\n",
    "    - スパムメールがキーワードを含む確率:70%\n",
    "    - 通常メールがキーワードを含む確率:10%\n",
    "- 観測:\n",
    "    - メールに特定のキーワードが含まれている。\n",
    "- 目的:\n",
    "    - そのメールがスパムである事後確率を求める。"
   ]
  },
  {
   "cell_type": "code",
   "execution_count": null,
   "metadata": {},
   "outputs": [],
   "source": [
    "# ここに書く"
   ]
  },
  {
   "cell_type": "markdown",
   "metadata": {},
   "source": [
    "#### 問1-2 商品の不良率と生産ライン(カテゴリ3×2)\n",
    "- 背景:\n",
    "> 工場には3つの生産ラインがあり、それぞれライン1、ライン2、ライン3とします。製品がどの生産ラインから出荷されたかはわかりませんが、その製品が不良品かどうかを検査することができます。\n",
    "\n",
    "- 事前確率:\n",
    "    - ライン1から出荷される確率: 40%\n",
    "    - ライン2から出荷される確率: 35%\n",
    "    - ライン3から出荷される確率: 25%\n",
    "- 条件付き確率:\n",
    "    - 各生産ラインでの不良品率（製品が不良品である確率）。\n",
    "        - ライン1の場合: 5%\n",
    "        - ライン2の場合: 10%\n",
    "        - ライン3の場合: 15%\n",
    "- 観測:\n",
    "    - 製品が不良品であった。\n",
    "\n",
    "- 目的:\n",
    "    - この観測に基づいて、製品が各生産ラインから出荷された事後確率を求める。"
   ]
  },
  {
   "cell_type": "code",
   "execution_count": 59,
   "metadata": {},
   "outputs": [],
   "source": [
    "# ここに書く"
   ]
  },
  {
   "cell_type": "markdown",
   "metadata": {},
   "source": [
    "#### 問1-3 試験の評価と学生の熱心さ(カテゴリ2×3)\n",
    "- 背景:\n",
    "> 学生はある試験を受け、その結果は「不合格」、「合格」、「優秀」の3段階で評価されます。我々は学生が「勉強熱心」か「勉強熱心でない」かの2つのカテゴリに分類されるとします。しかし、直接にはどちらのカテゴリか分かりません。\n",
    "\n",
    "- 事前確率:\n",
    "    - 勉強熱心な学生の割合: 40%\n",
    "    - 勉強熱心でない学生の割合: 60%\n",
    "- 条件付き確率:\n",
    "    - 各カテゴリの学生が試験で以下の評価を受ける確率:\n",
    "        - 勉強熱心な学生:\n",
    "            - 不合格: 10%\n",
    "            - 合格: 60%\n",
    "            - 優秀: 30%\n",
    "        - 勉強熱心でない学生:\n",
    "            - 不合格: 50%\n",
    "            - 合格: 40%\n",
    "            - 優秀: 10%\n",
    "- 観測:\n",
    "    - ある学生が試験で「優秀」の評価を得た。\n",
    "- 目的:\n",
    "    - この観測に基づいて、その学生が勉強熱心である事後確率を求める。"
   ]
  },
  {
   "cell_type": "code",
   "execution_count": 60,
   "metadata": {},
   "outputs": [],
   "source": [
    "# ここに書く"
   ]
  },
  {
   "cell_type": "markdown",
   "metadata": {},
   "source": [
    "## 2.事前確率が未知の場合(主観確率)\n",
    "\n",
    "参考図書P.44\n",
    "\n",
    "\n"
   ]
  },
  {
   "cell_type": "markdown",
   "metadata": {},
   "source": [
    "### 2.1 問題設定：チョコをくれた彼女の気持ちを推定する\n",
    "\n",
    "- 以下の状況を考えます。\n",
    "> あなたが男性であると仮定し、特定の同僚女性さんが自分に好意を持っているかどうか気になっているとする。そんな中、あなたはバレンタインデーに彼女からチョコレートを貰った。さて、あなたは、彼女が自分を本命と考えている確率をいくつと推定すべきか。\n",
    "\n",
    "\n",
    "\n"
   ]
  },
  {
   "cell_type": "markdown",
   "metadata": {},
   "source": [
    "### 2.2 ステップ1：事前確率の設定(しかし事前確率は未知である)\n",
    "\n",
    "- ここでのポイントは、「彼女があなたをどの程度、本命と思っているか」という人の心の中を(事前確率として)数値化しなくてはならないということです。\n",
    "    - 仮に「その同僚女性(同じ人)がたくさんいたら、そのうちの何%があなたを本命と思うか」という問いであれば「確率」の問題と考えることができますが、同僚女性(同じ人)は一人しかいないので、そんな問題は成り立ちません。\n",
    "    - こうしたことを扱えるのがベイズ推定の強みとも言えます。\n"
   ]
  },
  {
   "cell_type": "markdown",
   "metadata": {},
   "source": [
    "- あなたのことを好きなことを「**本命**」、そうでないことを「**論外**」と呼ぶことにします。\n",
    "- 単に全く分からないので、「**とりあえず同じ確率にする**」ということで「**0.5**」と「**0.5**」にします。\n",
    "    - このように、分からないのでとりあえず同じ確率であると考えることを「**理由不十分の原理**」と呼びます。"
   ]
  },
  {
   "cell_type": "markdown",
   "metadata": {},
   "source": [
    "- 表にするとこうです。\n",
    "\n",
    "- 事前確率：\n",
    "\n",
    "| 本命 | 論外 |\n",
    "| ---- | ---- |\n",
    "|0.5 | 0.5|"
   ]
  },
  {
   "cell_type": "markdown",
   "metadata": {},
   "source": [
    "### 2.3 ステップ2：条件付確率の設定"
   ]
  },
  {
   "cell_type": "markdown",
   "metadata": {},
   "source": [
    "- 以下を調査して、条件付確率を設定します。\n",
    "    - 本命の相手にチョコをあげる確率\n",
    "    - 論外の相手にチョコをあげる確率\n",
    "\n",
    "- これらはの確率、事前確率のときとは違って、沢山の人に聞いて統計データから確率を求めることに意味がある課題と考えられます。\n",
    "- そしてその結果が以下だったとします。\n",
    "\n",
    "| タイプ | チョコをあげる確率 | チョコをあげない確率 |\n",
    "| ---- | ---- | ---- |\n",
    "|本命 | 0.4 | 0.6 |\n",
    "|論外 | 0.2 | 0.8 |"
   ]
  },
  {
   "cell_type": "markdown",
   "metadata": {},
   "source": [
    "- ここまでで、BayesianEstimationAreaChartAnalyzerクラスを使って可視化してみましょう。"
   ]
  },
  {
   "cell_type": "code",
   "execution_count": null,
   "metadata": {},
   "outputs": [],
   "source": [
    "# サンプルデータの定義\n",
    "prior_probabilities = [0.5, 0.5]\n",
    "labels = ['本命', '論外']\n",
    "\n",
    "conditional_probabilities = [\n",
    "    [0.4, 0.6],\n",
    "    [0.2, 0.8]\n",
    "]\n",
    "\n",
    "# クラスのインスタンス化\n",
    "analyzer = BayesianEstimationAreaChartAnalyzer(conditional_probabilities, labels, prior_probabilities)\n",
    "\n",
    "# 1. 事前確率のみを表示するグラフをプロット\n",
    "analyzer.plot_prior_probabilities_chart(title=\"事前確率\")\n",
    "\n",
    "# 2. データラベルを2行表示する積み上げ棒グラフをプロット\n",
    "analyzer.plot_combined_stacked_bar_chart(title=\"条件付き確率\")\n"
   ]
  },
  {
   "cell_type": "markdown",
   "metadata": {},
   "source": [
    "### 2.4 ステップ3：観測による事後確率の決定"
   ]
  },
  {
   "cell_type": "markdown",
   "metadata": {},
   "source": [
    "- 同僚女性からチョコをもらうという事実が発生したとします。\n",
    "- これも可視化して、事後確率を求めてみましょう。\n"
   ]
  },
  {
   "cell_type": "code",
   "execution_count": null,
   "metadata": {},
   "outputs": [],
   "source": [
    "# 3. 特定のスタックを強調表示するグラフをプロット\n",
    "index = 0\n",
    "analyzer.plot_highlighted_stacked_bar_chart(index, title=f\"インデックス{index}を観測した場合\")"
   ]
  },
  {
   "cell_type": "markdown",
   "metadata": {},
   "source": [
    "- 結果は、本命の確率が2/3 = 約66%となりました。"
   ]
  },
  {
   "cell_type": "markdown",
   "metadata": {},
   "source": [
    "- 逆に、チョコを貰えなかったらどうなるのかも確認しましょう。"
   ]
  },
  {
   "cell_type": "code",
   "execution_count": null,
   "metadata": {},
   "outputs": [],
   "source": [
    "# 3. 特定のスタックを強調表示するグラフをプロット\n",
    "index = 1\n",
    "analyzer.plot_highlighted_stacked_bar_chart(index, title=f\"インデックス{index}を観測した場合\")"
   ]
  },
  {
   "cell_type": "markdown",
   "metadata": {},
   "source": [
    "- 結果は、本命の確率が約43%となりました。\n",
    "    - (問題設定のとおりなので間違ってないのですが)チョコがもらえなかっただけで本命の確率が43%あるというのは高い気がします。"
   ]
  },
  {
   "cell_type": "markdown",
   "metadata": {},
   "source": [
    "### 2.4 主観確率\n",
    "\n",
    "- 上記で最初に定めた**事前確率**や、求まった**事後確率**は、確率とは言うものの、本当に確率的な(未知の)事象なのではなく、なんらかの結論は出ているけどそれを知らないに過ぎないものになります。\n",
    "    - 「確率はいくつであると、あなたは思っている」というようなものになります。\n",
    "    - こうした確率のことを「**主観確率**」と呼びます。\n",
    "        - ちなみに条件付確率の部分は**客観確率**だったと言えそうです。\n",
    "        \n",
    "- ベイズ推定ではこの主観確率が扱えるのが強みといえば強みです。\n",
    "    - この主観確率というのが怪しいということでベイズ統計は一時期下火だったようです。\n"
   ]
  },
  {
   "cell_type": "markdown",
   "metadata": {},
   "source": [
    "----\n",
    "### 問2 事前確率を色々変えて試してみよう\n",
    "\n",
    "----"
   ]
  },
  {
   "cell_type": "markdown",
   "metadata": {},
   "source": [
    "- 上では、事前確率は理由不十分の原理により0.5:0.5としていましたが、ここは別の数値にしてもオッケーです。\n",
    "    - もともと想像している本命度合いを反映させることができます。\n",
    "\n",
    "- 以下の3種類の設定で事後確率を計算しましょう。"
   ]
  },
  {
   "cell_type": "markdown",
   "metadata": {},
   "source": [
    "- 共通部分\n",
    "    - 条件付確率\n",
    "\n",
    "| タイプ | チョコをあげる確率 | チョコをあげない確率 |\n",
    "| ---- | ---- | ---- |\n",
    "|本命 | 0.4 | 0.6 |\n",
    "|論外 | 0.2 | 0.8 |\n",
    "\n"
   ]
  },
  {
   "cell_type": "code",
   "execution_count": 64,
   "metadata": {},
   "outputs": [],
   "source": [
    "# 共通部分\n",
    "conditional_probabilities = [\n",
    "    [0.4, 0.6],\n",
    "    [0.2, 0.8]\n",
    "]"
   ]
  },
  {
   "cell_type": "markdown",
   "metadata": {},
   "source": [
    "#### 問2-1\n",
    "- 設定1\n",
    "    - 事前確率 : \n",
    "        - 本命 : 0.1\n",
    "        - 論外 : 0.9\n",
    "    - 観測結果 : チョコをもらう\n"
   ]
  },
  {
   "cell_type": "code",
   "execution_count": null,
   "metadata": {},
   "outputs": [],
   "source": [
    "# 設定1\n",
    "## ここに書く\n"
   ]
  },
  {
   "cell_type": "markdown",
   "metadata": {},
   "source": [
    "\n",
    "#### 問2-2\n",
    "\n",
    "- 設定2\n",
    "    - 事前確率 : \n",
    "        - 本命 : 0.3\n",
    "        - 論外 : 0.7\n",
    "    - 観測結果 : チョコをもらう\n"
   ]
  },
  {
   "cell_type": "code",
   "execution_count": null,
   "metadata": {},
   "outputs": [],
   "source": [
    "# 設定2\n",
    "## ここに書く\n"
   ]
  },
  {
   "cell_type": "markdown",
   "metadata": {},
   "source": [
    "#### 問2-3\n",
    "\n",
    "- 設定3\n",
    "    - 事前確率 : \n",
    "        - 本命 : 0.8\n",
    "        - 論外 : 0.2\n",
    "    - 観測結果 : チョコをもらえない"
   ]
  },
  {
   "cell_type": "code",
   "execution_count": null,
   "metadata": {},
   "outputs": [],
   "source": [
    "# 設定3\n",
    "## ここに書く\n"
   ]
  },
  {
   "cell_type": "markdown",
   "metadata": {},
   "source": [
    "----\n",
    "## 課題2-1. 事前確率の変化に対する事後確率の変化をグラフにする\n",
    "\n",
    "----"
   ]
  },
  {
   "cell_type": "markdown",
   "metadata": {},
   "source": [
    "- Goolge Classroomの課題のファイルに、グラフが書いてあるので、それをまず再現しましょう。\n",
    "- 描くグラフの仕様\n",
    "    - 事前確率の本命の率を、0.1から0.9まで、0.1刻みで変化させたものを横軸にする\n",
    "    - 事後確率の本命の率を縦軸とする\n",
    "    - プロットするのは折れ線グラフで、以下の3種類とする\n",
    "        - チョコをもらった場合の事後確率\n",
    "        - チョコをもらえなかった場合の事後確率\n",
    "        - 情報がない場合の事後確率(事前確率と同じ)\n",
    "\n",
    "\n",
    "\n",
    "- そのうえで、条件付確率を変更したバージョンもグラフにしなさい。\n",
    "\n",
    "\n",
    "- 条件1 : 元のもの\n",
    "\n",
    "| タイプ | チョコをあげる確率 | チョコをあげない確率 |\n",
    "| ---- | ---- | ---- |\n",
    "|本命 | 0.4 | 0.6 |\n",
    "|論外 | 0.2 | 0.8 |\n",
    "\n",
    "\n",
    "- 条件2 : 変更したもの\n",
    "\n",
    "| タイプ | チョコをあげる確率 | チョコをあげない確率 |\n",
    "| ---- | ---- | ---- |\n",
    "|本命 | 0.7 | 0.3 |\n",
    "|論外 | 0.1 | 0.9 |\n"
   ]
  },
  {
   "cell_type": "code",
   "execution_count": null,
   "metadata": {},
   "outputs": [],
   "source": [
    "# 条件1の場合\n",
    "## ここに書く\n"
   ]
  },
  {
   "cell_type": "code",
   "execution_count": null,
   "metadata": {},
   "outputs": [],
   "source": [
    "# 条件2の場合\n",
    "## ここに書く\n",
    "\n"
   ]
  },
  {
   "cell_type": "markdown",
   "metadata": {},
   "source": [
    "----\n",
    "## 課題2-2. 観測したことで一番確率が変わったのはどこか？\n",
    "\n",
    "----\n"
   ]
  },
  {
   "cell_type": "markdown",
   "metadata": {},
   "source": [
    "- 上記の条件1と条件2で、「情報がない場合」と比べて、観察したことで確率が変動した度合いが大きい場所を見つけたい。\n",
    "- 「情報がない場合」との他２つのグラフの差分をとって、差が大きいところを見つけよう。\n",
    "- スライドに数値と、「もらった場合」なのか「もらってない場合」なのかを書き込もう"
   ]
  },
  {
   "cell_type": "code",
   "execution_count": 91,
   "metadata": {},
   "outputs": [],
   "source": [
    "## 計算に使うコードがあれば書く"
   ]
  },
  {
   "cell_type": "markdown",
   "metadata": {},
   "source": [
    "## 3. 観測を複数回行う場合\n",
    "\n",
    "- 参考図書 P.148"
   ]
  },
  {
   "cell_type": "markdown",
   "metadata": {},
   "source": [
    "- 以下の問題を考えます。\n",
    "> 眼の前にツボが1つあり、AのツボかBのツボであることはわかっているが、見た目ではどちらかわからない。知識として、Aのツボには9個の白球と1個の黒球が入っており、Bのツボには2個の白球と8個の黒球が入っていることを知っているとする。\n",
    "\n",
    "\n",
    "- まとめると\n",
    "    - Aのツボ : [白球:9, 黒球:1]\n",
    "    - Bのツボ : [白球:2, 黒球:8]"
   ]
  },
  {
   "cell_type": "markdown",
   "metadata": {},
   "source": [
    "- **IncrementalBayesianAnalyzerクラス**の基本部分を用意しました。これに追記して完成させていきます。\n",
    "    - 後で完成させるため、まずは**IncrementalBayesianAnalyzer_base**という名前にしています。\n",
    "    - 上のクラスから最後の計算の部分だけ抜粋して作りました。\n"
   ]
  },
  {
   "cell_type": "code",
   "execution_count": 101,
   "metadata": {},
   "outputs": [],
   "source": [
    "class IncrementalBayesianAnalyzer_base:\n",
    "    def __init__(self, conditional_probabilities, labels, prior_probabilities):\n",
    "        \"\"\"\n",
    "        分析クラスを初期化し、データを保持します。\n",
    "\n",
    "        Args:\n",
    "            conditional_probabilities (list of lists): 条件付確率のリスト（形状は [カテゴリ][スタック]）。\n",
    "            labels (list): 各カテゴリのラベル。\n",
    "            prior_probabilities (list): 事前確率のリスト（割合指定、合計が1である必要あり）。\n",
    "        \"\"\"\n",
    "        self.conditional_probabilities = np.array(conditional_probabilities)\n",
    "        self.labels = labels\n",
    "        self.prior_probabilities = prior_probabilities\n",
    "\n",
    "\n",
    "    def calculate_posterior_probabilities(self, index):\n",
    "        \"\"\"\n",
    "        指定されたスタックのインデックスに基づいて事後確率を計算し、リストで返します。\n",
    "\n",
    "        Args:\n",
    "            index (int): 事後確率を計算するためのスタックのインデックス（0始まり）。\n",
    "\n",
    "        Returns:\n",
    "            list: 各カテゴリに対応する事後確率のリスト（合計は1）。\n",
    "        \"\"\"\n",
    "        num_stacks = self.conditional_probabilities.shape[1]\n",
    "        if index < 0 or index >= num_stacks:\n",
    "            raise ValueError(f\"indexは0から{num_stacks - 1}の範囲で指定してください。\")\n",
    "\n",
    "        # 各カテゴリごとに、事前確率と条件付確率の積を計算\n",
    "        multiplied_values = []\n",
    "        for prior, cond_probs in zip(self.prior_probabilities, self.conditional_probabilities):\n",
    "            cond_prob = cond_probs[index]\n",
    "            multiplied_value = prior * cond_prob\n",
    "            multiplied_values.append(multiplied_value)\n",
    "\n",
    "        # 合計を計算して正規化\n",
    "        total = sum(multiplied_values)\n",
    "        if total == 0:\n",
    "            raise ValueError(\"合計が0になるため、事後確率を計算できません。\")\n",
    "\n",
    "        posterior_probabilities = [value / total for value in multiplied_values]\n",
    "\n",
    "        return posterior_probabilities"
   ]
  },
  {
   "cell_type": "markdown",
   "metadata": {},
   "source": [
    "### 3.1 まずは1個だけ取り出すパターン\n",
    "\n",
    "- 今、ツボから球を1個だけ取り出して、出てきた球によってツボがAであるかBであるかの確率を求めてみましょう。\n",
    "- ここでは取り出されたのは白球であるとします。\n",
    "- 事前確率の設定は、特になんの情報もないとします。"
   ]
  },
  {
   "cell_type": "code",
   "execution_count": null,
   "metadata": {},
   "outputs": [],
   "source": [
    "# 事前確率の設定\n",
    "prior_probabilities = [0.5, 0.5] # 理由不十分の原理により\n",
    "\n",
    "# ラベルの設定\n",
    "labels = ['本命', '論外']\n",
    "\n",
    "# 条件付確率\n",
    "conditional_probabilities = [\n",
    "    [0.9, 0.1],\n",
    "    [0.2, 0.8]\n",
    "]\n",
    "\n",
    "# クラスのインスタンス化\n",
    "analyzer = IncrementalBayesianAnalyzer_base(conditional_probabilities, labels, prior_probabilities)\n",
    "\n",
    "# 観測\n",
    "index = 0 # 白球が取り出された\n",
    "\n",
    "# 事後確率の計算\n",
    "posterior_probabilities = analyzer.calculate_posterior_probabilities(index)\n",
    "\n",
    "# 結果の表示\n",
    "print(posterior_probabilities)"
   ]
  },
  {
   "cell_type": "markdown",
   "metadata": {},
   "source": [
    "### 3.2 2回取り出すパターン(その1)\n",
    "- 今度は、ツボから2回球を取り出してツボAかツボBかを当てることを考えます。\n",
    "    - 一度球を取り出したら、それは一旦ツボに入れ直すことにします(取り出す際の確率は固定ということ)\n",
    "\n",
    "- ここでは、上記のクラスを2回使って計算してみましょう。\n",
    "    - 一度、上と同じように事後確率を計算します。\n",
    "    - 次に、その**事後確率**を、**事前確率として**再度クラスからオブジェクトを作り、事後確率を計算します。\n",
    "\n"
   ]
  },
  {
   "cell_type": "markdown",
   "metadata": {},
   "source": [
    "----\n",
    "### 問3 ツボの問題で球を2回取り出す(クラスを2回作る)\n",
    "\n",
    "----\n",
    "\n",
    "- 上記3.2の設定で事後確率を計算してみましょう。\n",
    "- 4通りのパターンで計算してみましょう\n",
    "    - 問3-1 : 白 -> 白\n",
    "    - 問3-2 : 白 -> 黒\n",
    "    - 問3-3 : 黒 -> 白\n",
    "    - 問3-4 : 黒 -> 黒\n"
   ]
  },
  {
   "cell_type": "markdown",
   "metadata": {},
   "source": [
    "#### 問3-1 : 白 -> 白"
   ]
  },
  {
   "cell_type": "code",
   "execution_count": null,
   "metadata": {},
   "outputs": [],
   "source": [
    "## ここに書く\n",
    "\n"
   ]
  },
  {
   "cell_type": "markdown",
   "metadata": {},
   "source": [
    "#### 問3-2 : 白 -> 黒\n"
   ]
  },
  {
   "cell_type": "code",
   "execution_count": null,
   "metadata": {},
   "outputs": [],
   "source": [
    "## ここに書く\n",
    "\n"
   ]
  },
  {
   "cell_type": "markdown",
   "metadata": {},
   "source": [
    "#### 問3-3 : 黒 -> 白\n"
   ]
  },
  {
   "cell_type": "code",
   "execution_count": null,
   "metadata": {},
   "outputs": [],
   "source": [
    "## ここに書く\n",
    "\n"
   ]
  },
  {
   "cell_type": "markdown",
   "metadata": {},
   "source": [
    "#### 問3-4 : 黒 -> 黒"
   ]
  },
  {
   "cell_type": "code",
   "execution_count": null,
   "metadata": {},
   "outputs": [],
   "source": [
    "## ここに書く"
   ]
  },
  {
   "cell_type": "markdown",
   "metadata": {},
   "source": [
    "- ここで注目すべきことは、「白 -> 黒」と「黒 -> 白」が同じ結果になることです。\n",
    "- つまり、このケースでは順番は結果に影響を及ぼさないんですね。\n"
   ]
  },
  {
   "cell_type": "markdown",
   "metadata": {},
   "source": [
    "### 3.3 2回取り出すパターン(その2)(クラスを改良する)\n",
    "\n"
   ]
  },
  {
   "cell_type": "markdown",
   "metadata": {},
   "source": [
    "- **IncrementalBayesianAnalyzer**クラスを完成させます。\n",
    "\n"
   ]
  },
  {
   "cell_type": "markdown",
   "metadata": {},
   "source": [
    "----\n",
    "### 問4 IncrementalBayesianAnalyzerクラスを作る\n",
    "\n",
    "----\n"
   ]
  },
  {
   "cell_type": "markdown",
   "metadata": {},
   "source": [
    "\n",
    "- 以下の方針で**IncrementalBayesianAnalyzer**クラス作ります。\n",
    "    - 事後確率(posterior_probabilities)をクラス内に保持する。\n",
    "        - self.posterior_probabilitiesとして、`__init__`で定義しておく。\n",
    "        - 最初は`None`を代入しておく。\n",
    "    - **calculate_posterior_probabilities**メソッドを**update_posterior_probabilities**メソッドに変更\n",
    "        - このメソッドが呼ばれたら、**現状の事後確率を事前確率に代入する**。\n",
    "            - ただし、事後確率をまだ一度も求めていない場合は、代入は行わない。\n",
    "        - あとは**posterior_probabilities**に`self.`をつけるのを忘れずに。\n"
   ]
  },
  {
   "cell_type": "code",
   "execution_count": 120,
   "metadata": {},
   "outputs": [],
   "source": [
    "## ここに書く\n"
   ]
  },
  {
   "cell_type": "markdown",
   "metadata": {},
   "source": [
    "- 白球 -> 白球 の場合の実行は以下のようになります。"
   ]
  },
  {
   "cell_type": "code",
   "execution_count": null,
   "metadata": {},
   "outputs": [],
   "source": [
    "# 事前確率の設定\n",
    "prior_probabilities = [0.5, 0.5] # 理由不十分の原理により\n",
    "\n",
    "# ラベルの設定\n",
    "labels = ['ツボA', 'ツボB']\n",
    "\n",
    "# 条件付確率\n",
    "conditional_probabilities = [\n",
    "    [0.9, 0.1],\n",
    "    [0.2, 0.8]\n",
    "]\n",
    "\n",
    "# クラスのインスタンス化\n",
    "analyzer = IncrementalBayesianAnalyzer(conditional_probabilities, labels, prior_probabilities)\n",
    "\n",
    "# 観測\n",
    "index = 0 # 白球が取り出された\n",
    "# 事後確率の計算\n",
    "posterior_probabilities = analyzer.update_posterior_probabilities(index)\n",
    "\n",
    "# 結果(途中)の表示\n",
    "print(posterior_probabilities)\n",
    "\n",
    "# 観測\n",
    "index = 0 # 白球が取り出された\n",
    "# 事後確率の計算\n",
    "posterior_probabilities = analyzer.update_posterior_probabilities(index)\n",
    "\n",
    "# 結果(最終)の表示\n",
    "print(posterior_probabilities)\n",
    "\n"
   ]
  },
  {
   "cell_type": "markdown",
   "metadata": {},
   "source": [
    "----\n",
    "## 課題2-3 ツボから10回球を取り出すときの事後確率の推移をグラフにする。\n",
    "----"
   ]
  },
  {
   "cell_type": "markdown",
   "metadata": {},
   "source": [
    "- 3節と同じ問題設定で、ツボから10回球を取り出したとします。\n",
    "\n",
    "- 2回試行して、以下の順番で球が取り出されたとします。\n",
    "    - 試行1: [白,黒,黒,白,白,黒,白,白,白,白]\n",
    "    - 試行2: [黒,白,白,白,白,白,黒,黒,白,白]\n",
    "\n",
    "- このときの、事後確率の推移を、試行1と試行2の結果を同じグラフに折れ線グラフにまとめなさい。\n",
    "    - 表示するのはツボAである確率だけでよいです。\n"
   ]
  },
  {
   "cell_type": "code",
   "execution_count": null,
   "metadata": {},
   "outputs": [],
   "source": [
    "## 課題用のファイルに書いてください"
   ]
  }
 ],
 "metadata": {
  "kernelspec": {
   "display_name": "class_bayes",
   "language": "python",
   "name": "python3"
  },
  "language_info": {
   "codemirror_mode": {
    "name": "ipython",
    "version": 3
   },
   "file_extension": ".py",
   "mimetype": "text/x-python",
   "name": "python",
   "nbconvert_exporter": "python",
   "pygments_lexer": "ipython3",
   "version": "3.11.0"
  }
 },
 "nbformat": 4,
 "nbformat_minor": 2
}
