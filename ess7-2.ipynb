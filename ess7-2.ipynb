{
 "cells": [
  {
   "cell_type": "markdown",
   "metadata": {},
   "source": [
    "k-foldは交差学習をするもの。\n",
    "学習用データと交差用データに分け、文サテンを少しずらしながら学習と評価を繰り返すことで妥当性とかを確認。"
   ]
  }
 ],
 "metadata": {
  "language_info": {
   "name": "python"
  }
 },
 "nbformat": 4,
 "nbformat_minor": 2
}
