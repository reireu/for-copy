{
  "cells": [
    {
      "cell_type": "markdown",
      "metadata": {
        "id": "view-in-github",
        "colab_type": "text"
      },
      "source": [
        "<a href=\"https://colab.research.google.com/github/reireu/for-copy/blob/main/dnm2_04st.ipynb\" target=\"_parent\"><img src=\"https://colab.research.google.com/assets/colab-badge.svg\" alt=\"Open In Colab\"/></a>"
      ]
    },
    {
      "cell_type": "markdown",
      "metadata": {
        "id": "S1NyypHH5bmj"
      },
      "source": [
        "# データと数理II 第04回 「三角関数と円と極座標」\n",
        "## 三角関数のおさらい"
      ]
    },
    {
      "cell_type": "code",
      "execution_count": 4,
      "metadata": {
        "id": "ir3kFBov5bmm"
      },
      "outputs": [],
      "source": [
        "%matplotlib inline\n",
        "import matplotlib.pyplot as plt\n",
        "import numpy as np\n",
        "from matplotlib.animation import ArtistAnimation\n",
        "from IPython.display import HTML\n",
        "\n",
        "import sympy as sym\n",
        "# Jupyter Notebook上で、レンダリングされた結果を表示する\n",
        "sym.init_printing()"
      ]
    },
    {
      "cell_type": "markdown",
      "metadata": {
        "id": "FxDSRiLo5bmn"
      },
      "source": [
        "### 1.sin関数を描いてみる"
      ]
    },
    {
      "cell_type": "code",
      "execution_count": null,
      "metadata": {
        "id": "ZqdSkWeV5bmo"
      },
      "outputs": [],
      "source": [
        "def here_function(x):\n",
        "    y = np.sin(x)\n",
        "    return y\n",
        "\n",
        "start = 0 #定義域の左端\n",
        "last = 4*np.pi # 定義域の右端 πを使っていることに注目\n",
        "\n",
        "x = np.arange(start,last, 0.01)\n",
        "y = here_function(x)\n",
        "\n",
        "fig = plt.figure(figsize=(10,4)) # サイズを横長にしたほうが見やすい。\n",
        "ax = fig.add_subplot(1,1,1)\n",
        "#ax.set_aspect('equal')\n",
        "\n",
        "ax.spines['right'].set_visible(False)\n",
        "ax.spines['top'].set_visible(False)\n",
        "ax.spines['bottom'].set_position('zero')\n",
        "ax.spines['left'].set_position('zero')\n",
        "#ax.axis([-1.0,7.0,-0.0,10.0])# グラフの範囲\n",
        "#ax.grid() # グリッド\n",
        "\n",
        "ax.plot(x, y, label='sin(x)') # 描画\n",
        "ax.legend(bbox_to_anchor=(1, 1), loc='upper right', borderaxespad=0, fontsize=10) # ラベルの反映\n",
        "\n",
        "plt.show()"
      ]
    },
    {
      "cell_type": "markdown",
      "metadata": {
        "id": "duRyeQOK5bmo"
      },
      "source": [
        "### 2.sinとcosを同時に描いてみる"
      ]
    },
    {
      "cell_type": "code",
      "execution_count": null,
      "metadata": {
        "id": "SylAwlXq5bmo"
      },
      "outputs": [],
      "source": [
        "def here_function1(x):\n",
        "    y = np.sin(x)\n",
        "    return y\n",
        "\n",
        "def here_function2(x):\n",
        "    y = np.cos(x)\n",
        "    return y\n",
        "\n",
        "start = 0 #定義域の左端\n",
        "last = 4*np.pi # 定義域の右端\n",
        "\n",
        "x = np.arange(start,last, 0.01)\n",
        "y1 = here_function1(x)\n",
        "y2 = here_function2(x)\n",
        "\n",
        "fig = plt.figure(figsize=(10,4)) # サイズを横長にしたほうが見やすい。\n",
        "ax = fig.add_subplot(1,1,1)\n",
        "#ax.set_aspect('equal')\n",
        "\n",
        "ax.spines['right'].set_visible(False)\n",
        "ax.spines['top'].set_visible(False)\n",
        "ax.spines['bottom'].set_position('zero')\n",
        "ax.spines['left'].set_position('zero')\n",
        "#ax.axis([-1.0,7.0,-0.0,10.0])\n",
        "#ax.grid()\n",
        "\n",
        "ax.plot(x, y1, label='sin(x)') # 描画\n",
        "ax.plot(x, y2, label='cos(x)') # 描画\n",
        "ax.legend(bbox_to_anchor=(1, 1), loc='upper right', borderaxespad=0, fontsize=10) # ラベルの反映\n",
        "\n",
        "plt.show()"
      ]
    },
    {
      "cell_type": "markdown",
      "metadata": {
        "id": "5P8yRl475bmp"
      },
      "source": [
        "- 位相"
      ]
    },
    {
      "cell_type": "markdown",
      "metadata": {
        "id": "kqb3ZGyP5bmp"
      },
      "source": [
        "### 3. tanを追加してみよう\n",
        "\n",
        "----\n",
        "\n",
        "### 問1_1. tanを追加して描画する。\n",
        "\n",
        "----"
      ]
    },
    {
      "cell_type": "code",
      "execution_count": null,
      "metadata": {
        "id": "UAvsLVi75bmp"
      },
      "outputs": [],
      "source": [
        "# ここに書く\n",
        "\n",
        "\n"
      ]
    },
    {
      "cell_type": "markdown",
      "metadata": {
        "id": "1gJ8WIby5bmp"
      },
      "source": [
        "----\n",
        "\n",
        "### 問1_2. なんだか余計な線が描画されてしまった。これを消すにはどうしたらいいだろう？\n",
        "\n",
        "----\n",
        "\n",
        "- 通常のplotでは、点と点の間に線を引くのがデフォルトになっているので…？\n",
        "    - 線を消して点で描くことにする\n",
        "\n"
      ]
    },
    {
      "cell_type": "code",
      "execution_count": null,
      "metadata": {
        "id": "ZoXlzRxV5bmq"
      },
      "outputs": [],
      "source": [
        "# ここに書く\n",
        "\n"
      ]
    },
    {
      "cell_type": "markdown",
      "metadata": {
        "id": "Zn0E8alo5bmq"
      },
      "source": [
        "## さまざまな三角関数を描画してみる\n",
        "\n",
        "### 4. 2sin(x) とsin(x)を一緒に描画する"
      ]
    },
    {
      "cell_type": "code",
      "execution_count": null,
      "metadata": {
        "id": "hHPGqkg-5bmq"
      },
      "outputs": [],
      "source": [
        "def here_function1(x):\n",
        "    y = np.sin(x)\n",
        "    return y\n",
        "\n",
        "def here_function2(x):\n",
        "    y = 2* np.sin(x)\n",
        "    return y\n",
        "\n",
        "start = 0 #定義域の左端\n",
        "last = 4*np.pi # 定義域の右端\n",
        "\n",
        "x = np.arange(start,last, 0.01)\n",
        "y1 = here_function1(x)\n",
        "y2 = here_function2(x)\n",
        "\n",
        "fig = plt.figure(figsize=(10,4)) # サイズを横長にしたほうが見やすい。\n",
        "ax = fig.add_subplot(1,1,1)\n",
        "#ax.set_aspect('equal')\n",
        "\n",
        "ax.spines['right'].set_visible(False)\n",
        "ax.spines['top'].set_visible(False)\n",
        "ax.spines['bottom'].set_position('zero')\n",
        "ax.spines['left'].set_position('zero')\n",
        "#ax.axis([-1.0,7.0,-0.0,10.0])\n",
        "#ax.grid() # グラフにグリッドを追加\n",
        "\n",
        "ax.plot(x, y1, label='sin(x)') # 描画\n",
        "ax.plot(x, y2, label='2sin(x)') # 描画\n",
        "ax.legend(bbox_to_anchor=(1, 1), loc='upper right', borderaxespad=0, fontsize=10) # ラベルの反映\n",
        "\n",
        "plt.show()"
      ]
    },
    {
      "cell_type": "markdown",
      "metadata": {
        "id": "956wAqXp5bmq"
      },
      "source": [
        "### 5. sin(2x) とsin(x)を一緒に描画する"
      ]
    },
    {
      "cell_type": "code",
      "execution_count": null,
      "metadata": {
        "id": "tZmX2FlC5bmq"
      },
      "outputs": [],
      "source": [
        "def here_function1(x):\n",
        "    y = np.sin(x)\n",
        "    return y\n",
        "\n",
        "def here_function2(x):\n",
        "    y = np.sin(2*x)\n",
        "    return y\n",
        "\n",
        "start = 0 #定義域の左端\n",
        "last = 4*np.pi # 定義域の右端\n",
        "\n",
        "x = np.arange(start,last, 0.01)\n",
        "y1 = here_function1(x)\n",
        "y2 = here_function2(x)\n",
        "\n",
        "fig = plt.figure(figsize=(10,4)) # サイズを横長にしたほうが見やすい。\n",
        "ax = fig.add_subplot(1,1,1)\n",
        "#ax.set_aspect('equal')\n",
        "\n",
        "ax.spines['right'].set_visible(False)\n",
        "ax.spines['top'].set_visible(False)\n",
        "ax.spines['bottom'].set_position('zero')\n",
        "ax.spines['left'].set_position('zero')\n",
        "#ax.axis([-1.0,7.0,-0.0,10.0])\n",
        "#ax.grid() # グラフにグリッドを追加\n",
        "\n",
        "ax.plot(x, y1, label='sin(x)') # 描画\n",
        "ax.plot(x, y2, label='sin(2x)') # 描画\n",
        "ax.legend(bbox_to_anchor=(1, 1), loc='upper right', borderaxespad=0, fontsize=10) # ラベルの反映\n",
        "\n",
        "plt.show()"
      ]
    },
    {
      "cell_type": "markdown",
      "metadata": {
        "id": "O38QW3Px5bmr"
      },
      "source": [
        "### 6. sin(x + π/6) とsin(x)を一緒に描画する\n",
        "ラジアンではπは180度に相当。\n"
      ]
    },
    {
      "cell_type": "code",
      "execution_count": null,
      "metadata": {
        "id": "CeBUuzHj5bmr"
      },
      "outputs": [],
      "source": [
        "def here_function1(x):\n",
        "    y = np.sin(x)\n",
        "    return y\n",
        "\n",
        "def here_function2(x):\n",
        "    y = np.sin(x + np.pi/6)\n",
        "    return y\n",
        "\n",
        "start = 0 #定義域の左端\n",
        "last = 4*np.pi # 定義域の右端\n",
        "\n",
        "x = np.arange(start,last, 0.01)\n",
        "y1 = here_function1(x)\n",
        "y2 = here_function2(x)\n",
        "\n",
        "fig = plt.figure(figsize=(10,4)) # サイズを横長にしたほうが見やすい。\n",
        "ax = fig.add_subplot(1,1,1)\n",
        "#ax.set_aspect('equal')\n",
        "\n",
        "ax.spines['right'].set_visible(False)\n",
        "ax.spines['top'].set_visible(False)\n",
        "ax.spines['bottom'].set_position('zero')\n",
        "ax.spines['left'].set_position('zero')\n",
        "#ax.axis([-1.0,7.0,-0.0,10.0])\n",
        "#ax.grid() # グラフにグリッドを追加\n",
        "\n",
        "ax.plot(x, y1, label='sin(x)') # 描画\n",
        "ax.plot(x, y2, label='sin(x+pi/6)') # 描画\n",
        "ax.legend(bbox_to_anchor=(1, 1), loc='upper right', borderaxespad=0, fontsize=10) # ラベルの反映\n",
        "\n",
        "plt.show()"
      ]
    },
    {
      "cell_type": "markdown",
      "metadata": {
        "id": "U5v2fKYU5bmr"
      },
      "source": [
        "----\n",
        "\n",
        "### 問2. sin(x+a)のaがいくつの時に、cos(x)と一致するか？それは角度にすると何度か？\n",
        "- 上のコードを書き換えて試してみよう\n",
        "\n",
        "----"
      ]
    },
    {
      "cell_type": "markdown",
      "metadata": {
        "id": "IQnkZunH5bmr"
      },
      "source": [
        "## Simpy を使ったsin,cosの微分積分\n",
        "### おさらい"
      ]
    },
    {
      "cell_type": "code",
      "execution_count": null,
      "metadata": {
        "id": "7aAsCWXV5bmr"
      },
      "outputs": [],
      "source": [
        "sym.init_printing()"
      ]
    },
    {
      "cell_type": "code",
      "execution_count": null,
      "metadata": {
        "tags": [],
        "id": "OlH0sxuW5bms"
      },
      "outputs": [],
      "source": [
        "x = sym.Symbol('x') # 変数を一個ずつ指定\n",
        "y = sym.Symbol('y') # 変数を一個ずつ指定\n",
        "a, b, c = sym.symbols('a b c') # 変数をまとめて指定(\"Symbol\"じゃなくて\"symbols\"になってる)\n",
        "\n",
        "f = sym.sin(x) # 関数の定義\n",
        "\n",
        "display(f) #表示\n",
        "display(sym.Eq(sym.Symbol('f(x)'),f)) # きれいに表示する用"
      ]
    },
    {
      "cell_type": "markdown",
      "metadata": {
        "id": "Ow3FTC1j5bms"
      },
      "source": [
        "### 7. sinとcosの微分"
      ]
    },
    {
      "cell_type": "code",
      "execution_count": null,
      "metadata": {
        "id": "wORE5sJ35bms"
      },
      "outputs": [],
      "source": [
        "d_sin = sym.diff(sym.sin(x),x)\n",
        "display(d_sin)"
      ]
    },
    {
      "cell_type": "code",
      "execution_count": null,
      "metadata": {
        "id": "NKUzdIGa5bms"
      },
      "outputs": [],
      "source": [
        "d_cos = sym.diff(sym.cos(x),x)\n",
        "display(d_cos)"
      ]
    },
    {
      "cell_type": "code",
      "execution_count": null,
      "metadata": {
        "id": "8v3I9BsP5bms"
      },
      "outputs": [],
      "source": [
        "f = sym.sin(x) # 関数の定義\n",
        "display(f)\n",
        "df = f.diff(x)\n",
        "display(df)\n",
        "for i in range(2,10):\n",
        "    df = df.diff(x)\n",
        "    display(df)"
      ]
    },
    {
      "cell_type": "markdown",
      "metadata": {
        "id": "UcUDbAxD5bms"
      },
      "source": [
        "何回で繰り返しになっているか確認しよう。\n",
        "\n"
      ]
    },
    {
      "cell_type": "markdown",
      "metadata": {
        "id": "x_IB0qa55bms"
      },
      "source": [
        "### 8. sinとcosの積分"
      ]
    },
    {
      "cell_type": "code",
      "execution_count": null,
      "metadata": {
        "id": "NNSQP7Nt5bms"
      },
      "outputs": [],
      "source": [
        "display(f)\n",
        "sf = f.integrate(x)\n",
        "display(sf)\n",
        "for i in range(2,10):\n",
        "    sf = sf.integrate(x)\n",
        "    display(sf)"
      ]
    },
    {
      "cell_type": "markdown",
      "metadata": {
        "id": "NxAYFyd05bmt"
      },
      "source": [
        "微分の逆になっていることを確認しよう。\n",
        "\n",
        "ということは、三角関数を一回微分(積分)することは、何も意味しているのか？考えてみよう。"
      ]
    },
    {
      "cell_type": "markdown",
      "metadata": {
        "id": "SLMSCr585bmt"
      },
      "source": [
        "## 傾きから微分を求めるプログラムで確認してみる\n",
        "\n",
        "どうやら、sinを微分するとcosになるようだ。ホントかどうか、以前のプログラムを使って確かめよう。\n",
        "\n",
        "### 9. 第2回のプログラムの再掲(一部簡略化済)"
      ]
    },
    {
      "cell_type": "code",
      "execution_count": null,
      "metadata": {
        "id": "3wAFlwKc5bmt"
      },
      "outputs": [],
      "source": [
        "def return_ab2(x0,x1, y0,y1):\n",
        "    a = (y1 - y0) / (x1 - x0)\n",
        "    b = y0 - a * x0\n",
        "\n",
        "    return (a, b)\n",
        "\n",
        "# def line2(x,a,b):\n",
        "#     y = a * x + b\n",
        "#     return y\n"
      ]
    },
    {
      "cell_type": "code",
      "execution_count": null,
      "metadata": {
        "id": "_UHMX6X05bmt"
      },
      "outputs": [],
      "source": [
        "def here_function(x):\n",
        "    y = -(x - 3) ** 2 + 9\n",
        "    return y\n",
        "\n",
        "start = 0 #定義域の左端\n",
        "last = 6 # 定義域の右端\n",
        "\n",
        "x0 = np.arange(start,last, 0.01)\n",
        "y0 = here_function(x0)\n",
        "\n",
        "dx = 0.5\n",
        "x = np.arange(start,last+dx,dx)\n",
        "y = here_function(x)\n",
        "\n",
        "\n",
        "fig = plt.figure(figsize=(12,4)) # Figureオブジェクトを作成\n",
        "ax1 = fig.add_subplot(1,2,1) # figに属するAxesオブジェクトを作成 (縦,横, 自分の番号)\n",
        "ax2 = fig.add_subplot(1,2,2) # figに属するAxesオブジェクトを作成 (縦,横, 自分の番号)\n",
        "#ax.set_aspect('equal')\n",
        "\n",
        "ax1.spines['right'].set_visible(False)\n",
        "ax1.spines['top'].set_visible(False)\n",
        "ax1.spines['bottom'].set_position('zero')\n",
        "ax1.spines['left'].set_position('zero')\n",
        "ax1.axis([-1,7.0,-0.0,10.0])\n",
        "ax1.grid()\n",
        "ax1.set_title('base y = -(x - 3)^2 + 9') # グラフタイトル\n",
        "\n",
        "ax2.spines['right'].set_visible(False)\n",
        "ax2.spines['top'].set_visible(False)\n",
        "ax2.spines['bottom'].set_position('zero')\n",
        "ax2.spines['left'].set_position('zero')\n",
        "ax2.grid()\n",
        "ax2.set_title('diff dx:'+str(dx)) # グラフタイトル\n",
        "\n",
        "for i in range(len(x)-1):\n",
        "    a, b = return_ab2(x[i],x[i+1],y[i],y[i+1])\n",
        "    ax2.plot(x[i],a, marker='.', color='red', markersize=4, linestyle='None') # 点\n",
        "\n",
        "ax1.plot(x0, y0, label=\"base_function\") # ラベルの追加\n",
        "\n",
        "ax1.legend(bbox_to_anchor=(1, 1), loc='upper right', borderaxespad=0, fontsize=10) # ラベルの反映ax1\n",
        "\n",
        "plt.show()"
      ]
    },
    {
      "cell_type": "markdown",
      "metadata": {
        "id": "4bp1gnwK5bmt"
      },
      "source": [
        "----\n",
        "\n",
        "### 問3. sin(x)のグラフと、その微分のグラフを並べて描こう。見た目も分かりやすくなるように調整しよう。\n",
        "\n",
        "----"
      ]
    },
    {
      "cell_type": "code",
      "execution_count": null,
      "metadata": {
        "id": "YwI4TPBB5bmu"
      },
      "outputs": [],
      "source": [
        "def here_function(x):\n",
        "    y = np.sin(x)\n",
        "    return y\n",
        "\n",
        "\n",
        "# ここに書く"
      ]
    },
    {
      "cell_type": "markdown",
      "metadata": {
        "id": "fsUcH16c5bmu"
      },
      "source": [
        "----\n",
        "\n",
        "### 問4 sin(2x)の微分を上記のプログラムで確認してみる。sympyでも確認してみる。\n",
        "\n",
        "----"
      ]
    },
    {
      "cell_type": "code",
      "execution_count": null,
      "metadata": {
        "id": "ByhcvfhQ5bmu"
      },
      "outputs": [],
      "source": [
        "#上からコピペしてきて関数だけ変えて描いてみよう。\n"
      ]
    },
    {
      "cell_type": "code",
      "execution_count": null,
      "metadata": {
        "id": "lxlpMA1P5bmv"
      },
      "outputs": [],
      "source": [
        "# sympyで計算してみよう\n",
        "x = sym.Symbol(\"x\")\n",
        "f = sym.sin(2 * x)\n",
        "f.diff(x)"
      ]
    },
    {
      "cell_type": "markdown",
      "metadata": {
        "id": "3hPkeruu5bmv"
      },
      "source": [
        "## 円と三角関数の関係を確認する\n",
        "\n",
        "### 10. 三角関数を使った円の描画"
      ]
    },
    {
      "cell_type": "code",
      "execution_count": null,
      "metadata": {
        "id": "b2lU8RNL5bmv"
      },
      "outputs": [],
      "source": [
        "# 冒頭に注目\n",
        "\n",
        "def here_function1(th):\n",
        "    x = np.cos(th)\n",
        "    y = np.sin(th)\n",
        "    return x, y\n",
        "\n",
        "start = 0 #定義域の左端\n",
        "last = 2*np.pi # 定義域の右端\n",
        "\n",
        "th = np.arange(start,last, 0.01)\n",
        "x, y = here_function1(th)\n",
        "\n",
        "fig = plt.figure(figsize=(5,5)) # サイズを均等に\n",
        "ax = fig.add_subplot(1,1,1)\n",
        "#ax.set_aspect('equal')\n",
        "\n",
        "ax.spines['right'].set_visible(False)\n",
        "ax.spines['top'].set_visible(False)\n",
        "ax.spines['bottom'].set_position('zero')\n",
        "ax.spines['left'].set_position('zero')\n",
        "#ax.axis([-1.2,1.2,-1.2,1.2])\n",
        "#ax.grid() # グラフにグリッドを追加\n",
        "\n",
        "ax.plot(x, y, label='circle') # 描画\n",
        "ax.legend(bbox_to_anchor=(1, 1), loc='upper right', borderaxespad=0, fontsize=10) # ラベルの反映\n",
        "\n",
        "plt.show()"
      ]
    },
    {
      "cell_type": "markdown",
      "metadata": {
        "id": "YgvmKPo15bmw"
      },
      "source": [
        "### 11. 円周上を動く点をアニメーションで描いてみる"
      ]
    },
    {
      "cell_type": "code",
      "execution_count": null,
      "metadata": {
        "id": "oTTnK3jU5bmx"
      },
      "outputs": [],
      "source": [
        "def here_function1(th):\n",
        "    x = np.cos(th)\n",
        "    y = np.sin(th)\n",
        "    return x, y\n",
        "\n",
        "start = 0 #定義域の左端\n",
        "last = 2*np.pi # 定義域の右端\n",
        "\n",
        "dx = 0.1\n",
        "th = np.arange(start,last+dx, dx)\n",
        "x, y = here_function1(th)\n",
        "\n",
        "fig = plt.figure(figsize=(5,5)) # サイズを均等に\n",
        "ax = fig.add_subplot(1,1,1)\n",
        "#ax.set_aspect('equal')\n",
        "\n",
        "ax.spines['right'].set_visible(False)\n",
        "ax.spines['top'].set_visible(False)\n",
        "ax.spines['bottom'].set_position('zero')\n",
        "ax.spines['left'].set_position('zero')\n",
        "ax.axis([-1.2,1.2,-1.2,1.2])\n",
        "#ax.grid() # グラフにグリッドを追加\n",
        "\n",
        "ax.plot(x, y, label='circle') # 描画\n",
        "\n",
        "artist_list = []\n",
        "for i in range(len(x)):\n",
        "    art = ax.plot(x[i],y[i], marker='.', color='red', markersize=8, linestyle='None') # 点\n",
        "    artist_list.append(art)\n",
        "\n",
        "ax.legend(bbox_to_anchor=(1, 1), loc='upper right', borderaxespad=0, fontsize=10) # ラベルの反映\n",
        "ani = ArtistAnimation(fig, artist_list, interval = 50)\n",
        "\n",
        "plt.close()\n",
        "HTML(ani.to_jshtml())"
      ]
    },
    {
      "cell_type": "markdown",
      "metadata": {
        "id": "ZS62T7NQ5bmx"
      },
      "source": [
        "## 円周上を動く点から、x軸とy軸に垂線を下ろしたい\n",
        "\n",
        "### 12. 線分の引き方"
      ]
    },
    {
      "cell_type": "code",
      "execution_count": null,
      "metadata": {
        "id": "SEWFDRvp5bmx"
      },
      "outputs": [],
      "source": [
        "import matplotlib.lines as lines"
      ]
    },
    {
      "cell_type": "code",
      "execution_count": null,
      "metadata": {
        "id": "8D3qBvG65bmy"
      },
      "outputs": [],
      "source": [
        "fig = plt.figure(figsize=(4,4)) # サイズを均等に\n",
        "ax = fig.add_subplot(1,1,1)\n",
        "\n",
        "ax.spines['right'].set_visible(False)\n",
        "ax.spines['top'].set_visible(False)\n",
        "ax.spines['bottom'].set_position('zero')\n",
        "ax.spines['left'].set_position('zero')\n",
        "ax.axis([-1,2,-1,2])\n",
        "\n",
        "line = lines.Line2D([0,1],[0,2]) # ([x1,x2],[y1,y2])\n",
        "ax.add_line(line)\n",
        "\n",
        "plt.show()"
      ]
    },
    {
      "cell_type": "markdown",
      "metadata": {
        "id": "v4fH0PY05bmy"
      },
      "source": [
        "### 13. 円周上を動く点と原点を結ぶ線を引く"
      ]
    },
    {
      "cell_type": "code",
      "execution_count": null,
      "metadata": {
        "id": "gmevqwTU5bmy"
      },
      "outputs": [],
      "source": [
        "def here_function1(th):\n",
        "    x = np.cos(th)\n",
        "    y = np.sin(th)\n",
        "    return x, y\n",
        "\n",
        "start = 0 #定義域の左端\n",
        "last = 2*np.pi # 定義域の右端\n",
        "\n",
        "dx = 0.1\n",
        "th = np.arange(start,last+dx, dx)\n",
        "x, y = here_function1(th)\n",
        "\n",
        "fig = plt.figure(figsize=(4,4)) # サイズを均等に\n",
        "ax = fig.add_subplot(1,1,1)\n",
        "#ax.set_aspect('equal')\n",
        "\n",
        "ax.spines['right'].set_visible(False)\n",
        "ax.spines['top'].set_visible(False)\n",
        "ax.spines['bottom'].set_position('zero')\n",
        "ax.spines['left'].set_position('zero')\n",
        "ax.axis([-1.2,1.2,-1.2,1.2])\n",
        "#ax.grid() # グラフにグリッドを追加\n",
        "\n",
        "ax.plot(x, y, label='circle', color='black') # 描画\n",
        "\n",
        "artist_list = []\n",
        "for i in range(len(x)):\n",
        "    art = ax.plot(x[i],y[i], marker='.', color='black', markersize=10, linestyle='None') # 点\n",
        "    art += [ax.add_line(lines.Line2D([0,x[i]],[0,y[i]], color='black'))] # ここ難しいので注意。\n",
        "    artist_list.append(art)\n",
        "\n",
        "ax.legend(bbox_to_anchor=(1, 1), loc='upper right', borderaxespad=0, fontsize=10) # ラベルの反映\n",
        "ani = ArtistAnimation(fig, artist_list, interval = 50)\n",
        "\n",
        "plt.close()\n",
        "HTML(ani.to_jshtml())"
      ]
    },
    {
      "cell_type": "markdown",
      "metadata": {
        "id": "blFToRy35bmz"
      },
      "source": [
        "### ヒント\n",
        "\n",
        "- ax.plotとax.add_lineでは出力されるものが同じ形式ではない\n",
        "    - ax.plot: リストを返す。リストの要素は描画用のオブジェクト\n",
        "    - ax.add_line : 描画オブジェクトそのものを返す\n",
        "- ax.add_lineの方は、全体を[]で囲ってやればax.plotと形式が揃う。以下の二つは同じになる。\n",
        "    - art += [ax.add_line()]\n",
        "    - art.append(ax.add_line())\n",
        "- art += ...　と書いていたのは、リストの結合と代入だった"
      ]
    },
    {
      "cell_type": "code",
      "execution_count": null,
      "metadata": {
        "id": "aUQFE_km5bmz"
      },
      "outputs": [],
      "source": [
        "fig = plt.figure() # サイズを均等に\n",
        "ax = fig.add_subplot(1,1,1)\n",
        "\n",
        "\n",
        "art1 = ax.plot(1,1) # 点\n",
        "print(art1) # 要素1のリストになっている\n",
        "\n",
        "art2 = ax.add_line(lines.Line2D([0,1],[0,1], color='black')) # オブジェクトになっている\n",
        "print(art2) #\n",
        "\n",
        "art3 = [ax.add_line(lines.Line2D([0,1],[0,1], color='black'))] # 要素１のリストになる\n",
        "print(art3)\n",
        "\n",
        "print(\"-\"*30)\n",
        "\n",
        "art = []\n",
        "art += art1 # リストの結合&代入\n",
        "art += [art2] # リストの結合&代入\n",
        "print(art)\n",
        "\n",
        "art = []\n",
        "art += art1 # リストの結合&代入\n",
        "art.append(art2) # リストへの要素の追加(こう書いても良い)\n",
        "print(art)\n",
        "\n",
        "\n",
        "plt.close()"
      ]
    },
    {
      "cell_type": "markdown",
      "metadata": {
        "id": "T01kChlC5bmz"
      },
      "source": [
        "### 14. 円周上を動く点から、x軸とy軸に垂線を下ろす\n",
        "- 課題4-1の基礎になります。\n",
        "\n",
        "----\n",
        "\n",
        "### 問5 下のプログラムに追記して、垂線と交点を描画しよう。\n",
        "- x軸に下ろす垂線(縦線):黒\n",
        "- y軸に下ろす垂線(横線):黒\n",
        "- x軸に下ろした垂線とx軸の交点: 青\n",
        "- y軸に下ろした垂線とy軸の交点: 赤\n",
        "\n",
        "----"
      ]
    },
    {
      "cell_type": "code",
      "execution_count": null,
      "metadata": {
        "id": "6S2-eYab5bmz"
      },
      "outputs": [],
      "source": [
        "def here_function1(th):\n",
        "    x = np.cos(th)\n",
        "    y = np.sin(th)\n",
        "    return x, y\n",
        "\n",
        "start = 0 #定義域の左端\n",
        "last = 2*np.pi # 定義域の右端\n",
        "\n",
        "dx = 0.1\n",
        "th = np.arange(start,last+dx, dx)\n",
        "x, y = here_function1(th)\n",
        "\n",
        "fig = plt.figure(figsize=(4,4)) # サイズを均等に\n",
        "ax = fig.add_subplot(1,1,1)\n",
        "#ax.set_aspect('equal')\n",
        "\n",
        "ax.spines['right'].set_visible(False)\n",
        "ax.spines['top'].set_visible(False)\n",
        "ax.spines['bottom'].set_position('zero')\n",
        "ax.spines['left'].set_position('zero')\n",
        "ax.axis([-1.2,1.2,-1.2,1.2])\n",
        "#ax.grid() # グラフにグリッドを追加\n",
        "\n",
        "ax.plot(x, y, label='circle', color='black') # 描画\n",
        "\n",
        "artist_list = []\n",
        "for i in range(len(th)):\n",
        "    art = ax.plot(x[i],y[i], marker='.', color='black', markersize=10, linestyle='None') # 点\n",
        "    art += [ax.add_line(lines.Line2D([0,x[i]],[0,y[i]], color='black'))]\n",
        "    #######################################\n",
        "    # ここに、点からx軸におろした線と交点、点からy軸におろした線と交点を追加\n",
        "    #######################################\n",
        "\n",
        "\n",
        "    artist_list.append(art)\n",
        "\n",
        "ax.legend(bbox_to_anchor=(1, 1), loc='upper right', borderaxespad=0, fontsize=10) # ラベルの反映\n",
        "ani = ArtistAnimation(fig, artist_list, interval = 50)\n",
        "\n",
        "plt.close()\n",
        "HTML(ani.to_jshtml())"
      ]
    },
    {
      "cell_type": "markdown",
      "metadata": {
        "id": "JNdBC-I-5bmz"
      },
      "source": [
        "----\n",
        "### 解説：なんでsinやcosを微分すると90度の回転になるの？\n",
        "- 微分とは傾き(変化量)を知ること\n",
        "- 図形的に言うと接線を引くこと\n",
        "- 円に接線を引くと、円の中心から見て90度の向き変更になるので\n",
        "\n",
        "----\n",
        "\n",
        "## 回転行列と三角関数\n",
        "\n",
        "### 15.単振動してる部分を取り出す"
      ]
    },
    {
      "cell_type": "code",
      "execution_count": null,
      "metadata": {
        "id": "3T1p0Nhr5bmz"
      },
      "outputs": [],
      "source": [
        "def here_function1(th):\n",
        "    x = np.cos(th)\n",
        "    y = np.sin(th)\n",
        "    return x, y\n",
        "\n",
        "start = 0 #定義域の左端\n",
        "last = 2*np.pi # 定義域の右端\n",
        "\n",
        "dx = 0.1\n",
        "th = np.arange(start,last+dx, dx)\n",
        "x, y = here_function1(th)\n",
        "\n",
        "fig = plt.figure(figsize=(4,4)) # サイズを均等に\n",
        "ax = fig.add_subplot(1,1,1)\n",
        "#ax.set_aspect('equal')\n",
        "\n",
        "ax.spines['right'].set_visible(False)\n",
        "ax.spines['top'].set_visible(False)\n",
        "ax.spines['bottom'].set_position('zero')\n",
        "ax.spines['left'].set_position('zero')\n",
        "ax.axis([-1.2,1.2,-1.2,1.2])\n",
        "#ax.grid() # グラフにグリッドを追加\n",
        "\n",
        "ax.plot(x, y, label='circle', color='black') # 描画\n",
        "\n",
        "artist_list = []\n",
        "for i in range(len(th)):\n",
        "    art = ax.plot(x[i],0, marker='.', color='black', markersize=10, linestyle='None') # 点\n",
        "    art += ax.plot(0,y[i], marker='.', color='black', markersize=10, linestyle='None') # 点\n",
        "\n",
        "\n",
        "    artist_list.append(art)\n",
        "\n",
        "ax.legend(bbox_to_anchor=(1, 1), loc='upper right', borderaxespad=0, fontsize=10) # ラベルの反映\n",
        "ani = ArtistAnimation(fig, artist_list, interval = 50)\n",
        "\n",
        "plt.close()\n",
        "HTML(ani.to_jshtml())"
      ]
    },
    {
      "cell_type": "markdown",
      "metadata": {
        "id": "Dc-rDO3P5bm0"
      },
      "source": [
        "### 16.回転行列をかける関数\n",
        "\n",
        "- (参考)マークダウンの数式入力で楽をするマクロ\n",
        "    -  https://ossyaritoori.hatenablog.com/entry/2017/10/29/Jupyter_notebook%E3%81%AE%E6%95%B0%E5%BC%8F%E5%85%A5%E5%8A%9B%E3%81%A7%E6%A5%BD%E3%82%92%E3%81%99%E3%82%8B%E3%83%9E%E3%82%AF%E3%83%AD\n",
        "\n"
      ]
    },
    {
      "cell_type": "markdown",
      "metadata": {
        "id": "htjn3heN5bm0"
      },
      "source": [
        "#### 回転行列\n",
        "$$\n",
        "\\renewcommand{\\bm}[1]{{\\bf #1}}\n",
        "$$\n",
        "\n",
        "$$\n",
        "\\bm{A}=\\begin{bmatrix}\n",
        "cos(x) & -sin(x) \\\\\n",
        "sin(x) & cos(x) \\\\\n",
        "\\end{bmatrix}\n",
        "$$\n",
        "\n",
        "$$\n",
        "\\bm{Ax}=\\bm{x}'\n",
        "$$\n",
        "\n",
        "$$\n",
        "\\begin{bmatrix}\n",
        "cos(x) & -sin(x) \\\\\n",
        "sin(x) & cos(x) \\\\\n",
        "\\end{bmatrix}\n",
        "\\begin{bmatrix}\n",
        "X \\\\\n",
        "Y \\\\\n",
        "\\end{bmatrix}\n",
        "=\n",
        "\\begin{bmatrix}\n",
        "X' \\\\\n",
        "Y' \\\\\n",
        "\\end{bmatrix}\n",
        "$$\n"
      ]
    },
    {
      "cell_type": "markdown",
      "metadata": {
        "id": "o4_-8ius5bm0"
      },
      "source": [
        "----\n",
        "### 問6. 回転行列を書ける関数rotationを作ろう\n",
        "- x0,y0,th(しーた)を受け取って、新たな座標x1,y1を返す\n",
        "- dotを使います。\n",
        "\n",
        "----"
      ]
    },
    {
      "cell_type": "code",
      "execution_count": null,
      "metadata": {
        "id": "nOfd0VTl5bm0"
      },
      "outputs": [],
      "source": [
        "def rotation(x0,y0, th):\n",
        "##########################\n",
        "# この下を書いて完成させる。\n"
      ]
    },
    {
      "cell_type": "code",
      "execution_count": null,
      "metadata": {
        "id": "cg4D9ew85bm0"
      },
      "outputs": [],
      "source": [
        "# 計算の確認\n",
        "result = rotation(1,0,np.pi/4)\n",
        "np.set_printoptions(suppress=True, precision=4, floatmode='fixed') # 浮動小数点表記にする\n",
        "print(result)\n",
        "#np.set_printoptions(suppress=False) # 指数表記に戻す\n",
        "#print(result)"
      ]
    },
    {
      "cell_type": "markdown",
      "metadata": {
        "id": "77xmAmGB5bm0"
      },
      "source": [
        "### 17. rotationを使った描画\n",
        "- オプション課題4-3の基礎になります"
      ]
    },
    {
      "cell_type": "code",
      "execution_count": null,
      "metadata": {
        "id": "L2KI69S-5bm0"
      },
      "outputs": [],
      "source": [
        "def here_function1(th):\n",
        "    x = np.cos(th)\n",
        "    y = np.sin(th)\n",
        "    return x, y\n",
        "\n",
        "start = 0 #定義域の左端\n",
        "last = 2*np.pi # 定義域の右端\n",
        "\n",
        "dx = 0.1\n",
        "th = np.arange(start,last+dx, dx)\n",
        "x, y = here_function1(th)\n",
        "\n",
        "fig = plt.figure(figsize=(4,4)) # サイズを均等に\n",
        "ax = fig.add_subplot(1,1,1)\n",
        "#ax.set_aspect('equal')\n",
        "\n",
        "ax.spines['right'].set_visible(False)\n",
        "ax.spines['top'].set_visible(False)\n",
        "ax.spines['bottom'].set_position('zero')\n",
        "ax.spines['left'].set_position('zero')\n",
        "ax.axis([-1.2,1.2,-1.2,1.2])\n",
        "#ax.grid() # グラフにグリッドを追加\n",
        "\n",
        "ax.plot(x, y, label='circle', color='black') # 描画\n",
        "\n",
        "ax.add_line(lines.Line2D([-1,1],[0,0], color='blue'))\n",
        "r30_xy1 = rotation(-1,0,np.pi/6)\n",
        "r30_xy2 = rotation(1,0,np.pi/6)\n",
        "\n",
        "ax.add_line(lines.Line2D([r30_xy1[0],r30_xy2[0]],[r30_xy1[1],r30_xy2[1]], color='red'))\n",
        "\n",
        "artist_list = []\n",
        "for i in range(len(th)):\n",
        "    art = ax.plot(x[i],0, marker='.', color='blue', markersize=15, linestyle='None') # 点\n",
        "    xy_r30 = rotation(x[i],0, np.pi / 6)\n",
        "    art += ax.plot(xy_r30[0],xy_r30[1], marker='.', color='red', markersize=15, linestyle='None') # 点\n",
        "\n",
        "    #art += ax.plot(0,y[i], marker='.', color='black', markersize=10, linestyle='None') # 点\n",
        "\n",
        "\n",
        "    artist_list.append(art)\n",
        "\n",
        "ax.legend(bbox_to_anchor=(1, 1), loc='upper right', borderaxespad=0, fontsize=10) # ラベルの反映\n",
        "ani = ArtistAnimation(fig, artist_list, interval = 50)\n",
        "\n",
        "plt.close()\n",
        "HTML(ani.to_jshtml())"
      ]
    },
    {
      "cell_type": "markdown",
      "metadata": {
        "id": "RYW7uP095bm0"
      },
      "source": [
        "## 極座標との関係\n",
        "\n",
        "### 18.円の極座標表記とデカルト座標への変換"
      ]
    },
    {
      "cell_type": "code",
      "execution_count": null,
      "metadata": {
        "id": "E6drnRTb5bm0"
      },
      "outputs": [],
      "source": [
        "def here_function1(th):\n",
        "    r = 2              # 極座標(円座標)表示の円 (半径rが1, th は式に出てこないので、thの値に関わらずrは1)\n",
        "    x = r * np.cos(th) # 極座標からの変換(x座標の抽出)\n",
        "    y = r * np.sin(th) # 極座標からの変換(y座標の抽出)\n",
        "    return x, y\n",
        "\n",
        "start = 0 #定義域の左端\n",
        "last = 2*np.pi # 定義域の右端\n",
        "\n",
        "th = np.arange(start,last, 0.01)\n",
        "x, y = here_function1(th)\n",
        "\n",
        "fig = plt.figure(figsize=(5,5)) # サイズを均等に\n",
        "ax = fig.add_subplot(1,1,1)\n",
        "#ax.set_aspect('equal')\n",
        "\n",
        "ax.spines['right'].set_visible(False)\n",
        "ax.spines['top'].set_visible(False)\n",
        "ax.spines['bottom'].set_position('zero')\n",
        "ax.spines['left'].set_position('zero')\n",
        "#ax.axis([-1.2,1.2,-1.2,1.2])\n",
        "#ax.grid() # グラフにグリッドを追加\n",
        "\n",
        "ax.plot(x, y, label='circle') # 描画\n",
        "ax.legend(bbox_to_anchor=(1, 1), loc='upper right', borderaxespad=0, fontsize=10) # ラベルの反映\n",
        "\n",
        "plt.show()"
      ]
    },
    {
      "cell_type": "markdown",
      "metadata": {
        "id": "kt3gUJxX5bm1"
      },
      "source": [
        "- 極座標表記では円は定数で書けばいい\n",
        "- 極座標にとって円は基本的な図形であることが分かる\n",
        "    - 実は極座標は円座標とも言う。円を描くときの考え方に対応している。\n",
        "- 円を書くための式だと思われた (r*cosθ, r*sinθ)というのは、実は極座標からデカルト座標への変換と同義である\n",
        "    - cosが、x成分の取り出し、sinがy成分の取り出し、という意味になっている\n",
        "    - sin,cosの定義と対応している\n",
        ""
      ]
    },
    {
      "cell_type": "markdown",
      "metadata": {
        "id": "Kt_9HmEa5bm1"
      },
      "source": [
        "### 19. 円の半径を変動させた図を描く"
      ]
    },
    {
      "cell_type": "code",
      "execution_count": null,
      "metadata": {
        "id": "Xfjm0NIA5bm1"
      },
      "outputs": [],
      "source": [
        "def here_function1(th):\n",
        "    r = 1 + (1/100)*np.sin(th * 30) # ここだけ変更\n",
        "    x = r * np.cos(th) # 極座標からの変換(x座標の抽出)\n",
        "    y = r * np.sin(th) # 極座標からの変換(y座標の抽出)\n",
        "    return x, y\n",
        "\n",
        "start = 0 #定義域の左端\n",
        "last = 2*np.pi # 定義域の右端\n",
        "\n",
        "th = np.arange(start,last, 0.01)\n",
        "x, y = here_function1(th)\n",
        "\n",
        "fig = plt.figure(figsize=(5,5)) # サイズを均等に\n",
        "ax = fig.add_subplot(1,1,1)\n",
        "#ax.set_aspect('equal')\n",
        "\n",
        "ax.spines['right'].set_visible(False)\n",
        "ax.spines['top'].set_visible(False)\n",
        "ax.spines['bottom'].set_position('zero')\n",
        "ax.spines['left'].set_position('zero')\n",
        "ax.axis([-1.2,1.2,-1.2,1.2])\n",
        "#ax.grid() # グラフにグリッドを追加\n",
        "\n",
        "ax.plot(x, y) # 描画\n",
        "#ax.legend(bbox_to_anchor=(1, 1), loc='upper right', borderaxespad=0, fontsize=10) # ラベルの反映\n",
        "\n",
        "plt.show()"
      ]
    },
    {
      "cell_type": "markdown",
      "metadata": {
        "id": "M6SWBj565bm1"
      },
      "source": [
        "r、つまり中心からの距離を、sin関数で振動させている"
      ]
    },
    {
      "cell_type": "markdown",
      "metadata": {
        "id": "OwEvDxKL5bm1"
      },
      "source": [
        "## 関数を引数として渡す\n",
        "\n",
        "極座標での関数(極方程式)を入れるだけで、あとの処理は同じなのだから、関数を与えるだけのプログラムにしたい。\n",
        "\n",
        "### 20. 関数を引数として渡せるサンプル\n",
        "- (参考)Pythonで関数を引数として渡した場合の挙動のまとめ(一部引数を省略した場合の挙動あり)\n",
        "    - https://qiita.com/smdask/items/2dfc40a7a60f65dcdb6c"
      ]
    },
    {
      "cell_type": "code",
      "execution_count": null,
      "metadata": {
        "id": "I7Yfcoks5bm1"
      },
      "outputs": [],
      "source": [
        "def add(a,b):\n",
        "    return a+b\n",
        "\n",
        "def test1(func):\n",
        "    print(type(func)) # <class 'function'>\n",
        "    return func(1,2)\n",
        "\n",
        "test1(add)"
      ]
    },
    {
      "cell_type": "markdown",
      "metadata": {
        "id": "_fGjFi4s5bm1"
      },
      "source": [
        "### 21. 試しに関数をそのまま引数に入れてみる"
      ]
    },
    {
      "cell_type": "code",
      "execution_count": null,
      "metadata": {
        "id": "zo0bEXL45bm1"
      },
      "outputs": [],
      "source": [
        "def here_function1(f, th): # fに関数を受け取る用に形に\n",
        "    r = f(th)\n",
        "    x = r * np.cos(th)\n",
        "    y = r * np.sin(th)\n",
        "    return x, y\n",
        "\n",
        "def pcf(th): # 関数(極方程式)を定義\n",
        "    r = 1 + (1/100)*np.sin(th * 30)\n",
        "    return r\n",
        "\n",
        "start = 0\n",
        "last = 2*np.pi\n",
        "\n",
        "th = np.arange(start,last, 0.01)\n",
        "x, y = here_function1(pcf, th)   # ここで、１つ目の引数に入ってるのが、関数\n",
        "\n",
        "fig = plt.figure(figsize=(5,5))\n",
        "ax = fig.add_subplot(1,1,1)\n",
        "#ax.set_aspect('equal')\n",
        "\n",
        "ax.spines['right'].set_visible(False)\n",
        "ax.spines['top'].set_visible(False)\n",
        "ax.spines['bottom'].set_position('zero')\n",
        "ax.spines['left'].set_position('zero')\n",
        "ax.axis([-1.2,1.2,-1.2,1.2])\n",
        "#ax.grid()\n",
        "\n",
        "ax.plot(x, y) # 描画\n",
        "#ax.legend(bbox_to_anchor=(1, 1), loc='upper right', borderaxespad=0, fontsize=10) # ラベルの反映\n",
        "\n",
        "plt.show()"
      ]
    },
    {
      "cell_type": "markdown",
      "metadata": {
        "id": "oJCUxHdc5bm2"
      },
      "source": [
        "できた。というわけで、こんどは全体を関数にしてみましょう。\n",
        "\n",
        "### 22. 描画のプログラムを関数化する。引数には関数を受け取る。"
      ]
    },
    {
      "cell_type": "code",
      "execution_count": null,
      "metadata": {
        "id": "FIxfdllU5bm2"
      },
      "outputs": [],
      "source": [
        "def pcf_to_graph1(pcf):\n",
        "    start = 0 #定義域の左端\n",
        "    last = 2*np.pi # 定義域の右端\n",
        "\n",
        "    def here_function1(f, th):  # 関数内部の関数にする\n",
        "        r = f(th)\n",
        "        x = r * np.cos(th) # 極座標からの変換(x座標の抽出)\n",
        "        y = r * np.sin(th) # 極座標からの変換(y座標の抽出)\n",
        "        return x, y\n",
        "\n",
        "    th = np.arange(start,last, 0.01)\n",
        "    x, y = here_function1(pcf, th)\n",
        "\n",
        "    fig = plt.figure(figsize=(5,5)) # サイズを均等に\n",
        "    ax = fig.add_subplot(1,1,1)\n",
        "    #ax.set_aspect('equal')\n",
        "\n",
        "    ax.spines['right'].set_visible(False)\n",
        "    ax.spines['top'].set_visible(False)\n",
        "    ax.spines['bottom'].set_position('zero')\n",
        "    ax.spines['left'].set_position('zero')\n",
        "    ax.axis([-1.2,1.2,-1.2,1.2])\n",
        "    #ax.grid() # グラフにグリッドを追加\n",
        "\n",
        "    ax.plot(x, y) # 描画\n",
        "    #ax.legend(bbox_to_anchor=(1, 1), loc='upper right', borderaxespad=0, fontsize=10) # ラベルの反映\n",
        "\n",
        "    plt.show()\n",
        "\n",
        "\n"
      ]
    },
    {
      "cell_type": "code",
      "execution_count": null,
      "metadata": {
        "id": "Fijw_SOg5bm2"
      },
      "outputs": [],
      "source": [
        "# 関数の外で、今回入力する関数を定義。\n",
        "\n",
        "def pcf1(th):\n",
        "    r = 1 + (1/100)*np.sin(th * 30) # ここだけ変更\n",
        "    return r\n",
        "\n",
        "pcf_to_graph1(pcf1) # 実行"
      ]
    },
    {
      "cell_type": "markdown",
      "metadata": {
        "id": "OZSvxuA45bm2"
      },
      "source": [
        "### 23. いくつか入力する関数を変えて試す"
      ]
    },
    {
      "cell_type": "code",
      "execution_count": null,
      "metadata": {
        "id": "JPz-zNWo5bm2"
      },
      "outputs": [],
      "source": [
        "def pcf2(th): # 関数名も(変数のように)変更\n",
        "    r = 1 + (1/100)*np.sin(th * 60) # ここだけ変更\n",
        "    return r\n",
        "\n",
        "pcf_to_graph1(pcf2)"
      ]
    },
    {
      "cell_type": "code",
      "execution_count": null,
      "metadata": {
        "id": "XSYcb5BE5bm2"
      },
      "outputs": [],
      "source": [
        "def pcf3(th): # 関数名も(変数のように)変更\n",
        "    r = 0.2 * th # ここを変更\n",
        "    return r\n",
        "\n",
        "pcf_to_graph1(pcf3)"
      ]
    },
    {
      "cell_type": "markdown",
      "metadata": {
        "id": "y3M4cBXK5bm2"
      },
      "source": [
        "こういうタイプのものでは、周期がもっと長くなったときにどうなるかも見たい。\n",
        "\n",
        "### 24. 周期も引数として受け取るようにする。\n",
        "- 課題4-2の基礎になります。"
      ]
    },
    {
      "cell_type": "code",
      "execution_count": 1,
      "metadata": {
        "id": "6R-nSoaf5bm2"
      },
      "outputs": [],
      "source": [
        "def pcf_to_graph2(pcf, last):\n",
        "    start = 0 #定義域の左端\n",
        "    #last = 2*np.pi # 定義域の右端 # コメントアウト\n",
        "\n",
        "    def here_function1(f, th):\n",
        "        r = f(th)\n",
        "        x = r * np.cos(th) # 極座標からの変換(x座標の抽出)\n",
        "        y = r * np.sin(th) # 極座標からの変換(y座標の抽出)\n",
        "        return x, y\n",
        "\n",
        "    th = np.arange(start,last, 0.01)\n",
        "    x, y = here_function1(pcf, th)\n",
        "\n",
        "    fig = plt.figure(figsize=(5,5)) # サイズを均等に\n",
        "    ax = fig.add_subplot(1,1,1)\n",
        "    #ax.set_aspect('equal')\n",
        "\n",
        "    ax.spines['right'].set_visible(False)\n",
        "    ax.spines['top'].set_visible(False)\n",
        "    ax.spines['bottom'].set_position('zero')\n",
        "    ax.spines['left'].set_position('zero')\n",
        "    #ax.axis([-1.2,1.2,-1.2,1.2]) # コメントアウト\n",
        "    #ax.grid() # グラフにグリッドを追加\n",
        "\n",
        "    ax.plot(x, y) # 描画\n",
        "    #ax.legend(bbox_to_anchor=(1, 1), loc='upper right', borderaxespad=0, fontsize=10) # ラベルの反映\n",
        "\n",
        "    plt.show()"
      ]
    },
    {
      "cell_type": "code",
      "execution_count": 3,
      "metadata": {
        "id": "WK3H3tla5bm2",
        "outputId": "64bd78f9-7c19-496a-b307-af40f7e49572",
        "colab": {
          "base_uri": "https://localhost:8080/",
          "height": 214
        }
      },
      "outputs": [
        {
          "output_type": "error",
          "ename": "NameError",
          "evalue": "name 'pcf3' is not defined",
          "traceback": [
            "\u001b[0;31m---------------------------------------------------------------------------\u001b[0m",
            "\u001b[0;31mNameError\u001b[0m                                 Traceback (most recent call last)",
            "\u001b[0;32m<ipython-input-3-6dbf904f1413>\u001b[0m in \u001b[0;36m<cell line: 4>\u001b[0;34m()\u001b[0m\n\u001b[1;32m      2\u001b[0m \u001b[0mlast\u001b[0m \u001b[0;34m=\u001b[0m \u001b[0;36m4\u001b[0m \u001b[0;34m*\u001b[0m \u001b[0mnp\u001b[0m\u001b[0;34m.\u001b[0m\u001b[0mpi\u001b[0m \u001b[0;31m# 周期の定義\u001b[0m\u001b[0;34m\u001b[0m\u001b[0;34m\u001b[0m\u001b[0m\n\u001b[1;32m      3\u001b[0m \u001b[0;34m\u001b[0m\u001b[0m\n\u001b[0;32m----> 4\u001b[0;31m \u001b[0mpcf_to_graph2\u001b[0m\u001b[0;34m(\u001b[0m\u001b[0mpcf3\u001b[0m\u001b[0;34m,\u001b[0m \u001b[0mlast\u001b[0m\u001b[0;34m)\u001b[0m\u001b[0;34m\u001b[0m\u001b[0;34m\u001b[0m\u001b[0m\n\u001b[0m",
            "\u001b[0;31mNameError\u001b[0m: name 'pcf3' is not defined"
          ]
        }
      ],
      "source": [
        "import numpy as np\n",
        "last = 4 * np.pi # 周期の定義\n",
        "\n",
        "pcf_to_graph2(pcf3, last)"
      ]
    },
    {
      "cell_type": "code",
      "execution_count": null,
      "metadata": {
        "id": "y-TFdXaV5bm3"
      },
      "outputs": [],
      "source": [
        "def pcf4(th):\n",
        "    r = 0.5 + th*(1/6) # ここを変更\n",
        "    return r\n",
        "\n",
        "pcf_to_graph2(pcf4, last)"
      ]
    },
    {
      "cell_type": "code",
      "execution_count": null,
      "metadata": {
        "id": "vrULp6lN5bm3"
      },
      "outputs": [],
      "source": [
        "def pcf5(th):\n",
        "    r = 1 + (1/2)*np.sin(th * 30)\n",
        "    return r\n",
        "\n",
        "pcf_to_graph2(pcf5, last)"
      ]
    },
    {
      "cell_type": "markdown",
      "metadata": {
        "id": "vV-h-ric5bm3"
      },
      "source": [
        "----\n",
        "\n",
        "----\n",
        "\n",
        "\n",
        "## 課題4-1.(6点)問5で作った円のグラフを左に、その地点でのx軸の値とy軸の値をそれぞれプロットした図を右に、色を対応させて描く\n",
        "- 作成した動画とipynbファイルを提出してください\n",
        "    - ipynbファイルは課題全部共通で1つで構いません\n",
        "- サンプル動画を参考にしてください。\n",
        "    - ただし、サンプルでは点を2πまで動かしていますが、提出版としては4πまでのものにしてください。\n",
        "- 下は、雛形として使えるかも知れない、過去の授業でやった二つの動画を並べるサンプルプログラム(一部簡易化)\n",
        "\n",
        "----"
      ]
    },
    {
      "cell_type": "code",
      "execution_count": null,
      "metadata": {
        "id": "y7qzEkQt5bm3"
      },
      "outputs": [],
      "source": [
        "def here_function(x):\n",
        "    y = -(x - 3) ** 2 + 9\n",
        "    return y\n",
        "\n",
        "start = 0 #定義域の左端\n",
        "last = 6 # 定義域の右端\n",
        "\n",
        "x0 = np.arange(start,last, 0.01)\n",
        "y0 = here_function(x0)\n",
        "\n",
        "fig = plt.figure(figsize=(12,4), dpi=150) # Figureオブジェクトを作成\n",
        "ax1 = fig.add_subplot(1,2,1) # figに属するAxesオブジェクトを作成 (縦,横, 自分の番号)\n",
        "ax2 = fig.add_subplot(1,2,2) # figに属するAxesオブジェクトを作成 (縦,横, 自分の番号)\n",
        "#ax.set_aspect('equal')\n",
        "\n",
        "ax1.spines['right'].set_visible(False)\n",
        "ax1.spines['top'].set_visible(False)\n",
        "ax1.spines['bottom'].set_position('zero')\n",
        "ax1.spines['left'].set_position('zero')\n",
        "ax1.axis([-1,7.0,-0.0,10.0])\n",
        "ax1.grid()\n",
        "ax1.set_title('base y = -(x - 3)^2 + 9') # グラフタイトル\n",
        "\n",
        "ax2.spines['right'].set_visible(False)\n",
        "ax2.spines['top'].set_visible(False)\n",
        "ax2.spines['bottom'].set_position('zero')\n",
        "ax2.spines['left'].set_position('zero')\n",
        "ax2.grid()\n",
        "\n",
        "ax1.plot(x0, y0, label='base_function')\n",
        "\n",
        "dx = 0.2\n",
        "x = np.arange(start,last+dx,dx)\n",
        "y = here_function(x)\n",
        "\n",
        "ax2.set_title('diff dx:'+str(dx)) # グラフタイトル\n",
        "\n",
        "artist_list = []\n",
        "point_list_x = []\n",
        "point_list_y = []\n",
        "\n",
        "for i in range(len(x)-1):\n",
        "    art = ax1.plot(x[i],y[i], marker='.', color='red', markersize=6, linestyle='None') # 点\n",
        "\n",
        "    a, b = return_ab2(x[i],x[i+1],y[i],y[i+1])\n",
        "    point_list_x.append(x[i])\n",
        "    point_list_y.append(a)\n",
        "    art += ax2.plot(point_list_x,point_list_y, marker='.', color='red', markersize=4, linestyle='None') # 点\n",
        "\n",
        "    artist_list.append(art)\n",
        "\n",
        "\n",
        "ax1.legend(bbox_to_anchor=(1, 1), loc='upper right', borderaxespad=0, fontsize=10)\n",
        "\n",
        "ani = ArtistAnimation(fig, artist_list, interval = 100)\n",
        "\n",
        "plt.close()\n",
        "HTML(ani.to_jshtml())"
      ]
    },
    {
      "cell_type": "code",
      "execution_count": null,
      "metadata": {
        "id": "7amiboca5bm3"
      },
      "outputs": [],
      "source": [
        "ani.save('./anime4-1.mp4', writer=\"ffmpeg\") # mp4で保存"
      ]
    },
    {
      "cell_type": "markdown",
      "metadata": {
        "id": "O1LwsuI55bm3"
      },
      "source": [
        "----\n",
        "\n",
        "## 課題4-2.(6点)極方程式 r = sin( (n / k) * θ) で描かれる曲線を「正葉曲線」あるいは「バラ曲線」と呼ぶ。例えば、 n = 4, k = 1のときのグラフは以下のようになる。\n"
      ]
    },
    {
      "cell_type": "code",
      "execution_count": null,
      "metadata": {
        "id": "gmj7GHU85bm3"
      },
      "outputs": [],
      "source": [
        "last = 10 * np.pi # 周期の定義\n",
        "\n",
        "n = 4\n",
        "k = 5\n",
        "\n",
        "def rose(th):\n",
        "    r = np.sin((n/k)*th)\n",
        "    return r\n",
        "pcf_to_graph2(rose, last)"
      ]
    },
    {
      "cell_type": "markdown",
      "metadata": {
        "id": "yihfXE6d5bm3"
      },
      "source": [
        "## 以下のサイトを参考に、nとkを変えた場合のグラフを、いっぺんにタイル状に描け。画像を提出する。5*5以上で満点とする。\n",
        "\n",
        "- 一つの画像を提出してください。\n",
        "\n",
        "- 花の曲線を描く - CinderellaJapan\n",
        "    - https://sites.google.com/site/cinderellajapan/huanocg/huano-qu-xian\n",
        "\n",
        "\n",
        "\n",
        "- できる限り表として見た目が美しくなるように\n",
        "- matplotlibのsubplotで並べることを想定しているが、どうしても分からなければ一個ずつ作っても良い\n",
        "\n",
        "----"
      ]
    },
    {
      "cell_type": "code",
      "execution_count": null,
      "metadata": {
        "id": "VdFPvopf5bm4"
      },
      "outputs": [],
      "source": [
        "# ここに書く"
      ]
    },
    {
      "cell_type": "markdown",
      "metadata": {
        "id": "EEavvZuY5bm4"
      },
      "source": [
        "## オプション課題4-3.(3点)以下の参考動画を真似て動画を作れ\n",
        "- 一つの動画を提出してください。\n",
        "\n",
        "- (参考動画)Crazy Circle Illusion!\n",
        "    - https://youtu.be/pNe6fsaCVtI\n",
        "- 基本的には点が全て表示できれば満点とする\n",
        "- その他はかっこいい動画を自由に作って良い\n"
      ]
    },
    {
      "cell_type": "code",
      "execution_count": null,
      "metadata": {
        "id": "e1g0Wxf45bm4"
      },
      "outputs": [],
      "source": [
        "# ここに書く"
      ]
    }
  ],
  "metadata": {
    "kernelspec": {
      "display_name": "Python 3",
      "language": "python",
      "name": "python3"
    },
    "language_info": {
      "codemirror_mode": {
        "name": "ipython",
        "version": 3
      },
      "file_extension": ".py",
      "mimetype": "text/x-python",
      "name": "python",
      "nbconvert_exporter": "python",
      "pygments_lexer": "ipython3",
      "version": "3.11.0"
    },
    "colab": {
      "provenance": [],
      "include_colab_link": true
    }
  },
  "nbformat": 4,
  "nbformat_minor": 0
}