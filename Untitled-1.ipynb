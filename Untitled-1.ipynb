{
 "cells": [
  {
   "cell_type": "markdown",
   "metadata": {},
   "source": [
    "KDD “Knowledge discovery in database(KDD)”におけるデータマイニング(APRIORI ALGORITHM)\n",
    "対象データベース構築と実行\n",
    "2023 Spring\n",
    "データマイニングの実行内容を簡潔に記述する。\n",
    "データマイニング(APRIORI ALGORITHM)構築、以下の項目について実習し、\n",
    "データマイニングの相関ルール抽出結果を示す。\n",
    "実習・記述項目\n",
    "(1)APRIORI ALGORITHM 対象としたデータベース(more than 30 tuples)を設計し、APRIORI ALGORITHM\n",
    "を実行し、相関ルールを抽出する。\n",
    "記述内容\n",
    "(1-1)APRIORI ALGORITHM 対象としたデータベースの内容を示す。\n",
    "(1-2)APRIORI ALGORITHM 対象の実行結果を示す。\n",
    "\n",
    "------------------------\n",
    "\n",
    "(2)“Knowledge discovery in database(KDD)”における多次元マトリクスを対象としたデータマイニング(Clustering)\n",
    "(2-1)知識処理空間として、多次元マトリクス(more than 20 vectors)を構成し、クラスタリング計算“Hierarchical clustering”を実行し、\n",
    "計算結果のクラスタをデータマイニングの結果として示す。\n",
    "(2-2) 知識処理空間として、多次元マトリクスを構成し、クラスタリング計算“K-means clustering”を実行し、計算結果のクラスタをデー\n",
    "タマイニングの結果として示す。\n",
    "\n",
    "------------------------\n",
    "\n",
    "(3) “Knowledge discovery in database (KDD)”における APRIORI ALGORITHM と Clustering について、それぞれの応用可能性につ\n",
    "いて考察せよ。"
   ]
  },
  {
   "cell_type": "code",
   "execution_count": 6,
   "metadata": {},
   "outputs": [
    {
     "name": "stdout",
     "output_type": "stream",
     "text": [
      "Collecting apyori\n",
      "  Downloading apyori-1.1.2.tar.gz (8.6 kB)\n",
      "  Preparing metadata (setup.py) ... \u001b[?25ldone\n",
      "\u001b[?25hBuilding wheels for collected packages: apyori\n",
      "  Building wheel for apyori (setup.py) ... \u001b[?25ldone\n",
      "\u001b[?25h  Created wheel for apyori: filename=apyori-1.1.2-py3-none-any.whl size=5995 sha256=9c2c035169518c9d95b467dee1328f8bc297c3fb5f594e7fda31112ce46469b5\n",
      "  Stored in directory: /Users/serenakurashina/Library/Caches/pip/wheels/77/3d/a6/d317a6fb32be58a602b1e8c6b5d6f31f79322da554cad2a5ea\n",
      "Successfully built apyori\n",
      "Installing collected packages: apyori\n",
      "Successfully installed apyori-1.1.2\n",
      "\n",
      "\u001b[1m[\u001b[0m\u001b[34;49mnotice\u001b[0m\u001b[1;39;49m]\u001b[0m\u001b[39;49m A new release of pip is available: \u001b[0m\u001b[31;49m25.0.1\u001b[0m\u001b[39;49m -> \u001b[0m\u001b[32;49m25.1.1\u001b[0m\n",
      "\u001b[1m[\u001b[0m\u001b[34;49mnotice\u001b[0m\u001b[1;39;49m]\u001b[0m\u001b[39;49m To update, run: \u001b[0m\u001b[32;49mpython3.11 -m pip install --upgrade pip\u001b[0m\n",
      "Note: you may need to restart the kernel to use updated packages.\n"
     ]
    }
   ],
   "source": [
    "pip install apyori"
   ]
  },
  {
   "cell_type": "code",
   "execution_count": 12,
   "metadata": {},
   "outputs": [
    {
     "name": "stdout",
     "output_type": "stream",
     "text": [
      "\n",
      "Sample transactions:\n",
      "1. Bread, Jelly, PeanutButter, Milk, Beer\n",
      "2. Bread, Jelly, PeanutButter\n",
      "3. Bread, PeanutButter, Milk\n",
      "4. Beer, Bread\n",
      "5. Beer, Milk\n",
      "Rule: ['Bread'] → Jelly\n",
      "  Support: 0.3225806451612903\n",
      "  Confidence: 1.0\n",
      "  Lift: 1.1923076923076923\n",
      "------\n",
      "Rule: ['Bread'] → PeanutButter\n",
      "  Support: 0.6451612903225806\n",
      "  Confidence: 0.6451612903225806\n",
      "  Lift: 1.0\n",
      "------\n",
      "Rule: ['Milk'] → PeanutButter\n",
      "  Support: 0.41935483870967744\n",
      "  Confidence: 0.8666666666666667\n",
      "  Lift: 1.1194444444444445\n",
      "------\n",
      "Rule: ['Bread', 'Milk'] → PeanutButter\n",
      "  Support: 0.3225806451612903\n",
      "  Confidence: 0.6666666666666666\n",
      "  Lift: 1.0333333333333332\n",
      "  Confidence: 0.9090909090909091\n",
      "  Lift: 1.1742424242424243\n",
      "------\n"
     ]
    }
   ],
   "source": [
    "import csv\n",
    "import pandas as pd\n",
    "from apyori import apriori\n",
    "\n",
    "transactions = []\n",
    "with open('/Users/serenakurashina/2025.5.15/transactions.csv') as f:\n",
    "    reader = csv.reader(f)\n",
    "    for row in reader:\n",
    "        transactions.append([item.strip() for item in row if item.strip() != ''])  # 空文字除去も念のため\n",
    "\n",
    "# Aprioriを実行\n",
    "rules = apriori(transactions, min_support=0.2, min_confidence=0.6, min_lift=1.0)\n",
    "\n",
    "#(1)を満たすためのコード\n",
    "print(\"\\nSample transactions:\")\n",
    "for i, transaction in enumerate(transactions[:5], 1):\n",
    "    print(f\"{i}. {', '.join(transaction)}\")\n",
    "\n",
    "# （2）を満たすためのコード\n",
    "for rule in rules:\n",
    "    items = list(rule.items)\n",
    "    if len(items) > 1:\n",
    "        print(f\"Rule: {items[:-1]} → {items[-1]}\")\n",
    "        print(f\"  Support: {rule.support}\")\n",
    "        for ordered_stat in rule.ordered_statistics:\n",
    "            print(f\"  Confidence: {ordered_stat.confidence}\")\n",
    "            print(f\"  Lift: {ordered_stat.lift}\")\n",
    "        print(\"------\")\n"
   ]
  },
  {
   "cell_type": "code",
   "execution_count": 17,
   "metadata": {},
   "outputs": [],
   "source": [
    "import csv\n",
    "\n",
    "# ファイルの読み込み\n",
    "with open('chijiiwa.txt', 'r', encoding='utf-8') as file:\n",
    "    reader = csv.reader(file, delimiter='\\t')\n",
    "    data = list(reader)\n",
    "\n",
    "# ヘッダーとデータの分離\n",
    "header = data[0]\n",
    "rows = data[1:]\n",
    "\n"
   ]
  },
  {
   "cell_type": "code",
   "execution_count": 16,
   "metadata": {},
   "outputs": [
    {
     "name": "stdout",
     "output_type": "stream",
     "text": [
      "Collecting mlxtend\n",
      "  Downloading mlxtend-0.23.4-py3-none-any.whl.metadata (7.3 kB)\n",
      "Requirement already satisfied: scipy>=1.2.1 in /opt/homebrew/lib/python3.11/site-packages (from mlxtend) (1.11.4)\n",
      "Requirement already satisfied: numpy>=1.16.2 in /opt/homebrew/lib/python3.11/site-packages (from mlxtend) (1.23.5)\n",
      "Requirement already satisfied: pandas>=0.24.2 in /opt/homebrew/lib/python3.11/site-packages (from mlxtend) (2.2.0)\n",
      "Requirement already satisfied: scikit-learn>=1.3.1 in /opt/homebrew/lib/python3.11/site-packages (from mlxtend) (1.5.0)\n",
      "Requirement already satisfied: matplotlib>=3.0.0 in /opt/homebrew/lib/python3.11/site-packages (from mlxtend) (3.8.2)\n",
      "Requirement already satisfied: joblib>=0.13.2 in /opt/homebrew/lib/python3.11/site-packages (from mlxtend) (1.4.2)\n",
      "Requirement already satisfied: contourpy>=1.0.1 in /opt/homebrew/lib/python3.11/site-packages (from matplotlib>=3.0.0->mlxtend) (1.2.0)\n",
      "Requirement already satisfied: cycler>=0.10 in /opt/homebrew/lib/python3.11/site-packages (from matplotlib>=3.0.0->mlxtend) (0.12.1)\n",
      "Requirement already satisfied: fonttools>=4.22.0 in /opt/homebrew/lib/python3.11/site-packages (from matplotlib>=3.0.0->mlxtend) (4.47.2)\n",
      "Requirement already satisfied: kiwisolver>=1.3.1 in /opt/homebrew/lib/python3.11/site-packages (from matplotlib>=3.0.0->mlxtend) (1.4.5)\n",
      "Requirement already satisfied: packaging>=20.0 in /Users/serenakurashina/Library/Python/3.11/lib/python/site-packages (from matplotlib>=3.0.0->mlxtend) (23.2)\n",
      "Requirement already satisfied: pillow>=8 in /opt/homebrew/lib/python3.11/site-packages (from matplotlib>=3.0.0->mlxtend) (10.2.0)\n",
      "Requirement already satisfied: pyparsing>=2.3.1 in /opt/homebrew/lib/python3.11/site-packages (from matplotlib>=3.0.0->mlxtend) (3.1.1)\n",
      "Requirement already satisfied: python-dateutil>=2.7 in /Users/serenakurashina/Library/Python/3.11/lib/python/site-packages (from matplotlib>=3.0.0->mlxtend) (2.8.2)\n",
      "Requirement already satisfied: pytz>=2020.1 in /opt/homebrew/lib/python3.11/site-packages (from pandas>=0.24.2->mlxtend) (2024.1)\n",
      "Requirement already satisfied: tzdata>=2022.7 in /opt/homebrew/lib/python3.11/site-packages (from pandas>=0.24.2->mlxtend) (2023.4)\n",
      "Requirement already satisfied: threadpoolctl>=3.1.0 in /opt/homebrew/lib/python3.11/site-packages (from scikit-learn>=1.3.1->mlxtend) (3.5.0)\n",
      "Requirement already satisfied: six>=1.5 in /Users/serenakurashina/Library/Python/3.11/lib/python/site-packages (from python-dateutil>=2.7->matplotlib>=3.0.0->mlxtend) (1.16.0)\n",
      "Downloading mlxtend-0.23.4-py3-none-any.whl (1.4 MB)\n",
      "\u001b[2K   \u001b[90m━━━━━━━━━━━━━━━━━━━━━━━━━━━━━━━━━━━━━━━━\u001b[0m \u001b[32m1.4/1.4 MB\u001b[0m \u001b[31m871.0 kB/s\u001b[0m eta \u001b[36m0:00:00\u001b[0ma \u001b[36m0:00:01\u001b[0m\n",
      "\u001b[?25hInstalling collected packages: mlxtend\n",
      "Successfully installed mlxtend-0.23.4\n",
      "\n",
      "\u001b[1m[\u001b[0m\u001b[34;49mnotice\u001b[0m\u001b[1;39;49m]\u001b[0m\u001b[39;49m A new release of pip is available: \u001b[0m\u001b[31;49m25.0.1\u001b[0m\u001b[39;49m -> \u001b[0m\u001b[32;49m25.1.1\u001b[0m\n",
      "\u001b[1m[\u001b[0m\u001b[34;49mnotice\u001b[0m\u001b[1;39;49m]\u001b[0m\u001b[39;49m To update, run: \u001b[0m\u001b[32;49mpython3.11 -m pip install --upgrade pip\u001b[0m\n",
      "Note: you may need to restart the kernel to use updated packages.\n"
     ]
    }
   ],
   "source": [
    "pip install mlxtend\n"
   ]
  },
  {
   "cell_type": "code",
   "execution_count": 21,
   "metadata": {},
   "outputs": [
    {
     "name": "stdout",
     "output_type": "stream",
     "text": [
      "         antecedents             consequents  antecedent support  \\\n",
      "0              (red)                (yellow)               0.425   \n",
      "1           (yellow)                   (red)               0.500   \n",
      "2            (green)                   (red)               0.500   \n",
      "3              (red)                 (green)               0.425   \n",
      "4            (white)                   (red)               0.475   \n",
      "..               ...                     ...                 ...   \n",
      "107  (white, yellow)           (blue, green)               0.375   \n",
      "108           (blue)  (white, green, yellow)               0.500   \n",
      "109          (green)   (blue, white, yellow)               0.500   \n",
      "110          (white)   (blue, green, yellow)               0.475   \n",
      "111         (yellow)    (blue, green, white)               0.500   \n",
      "\n",
      "     consequent support  support  confidence      lift  representativity  \\\n",
      "0                 0.500    0.375    0.882353  1.764706               1.0   \n",
      "1                 0.425    0.375    0.750000  1.764706               1.0   \n",
      "2                 0.425    0.275    0.550000  1.294118               1.0   \n",
      "3                 0.500    0.275    0.647059  1.294118               1.0   \n",
      "4                 0.425    0.250    0.526316  1.238390               1.0   \n",
      "..                  ...      ...         ...       ...               ...   \n",
      "107               0.375    0.200    0.533333  1.422222               1.0   \n",
      "108               0.300    0.200    0.400000  1.333333               1.0   \n",
      "109               0.200    0.200    0.400000  2.000000               1.0   \n",
      "110               0.225    0.200    0.421053  1.871345               1.0   \n",
      "111               0.250    0.200    0.400000  1.600000               1.0   \n",
      "\n",
      "     leverage  conviction  zhangs_metric   jaccard  certainty  kulczynski  \n",
      "0    0.162500    4.250000       0.753623  0.681818   0.764706    0.816176  \n",
      "1    0.162500    2.300000       0.866667  0.681818   0.565217    0.816176  \n",
      "2    0.062500    1.277778       0.454545  0.423077   0.217391    0.598529  \n",
      "3    0.062500    1.416667       0.395257  0.423077   0.294118    0.598529  \n",
      "4    0.048125    1.213889       0.366667  0.384615   0.176201    0.557276  \n",
      "..        ...         ...            ...       ...        ...         ...  \n",
      "107  0.059375    1.339286       0.475000  0.363636   0.253333    0.533333  \n",
      "108  0.050000    1.166667       0.500000  0.333333   0.142857    0.533333  \n",
      "109  0.100000    1.333333       1.000000  0.400000   0.250000    0.700000  \n",
      "110  0.093125    1.338636       0.886905  0.400000   0.252971    0.654971  \n",
      "111  0.075000    1.250000       0.750000  0.363636   0.200000    0.600000  \n",
      "\n",
      "[112 rows x 14 columns]\n"
     ]
    },
    {
     "name": "stderr",
     "output_type": "stream",
     "text": [
      "/var/folders/r9/t7gwy3s16y755fy1xgff7v5r0000gn/T/ipykernel_74285/612711862.py:17: FutureWarning: DataFrame.applymap has been deprecated. Use DataFrame.map instead.\n",
      "  df_binary = df_numeric.applymap(lambda x: 1 if x > 0 else 0)\n",
      "/opt/homebrew/lib/python3.11/site-packages/mlxtend/frequent_patterns/fpcommon.py:161: DeprecationWarning: DataFrames with non-bool types result in worse computationalperformance and their support might be discontinued in the future.Please use a DataFrame with bool type\n",
      "  warnings.warn(\n"
     ]
    }
   ],
   "source": [
    "import pandas as pd\n",
    "from mlxtend.frequent_patterns import apriori, association_rules\n",
    "\n",
    "# データの読み込み\n",
    "with open('chijiiwa.txt', 'r', encoding='utf-8') as file:\n",
    "    lines = file.readlines()\n",
    "\n",
    "# ヘッダーとデータの分割\n",
    "header = lines[0].strip().split('\\t')\n",
    "data = [line.strip().split('\\t') for line in lines[1:]]\n",
    "\n",
    "# DataFrameの作成\n",
    "df = pd.DataFrame(data, columns=header)\n",
    "\n",
    "# 数値データの0/1変換\n",
    "df_numeric = df.iloc[:, 1:].apply(pd.to_numeric, errors='coerce')\n",
    "df_binary = df_numeric.applymap(lambda x: 1 if x > 0 else 0)\n",
    "\n",
    "# Aprioriアルゴリズムの適用\n",
    "frequent_itemsets = apriori(df_binary, min_support=0.2, use_colnames=True)\n",
    "\n",
    "# 関連ルールの抽出\n",
    "rules = association_rules(frequent_itemsets, metric=\"lift\", min_threshold=1.0)\n",
    "\n",
    "# 結果の表示\n",
    "print(rules)\n"
   ]
  },
  {
   "cell_type": "code",
   "execution_count": 23,
   "metadata": {},
   "outputs": [
    {
     "name": "stdout",
     "output_type": "stream",
     "text": [
      "            red  yellow  green  blue  purple  white  black\n",
      "words                                                     \n",
      "showy        17      22      3    -3      -6      2    -13\n",
      "sober       -17     -22     -3     3       6     -2     13\n",
      "natural       0       4      7     2      -9     11      1\n",
      "artificial    0      -4     -7    -2       9    -11     -1\n",
      "warm         14      13     -1   -13      -7     -4      1\n"
     ]
    },
    {
     "data": {
      "image/png": "[encoded data removed]",
      "text/plain": [
       "<Figure size 1200x600 with 1 Axes>"
      ]
     },
     "metadata": {},
     "output_type": "display_data"
    },
    {
     "name": "stdout",
     "output_type": "stream",
     "text": [
      "            Word  Cluster\n",
      "0          showy        0\n",
      "21       dynamic        0\n",
      "22      cheerful        0\n",
      "12         light        0\n",
      "10          soft        0\n",
      "9      emotional        0\n",
      "27       womanly        0\n",
      "4           warm        0\n",
      "6         bright        0\n",
      "38       excited        0\n",
      "29         vague        1\n",
      "20        static        1\n",
      "31         muddy        1\n",
      "25          ugly        1\n",
      "33   complicated        1\n",
      "23        gloomy        1\n",
      "35        vulgar        1\n",
      "37           old        1\n",
      "19      disliked        1\n",
      "17        feeble        1\n",
      "1          sober        1\n",
      "3     artificial        1\n",
      "5           cold        1\n",
      "11          hard        1\n",
      "7           dark        1\n",
      "13         grave        1\n",
      "15     insistent        1\n",
      "39    melancholy        1\n",
      "26         manly        2\n",
      "8   intellectual        2\n",
      "28         vivid        2\n",
      "18      favorite        2\n",
      "30         clear        2\n",
      "14         plain        2\n",
      "32        simple        2\n",
      "34      graceful        2\n",
      "2        natural        2\n",
      "36           new        2\n",
      "16        strong        2\n",
      "24     beautiful        2\n"
     ]
    }
   ],
   "source": [
    "import pandas as pd\n",
    "from scipy.cluster.hierarchy import linkage, dendrogram\n",
    "import matplotlib.pyplot as plt\n",
    "from sklearn.cluster import KMeans\n",
    "\n",
    "# (1) データ読み込み\n",
    "# chijiwa.txtはタブ区切り、先頭行がカラム名、1列目が単語の行ラベルと仮定\n",
    "df = pd.read_csv('chijiiwa.txt', sep='\\t', index_col=0)\n",
    "\n",
    "# データの確認\n",
    "print(df.head())\n",
    "\n",
    "# --- (2-1) 階層的クラスタリング ---\n",
    "\n",
    "# linkageで階層クラスタリング（ward法）\n",
    "Z = linkage(df, method='ward')\n",
    "\n",
    "# デンドログラムをプロット\n",
    "plt.figure(figsize=(12, 6))\n",
    "dendrogram(Z, labels=df.index, leaf_rotation=90)\n",
    "plt.title('Hierarchical Clustering Dendrogram')\n",
    "plt.xlabel('Words')\n",
    "plt.ylabel('Distance')\n",
    "plt.tight_layout()\n",
    "plt.show()\n",
    "\n",
    "# --- (2-2) K-meansクラスタリング ---\n",
    "\n",
    "# クラスタ数は任意に決める（例：3クラスタ）\n",
    "k = 3\n",
    "kmeans = KMeans(n_clusters=k, random_state=0)\n",
    "clusters = kmeans.fit_predict(df)\n",
    "\n",
    "# 結果表示\n",
    "result = pd.DataFrame({'Word': df.index, 'Cluster': clusters})\n",
    "print(result.sort_values('Cluster'))\n"
   ]
  },
  {
   "cell_type": "markdown",
   "metadata": {},
   "source": [
    "KDD（Knowledge Discovery in Databases）におけるAprioriアルゴリズムとクラスタリングは、データ量の増大と人的分析の限界というジレンマを解決するための自動パターン発見手法として極めて重要です。特に、衛星画像解析や宇宙科学の分野では、これらの手法が新たな知見の発見に寄与しています。\n",
    "\n",
    "例えば、SELENEプロジェクトの月面画像解析では、クラスタリングを用いて植生、市街地、水域などの領域を自動的に分類することが可能です。このような画像セグメンテーションにより、広範なデータから有用な情報を効率的に抽出できます。\n",
    "\n",
    "また、異常検知の分野では、クラスタリングによって通常のパターンから外れたデータを特定し、宇宙線バースト現象などの異常値を検出することができます。\n",
    "\n",
    "さらに、多次元時系列データ解析においては、惑星探査機の長期観測データから地質活動の周期性をクラスタリングで抽出することが可能です。この際、時系列データの非定常定常性に対応するため、Dynamic Time Warping（DTW）を距離指標として採用することが有効です。\n",
    "\n",
    "今後の研究方向としては、クラスタリングでデータを前処理し、各クラスタ内でAprioriアルゴリズムを適用するハイブリッドアプローチや、Apache Spark環境での分散処理の活用が考えられると思います。また、ディープラーニングと組み合わせた可視化手法の開発（例：t-SNE＋クラスタリング）により、解釈可能性の向上が期待されます。"
   ]
  }
 ],
 "metadata": {
  "kernelspec": {
   "display_name": "Python 3",
   "language": "python",
   "name": "python3"
  },
  "language_info": {
   "codemirror_mode": {
    "name": "ipython",
    "version": 3
   },
   "file_extension": ".py",
   "mimetype": "text/x-python",
   "name": "python",
   "nbconvert_exporter": "python",
   "pygments_lexer": "ipython3",
   "version": "3.11.12"
  }
 },
 "nbformat": 4,
 "nbformat_minor": 2
}
