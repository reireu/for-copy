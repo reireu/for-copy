{
  "cells": [
    {
      "cell_type": "markdown",
      "metadata": {
        "id": "view-in-github",
        "colab_type": "text"
      },
      "source": [
        "<a href=\"https://colab.research.google.com/github/rena-tech/for-copy/blob/main/Station1.ipynb\" target=\"_parent\"><img src=\"https://colab.research.google.com/assets/colab-badge.svg\" alt=\"Open In Colab\"/></a>"
      ]
    },
    {
      "cell_type": "markdown",
      "metadata": {
        "id": "lFnB1v3ZXYFS"
      },
      "source": [
        "| Version | Published Date| Details |\n",
        "| -- | -- | -- |\n",
        "| ver.1.0.0 | 2023/8/29 | 初版 |\n",
        "| ver.1.0.1 | 2023/9/01 | 問題に補足を追記 |"
      ]
    },
    {
      "cell_type": "markdown",
      "metadata": {
        "id": "cN4q3VawGuAs"
      },
      "source": [
        "# 正規表現について学ぼう\n",
        "\n",
        "Python自動化Stationへようこそ。入門編に引き続き，Pythonを使った自動化を学んでいきましょう。このStationでは強力なツールである **正規表現** について学習します。正規表現はPythonに限らず，ほとんどすべてのプログラミングやExcelでも利用できる非常に重要なツールです。見慣れない表記が多くなりますが，しっかりと習得しましょう。"
      ]
    },
    {
      "cell_type": "markdown",
      "metadata": {
        "id": "UQAfiBWcUMkl"
      },
      "source": [
        "# 正規表現とパターンマッチ\n",
        "\n",
        "ブラウザやテキストエディタで `Ctrl/Command - F` を押してテキスト検索を行ったことがある方は多いことでしょう。このStationで学ぶ **正規表現** では，さらに一歩推し進めて文字列を検索する「パターン」を指定します。\n",
        "\n",
        "たとえば電話番号について考えます。正確な電話番号を知らなくても，みなさんなら `03-1234-5678` が電話番号であり `123,456,789` がそうではないことはよくおわかりでしょう。その他にも，メールアドレスは必ず `@` を含みますし，ウェブサイトのURLには `.` や `/` があります。\n",
        "\n",
        "正規表現はこうしたパターンを記述するのに非常に便利です。しかしMS OfficeやExcelでも正規表現を使って文字列を検索したり置換したりできることを知っている人はそれほど多くはありません。正規表現を使えば，ソフトを使う人やプログラマーにとっても多くの時間を節約できます。 *プログラミングを学ぶ前に正規表現を学ぶべきだ* と主張する人さえいます。\n",
        "\n",
        "このStationは以下のように進みます。\n",
        "\n",
        "- 正規表現を使わずにテキストのパターンを検索するプログラムを書く\n",
        "- 正規表現を使ってコードをコンパクトにする\n",
        "- 正規表現のマッチングについて説明\n",
        "- より強力な正規表現の機能を説明\n",
        "- テキストから電話番号とメールアドレスを抽出する"
      ]
    },
    {
      "cell_type": "markdown",
      "metadata": {
        "id": "f4W_0KK4VxEq"
      },
      "source": [
        "## 正規表現を使わないテキストパターン検索\n",
        "\n",
        "まずは文字列から電話番号を検索することを考えます。実際には電話番号にはより多くのパターンがありますが，簡単のために電話番号が 4桁の数字，ハイフン( `-` )，2桁の数字，ハイフン( `-` )，4桁の数字だとします。たとえば `0123-44-5678` がこのパターンに当てはまります。\n",
        "\n",
        "それでは文字列がこのパターンに当てはまるかどうか調べ， `True` か `False` を返す関数 `is_phone_number()` を作りましょう。"
      ]
    },
    {
      "cell_type": "code",
      "execution_count": null,
      "metadata": {
        "id": "uHCl-jh-UL8k"
      },
      "outputs": [],
      "source": [
        "def is_phone_number(text):\n",
        "    if len(text) != 12:\n",
        "        return False\n",
        "    for i in range(0, 4):\n",
        "        if not text[i].isdecimal():\n",
        "            return False\n",
        "        if text[4] != '-':\n",
        "            return False\n",
        "        for i in range(5, 7):\n",
        "            if not text[i].isdecimal():\n",
        "                return False\n",
        "        if text[7] != '-':\n",
        "            return False\n",
        "        for i in range(8, 12):\n",
        "            if not text[i].isdecimal():\n",
        "                return False\n",
        "    return True"
      ]
    },
    {
      "cell_type": "code",
      "execution_count": null,
      "metadata": {
        "id": "z9YSXsisZM4R"
      },
      "outputs": [],
      "source": [
        "# 正しい形式の電話番号\n",
        "is_phone_number(\"0123-45-5678\")"
      ]
    },
    {
      "cell_type": "code",
      "execution_count": null,
      "metadata": {
        "id": "epSueivyZwP1"
      },
      "outputs": [],
      "source": [
        "# 正しくない形式の電話番号\n",
        "is_phone_number(\"0-1233467777\")"
      ]
    },
    {
      "cell_type": "code",
      "execution_count": null,
      "metadata": {
        "id": "Zv7RXLb0ZRfH"
      },
      "outputs": [],
      "source": [
        "# 正しくない形式\n",
        "is_phone_number(\"I have an apple.\")"
      ]
    },
    {
      "cell_type": "markdown",
      "metadata": {
        "id": "IQoVTEvtaf_Q"
      },
      "source": [
        "`is_phone_number()` 関数は，文字列が正しい電話番号であるかどうかを何回かに分けて調べています。いずれかにおいて一致しなければ関数は `False` を返します。このプログラムは以下のように文字列を判定します。\n",
        "\n",
        "- 文字列の長さがぴったり12文字かどうか\n",
        "- 市外局番 (最初の4桁) が数字だけから構成されているかどうか\n",
        "- 市外局番のあとが `-` になっているかどうか\n",
        "- 2桁の数字が続くか\n",
        "- もう一度 `-` が続くか\n",
        "- 最後に4桁の数字が続くか\n",
        "\n",
        "をすべて調べ，一致すれば `True` を返します。\n",
        "\n",
        "`is_phone_number()` に `\"0123-45-5678\"` を渡すと `True` を返します。`\"I have an apple.\"` を渡すと，最初のテストに落ちて `False` を返します。\n",
        "\n",
        "長いテキストの中から電話番号のパターンを見つけるためには，さらにコードの追加が必要です。"
      ]
    },
    {
      "cell_type": "code",
      "execution_count": null,
      "metadata": {
        "id": "S5QAuK8oac97"
      },
      "outputs": [],
      "source": [
        "message = '今日の夜に0123-45-6789に電話してください。明日は休日なので0345-67-8910に電話してください。'\n",
        "\n",
        "for i, _ in enumerate(message):\n",
        "    chunk = message[i:i + 12]\n",
        "    if is_phone_number(chunk):\n",
        "        print(f'電話番号が見つかりました: {chunk}')\n",
        "\n",
        "print(\"完了\")"
      ]
    },
    {
      "cell_type": "markdown",
      "metadata": {
        "id": "tLMFmZQLnKb7"
      },
      "source": [
        "この関数は `for` ループを繰り返すたびに `message` から12文字のまとまりを切り出して変数 `chunk` に格納します。最初の繰り返しでは `i` は `0` なので `chunk` には `message[0:12]` (つまり `\"今日の夜に0123-45\"` ) が代入されます。その次では `i` は `1` になり `chunk` には `message[0:12]` (つまり `\"日の夜に0123-45-\"` ) という文字列が代入されます。つまり `for` ループのそれぞれの繰り返しにおいて `chunk` は\n",
        "\n",
        "- `今日の夜に0123-45`\n",
        "- `日の夜に0123-45-`\n",
        "- `の夜に0123-45-6`\n",
        "- `夜に0123-45-67`\n",
        "- `に0123-45-678`\n",
        "- `0123-45-6789`\n",
        "- `123-45-6789に`\n",
        "- `23-45-6789に電`\n",
        "- …\n",
        "\n",
        "のようになります。その `chunk` を `is_phone_number()` に渡して，電話番号のパターンに一致するか調べます。もし一致するのであれば `chunk` を表示します。\n",
        "\n",
        "そうして `message` 全体をループし，12文字を切り出した `chunk` が電話番号かどうか調べて `is_phone_number()` が `True` なら `chunk` を表示します。メッセージ全体を処理したら「完了」を表示します。\n",
        "\n",
        "この例では `message` の文字列は短いですし，何百万文字の長さになってもプログラム自体は1秒もあれば実行完了するでしょう。正規表現を使って電話番号を検索するプログラムも1秒以内に実行完了しますが，正規表現を使うとこういったプログラムをもっと簡潔に書けます。\n",
        "\n",
        "---\n",
        "\n",
        "ちなみに今回のコードで使っている [`enumerate()` 関数](https://docs.python.org/ja/3/library/functions.html#enumerate) はイテレータと呼ばれる繰り返しオブジェクトについて添字とそれ自身を返す組み込み関数です。また今回のコードではそれ自身は必要ありません。そのため不必要な変数であることを示すために `_` に代入しています。"
      ]
    },
    {
      "cell_type": "markdown",
      "metadata": {
        "id": "O1iGYt9gqCTu"
      },
      "source": [
        "## 正規表現を用いてテキストパターンを検索する\n",
        "\n",
        "先に書いた電話番号検索プログラムはきちんと動作しますが，コードが長い割にはできることが限られています。 `is_phone_number()` 関数は17行ありますが，電話番号のパターンを1つだけしか検索できません。\n",
        "\n",
        "もし電話番号が `123.444.5555` や `(0123)444-555` のような形式だったら対応できません。もし `+81-80-4444-9999` のように国番号がついていたらどうでしょうか。 `is_phone_number()` 関数はこのような形式を検証できません。こういったパターンのためのコードを追加すると，どんどんコードが長くなってしまいます。\n",
        "\n",
        "**正規表現 (Regular Expression, 縮めて regex)** は，テキストのパターンの記述方法です。たとえば正規表現で `\\d` は数字1文字を表します。 `d` は `decimal` の頭文字です。正規表現では `\\d\\d\\d\\d-\\d\\d-\\d\\d\\d\\d` は先の `is_phone_number()` 関数と同じ文字列 (4桁の数字，ハイフン，2桁の数字，ハイフン，4桁の数字) にマッチします。その他の文字列は `\\d\\d\\d\\d-\\d\\d-\\d\\d\\d\\d` にはマッチしません。\n",
        "\n",
        "正規表現それ自身はもう少し簡潔に書けます。たとえばパターンの後 `{}` に3を入れて書いた `{3}` は「直前のパターンと3回マッチする」ことを意味します。したがって，正しい番号にマッチする正規表現は `\\d{4}-\\d{2}-\\d{4}` と少し短く書けます。"
      ]
    },
    {
      "cell_type": "markdown",
      "metadata": {
        "id": "JqhwTRVjtQhb"
      },
      "source": [
        "## Regexオブジェクトを生成する\n",
        "\n",
        "Pythonでの正規表現は，すべて `re` モジュールの中にあります。そのためPythonで正規表現を使うときはまず"
      ]
    },
    {
      "cell_type": "code",
      "execution_count": null,
      "metadata": {
        "id": "-3R1XDWXtMU0"
      },
      "outputs": [],
      "source": [
        "import re"
      ]
    },
    {
      "cell_type": "markdown",
      "metadata": {
        "id": "6p2-NQUutbuo"
      },
      "source": [
        "と入力します。 `re.compile()` に正規表現パターンを表す文字列を渡すとRegexパターンオブジェクト (簡単にRegexオブジェクトとも言います)が返ってきます。\n",
        "\n",
        "電話番号パターンにマッチする Regex オブジェクトを生成するにはこのように入力します。"
      ]
    },
    {
      "cell_type": "code",
      "execution_count": null,
      "metadata": {
        "id": "MBO8LSG2xSFa"
      },
      "outputs": [],
      "source": [
        "phone_num_regex = re.compile(r'\\d\\d-\\d\\d\\d\\d-\\d\\d\\d\\d')"
      ]
    },
    {
      "cell_type": "markdown",
      "metadata": {
        "id": "VYJiE8HExVOd"
      },
      "source": [
        "`\\d` は1文字の数字であり `\\d\\d-\\d\\d\\d\\d-\\d\\d\\d\\d` は正しい電話番号のパターンを表す正規表現です。 `\\` はPythonでは特別な意味を持つため `\"\"` や `''` と一緒に使うには [エスケープ](https://docs.python.org/ja/3.9/reference/lexical_analysis.html#string-and-bytes-literals) が必要です。これをいちいち行うのは面倒なため raw 文字列を用いて `''` の前に `r` を配置すると便利です。"
      ]
    },
    {
      "cell_type": "markdown",
      "metadata": {
        "id": "dJCj4OXpyFyK"
      },
      "source": [
        "これで，変数 `phone_num_regex` にはRegexオブジェクトが格納されました。"
      ]
    },
    {
      "cell_type": "markdown",
      "metadata": {
        "id": "1RxbXu4uyS7U"
      },
      "source": [
        "## Regexオブジェクトとマッチする\n",
        "\n",
        "Regexオブジェクトの `search()` メソッドは，渡された文字列の中から正規表現とマッチする部分を探します。見つからなければ `None` を返し，見つかれば `Match` オブジェクトを返します。 `Match` オブジェクトには `group()` メソッドがあり，実際にマッチしたテキストを返します。"
      ]
    },
    {
      "cell_type": "code",
      "execution_count": null,
      "metadata": {
        "id": "GNYO-3BPxShB"
      },
      "outputs": [],
      "source": [
        "phone_num_regex = re.compile(r'\\d\\d\\d\\d-\\d\\d-\\d\\d\\d\\d')\n",
        "mo = phone_num_regex.search('お店の電話番号は0123-45-6789です。')\n",
        "print(f'電話番号が見つかりました: {mo.group()}')"
      ]
    },
    {
      "cell_type": "markdown",
      "metadata": {
        "id": "RemQVN_y1Bs9"
      },
      "source": [
        "変数名 `mo` は `Match` オブジェクトに用いられる汎用名です。この例は最初は複雑に見えるかもしれませんが，先のプログラムよりはるかに短いのにも関わらず同じ働きをします。\n",
        "\n",
        "ここでは，パターンを `re.compile()` に渡し，返り値の `Regex` オブジェクトを `phone_num_regex` に格納します。次にそれに対して `search()` を呼び出し，検索対象の文字列を渡します。検索結果は変数 `mo` に格納されます。この例では検索結果が見つかるため `None` ではなく `Match` オブジェクトが返ります。 `mo` に対して `group()` を呼ぶことでマッチした部分を返しています。"
      ]
    },
    {
      "cell_type": "code",
      "execution_count": null,
      "metadata": {
        "id": "gMyxmCl91yho"
      },
      "outputs": [],
      "source": [
        "mo = re.search(r'\\d\\d\\d\\d-\\d\\d-\\d\\d\\d\\d', 'お店の電話番号は0123-45-6789です。')\n",
        "print(f'電話番号が見つかりました: {mo.group()}')"
      ]
    },
    {
      "cell_type": "markdown",
      "metadata": {
        "id": "u3TxiXal6MX2"
      },
      "source": [
        "このように `compile` を行わず `re.search()` メソッドに直接 `Regex` オブジェクトを渡すこともできます。しかし `compile` する場合に比べて実行時間が遅くなることが多いです。\n",
        "\n",
        "Google Colabでは `%%timeit` をセルの一番上に書くとそのセルが自動的に何度も実行され，実行時間を計測できます。実際に試してみましょう。"
      ]
    },
    {
      "cell_type": "code",
      "execution_count": null,
      "metadata": {
        "id": "qZFltV7o-HbH"
      },
      "outputs": [],
      "source": [
        "%%timeit\n",
        "mo = re.search(r'\\d\\d\\d\\d-\\d\\d-\\d\\d\\d\\d', 'お店の電話番号は0123-45-6789です。')"
      ]
    },
    {
      "cell_type": "code",
      "execution_count": null,
      "metadata": {
        "id": "V78riBXF15Dh"
      },
      "outputs": [],
      "source": [
        "%%timeit\n",
        "mo = phone_num_regex.search('お店の電話番号は0123-45-6789です。')"
      ]
    },
    {
      "cell_type": "markdown",
      "metadata": {
        "id": "byh5EIly-3by"
      },
      "source": [
        "# 確認テスト\n",
        "\n",
        "正規表現を使って以下の問題に答えてください。\n",
        "\n",
        "- `012012` という文字列のみにマッチする正規表現パターンを書いてください。\n",
        "  - 難しく考えず、極めて単純に考えてみてください。\n",
        "- 日本の郵便番号にマッチする正規表現パターンを書いてください。ここで郵便番号とは `数字3桁` `-` `数字4ケタ` で表される文字列とします。\n",
        "  - 数字には `\\d` を利用してください。\n",
        "  - `(0|1|2|3|4|5|6|7|8|9)` のような冗長な表現はいくつかありますが、冗長な表現は使用せず、簡潔に書くようにしてください。\n",
        "  - また、本 Stationで紹介した手法を利用してください。Station2以降ではより簡潔に書ける方法を説明しますが、ここでは利用しないでください。"
      ]
    },
    {
      "cell_type": "code",
      "execution_count": null,
      "metadata": {
        "id": "HaVRRivjXYFc"
      },
      "outputs": [],
      "source": [
        "# 確認テスト (1)\n",
        "import re\n",
        "mo = re.search(\n",
        "    r''# <- ここに正規表現を書きます (ここに記入した内容を回答フォームに登録してください)\n",
        "    , '電話番号:0120-012-012、郵便番号:123-4567、住所:東京都千代田区012012')\n",
        "print(f'マッチした文字列が見つかりました: {mo.group()}')"
      ]
    },
    {
      "cell_type": "code",
      "execution_count": null,
      "metadata": {
        "id": "hU3IzztkXYFd"
      },
      "outputs": [],
      "source": [
        "# 確認テスト (2)\n",
        "import re\n",
        "mo = re.search(\n",
        "    r''# <- ここに正規表現を書きます (ここに記入した内容を回答フォームに登録してください)\n",
        "    , '電話番号:0120-012-012、郵便番号:123-4567、住所:東京都千代田区012012')\n",
        "print(f'マッチした郵便番号が見つかりました: {mo.group()}')"
      ]
    }
  ],
  "metadata": {
    "colab": {
      "provenance": [],
      "toc_visible": true,
      "include_colab_link": true
    },
    "kernelspec": {
      "display_name": "Python 3",
      "name": "python3"
    },
    "language_info": {
      "codemirror_mode": {
        "name": "ipython",
        "version": 3
      },
      "file_extension": ".py",
      "mimetype": "text/x-python",
      "name": "python",
      "nbconvert_exporter": "python",
      "pygments_lexer": "ipython3",
      "version": "3.9.6"
    }
  },
  "nbformat": 4,
  "nbformat_minor": 0
}