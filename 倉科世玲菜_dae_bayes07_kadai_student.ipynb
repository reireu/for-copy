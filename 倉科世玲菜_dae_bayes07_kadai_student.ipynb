{
  "cells": [
    {
      "cell_type": "markdown",
      "metadata": {
        "id": "view-in-github",
        "colab_type": "text"
      },
      "source": [
        "<a href=\"https://colab.research.google.com/github/reireu/for-copy/blob/main/%E5%80%89%E7%A7%91%E4%B8%96%E7%8E%B2%E8%8F%9C_dae_bayes07_kadai_student.ipynb\" target=\"_parent\"><img src=\"https://colab.research.google.com/assets/colab-badge.svg\" alt=\"Open In Colab\"/></a>"
      ]
    },
    {
      "cell_type": "markdown",
      "metadata": {
        "id": "TjAggK9mJfkj"
      },
      "source": [
        "# データと計量経済学 第7回課題 ベイズ推論"
      ]
    },
    {
      "cell_type": "code",
      "source": [
        "pip install japanize_matplotlib\n"
      ],
      "metadata": {
        "colab": {
          "base_uri": "https://localhost:8080/"
        },
        "id": "fYF89GNFJmRP",
        "outputId": "462ee6b2-63ba-4136-a8ee-9b6af7221ac9"
      },
      "execution_count": null,
      "outputs": [
        {
          "output_type": "stream",
          "name": "stdout",
          "text": [
            "Collecting japanize_matplotlib\n",
            "  Downloading japanize-matplotlib-1.1.3.tar.gz (4.1 MB)\n",
            "\u001b[2K     \u001b[90m━━━━━━━━━━━━━━━━━━━━━━━━━━━━━━━━━━━━━━━━\u001b[0m \u001b[32m4.1/4.1 MB\u001b[0m \u001b[31m24.9 MB/s\u001b[0m eta \u001b[36m0:00:00\u001b[0m\n",
            "\u001b[?25h"
          ]
        }
      ]
    },
    {
      "cell_type": "markdown",
      "source": [],
      "metadata": {
        "id": "Cf9-RSXpJlm8"
      }
    },
    {
      "cell_type": "code",
      "execution_count": null,
      "metadata": {
        "id": "xBut35kvJfkm"
      },
      "outputs": [],
      "source": [
        "# ライブラリのimport\n",
        "\n",
        "# NumPy用ライブラリ\n",
        "import numpy as np\n",
        "# Matplotlib中のpyplotライブラリのインポート\n",
        "import matplotlib.pyplot as plt\n",
        "# matplotlib日本語化対応ライブラリのインポート\n",
        "import japanize_matplotlib\n",
        "\n",
        "# randomに値を生成するライブラリ\n",
        "import random\n"
      ]
    },
    {
      "cell_type": "code",
      "source": [],
      "metadata": {
        "id": "IGkrl_P-JkdD"
      },
      "execution_count": null,
      "outputs": []
    },
    {
      "cell_type": "code",
      "execution_count": null,
      "metadata": {
        "colab": {
          "base_uri": "https://localhost:8080/"
        },
        "id": "3oSwsDu-Jfko",
        "outputId": "0d8d95e2-36ec-4ed4-d67b-66be4fe7d4a0"
      },
      "outputs": [
        {
          "output_type": "stream",
          "name": "stdout",
          "text": [
            "Running on PyMC v5.19.1\n",
            "Running on ArViz v0.20.0\n"
          ]
        }
      ],
      "source": [
        "import pymc as pm\n",
        "import arviz as az\n",
        "print(f\"Running on PyMC v{pm.__version__}\")\n",
        "print(f\"Running on ArViz v{az.__version__}\")"
      ]
    },
    {
      "cell_type": "markdown",
      "metadata": {
        "id": "bhWQT6lYJfko"
      },
      "source": [
        "----\n",
        "### 課題7-1：鈴木さんと山田さんの間ぐらいのサンプル数の例を作って確率変数の差(delta_prob_s)のグラフを確認しよう。\n",
        "\n",
        "----"
      ]
    },
    {
      "cell_type": "markdown",
      "metadata": {
        "id": "VhHEgqHnJfko"
      },
      "source": [
        "- 授業内でやったABテストの例に、新たなメンバーによる例を追加してください\n",
        "- 結果はスライドで報告\n"
      ]
    },
    {
      "cell_type": "markdown",
      "metadata": {
        "id": "JReuQjWpJfkp"
      },
      "source": [
        "----\n",
        "### 課題7-2. 誤った確率モデルを想定することで、plot_traceの結果がブレている例を作りなさい。\n",
        "\n",
        "----\n",
        "\n",
        "\n"
      ]
    },
    {
      "cell_type": "markdown",
      "metadata": {
        "id": "3L9uR8NiJfkp"
      },
      "source": [
        "- 授業内でやったABテストの例の、確率モデルの定義のところを変えて、plot_traceの結果がブレている例を作ってください\n",
        "- 結果はスライドで報告"
      ]
    },
    {
      "cell_type": "code",
      "execution_count": null,
      "metadata": {
        "id": "OCyn3EjUJfkp"
      },
      "outputs": [],
      "source": [
        "# ここにコードを書く"
      ]
    },
    {
      "cell_type": "markdown",
      "metadata": {
        "id": "8QLRsmqhJfkq"
      },
      "source": [
        "----\n",
        "### 課題7-3.最高密度区間(HDI:Highest Density Interval)と信頼区間 (CI: Confidence Interval)の違いについて調べて、それらが一致する例と大きく異なる例をそれぞれ挙げなさい。\n",
        "\n",
        "\n",
        "----\n",
        "\n",
        "\n",
        "\n"
      ]
    },
    {
      "cell_type": "markdown",
      "metadata": {
        "id": "X6J5V0g5Jfkq"
      },
      "source": [
        "- 自力で調べて報告してください\n",
        "- 結果はスライドで報告"
      ]
    },
    {
      "cell_type": "code",
      "execution_count": null,
      "metadata": {
        "id": "JWwKc_6oJfkq"
      },
      "outputs": [],
      "source": [
        "# ここにコードを書く"
      ]
    }
  ],
  "metadata": {
    "kernelspec": {
      "display_name": "class_bayes",
      "language": "python",
      "name": "python3"
    },
    "language_info": {
      "codemirror_mode": {
        "name": "ipython",
        "version": 3
      },
      "file_extension": ".py",
      "mimetype": "text/x-python",
      "name": "python",
      "nbconvert_exporter": "python",
      "pygments_lexer": "ipython3",
      "version": "3.11.0"
    },
    "colab": {
      "provenance": [],
      "include_colab_link": true
    }
  },
  "nbformat": 4,
  "nbformat_minor": 0
}