{
  "cells": [
    {
      "cell_type": "markdown",
      "metadata": {
        "id": "view-in-github",
        "colab_type": "text"
      },
      "source": [
        "<a href=\"https://colab.research.google.com/github/reireu/for-copy/blob/main/dae_bayes04_student.ipynb\" target=\"_parent\"><img src=\"https://colab.research.google.com/assets/colab-badge.svg\" alt=\"Open In Colab\"/></a>"
      ]
    },
    {
      "cell_type": "markdown",
      "metadata": {
        "id": "-Xw-fm-c_cFP"
      },
      "source": [
        "# データと計量経済学 第4回 確率の数式表現から正規分布まで"
      ]
    },
    {
      "cell_type": "markdown",
      "metadata": {
        "id": "YAXwYFso_cFR"
      },
      "source": [
        "## 参考文献\n",
        "- Pythonでスラスラわかるベイズ推論「超」入門\n",
        "    - https://www.kspub.co.jp/book/detail/5337639.html\n",
        "- 【数学溢れ話】【Token】ベン図(Venn Diagram)と組み合わせ計算(Combination Calculation)と確率演算(Probability Operation) #Python - Qiita\n",
        "    - https://qiita.com/ochimusha01/items/367d306d062bfbda4a6d"
      ]
    },
    {
      "cell_type": "code",
      "execution_count": null,
      "metadata": {
        "id": "Y4wzZthM_cFR"
      },
      "outputs": [],
      "source": [
        "# pip install matplotlib matplotlib-venn"
      ]
    },
    {
      "cell_type": "code",
      "execution_count": null,
      "metadata": {
        "id": "vqefhVWJ_cFS"
      },
      "outputs": [],
      "source": [
        "# ライブラリのimport\n",
        "\n",
        "# NumPy用ライブラリ\n",
        "import numpy as np\n",
        "# Matplotlib中のpyplotライブラリのインポート\n",
        "import matplotlib.pyplot as plt\n",
        "# matplotlib日本語化対応ライブラリのインポート\n",
        "import japanize_matplotlib\n",
        "\n",
        "from scipy.stats import norm\n",
        "\n",
        "\n",
        "# randomに値を生成するライブラリ\n",
        "import random\n"
      ]
    },
    {
      "cell_type": "markdown",
      "metadata": {
        "id": "hWLn1QMV_cFS"
      },
      "source": [
        "## 確率の基本\n"
      ]
    },
    {
      "cell_type": "markdown",
      "metadata": {
        "id": "hHtRuMvF_cFT"
      },
      "source": [
        "確率の基本的な数式と記法について解説します。これを理解することで、条件付き確率やベイズの定理といった応用的な概念にもつながります。\n",
        "\n",
        "---\n",
        "\n",
        "### 確率の基本的な定義\n",
        "\n",
        "確率とは、ある事象が起こる可能性を数値で表したものです。基本的には次の公式で定義されます：\n",
        "\n",
        "$$\n",
        "P(A) = \\frac{\\text{事象 } A \\text{ が起こる場合の数}}{\\text{全ての場合の数}}\n",
        "$$\n",
        "\n"
      ]
    },
    {
      "cell_type": "markdown",
      "metadata": {
        "id": "wWwj3KDK_cFT"
      },
      "source": [
        "---\n",
        "### 記法の意味\n",
        "\n",
        "1. **事象 A :**  \n",
        "   ある特定の結果や出来事を表します。  \n",
        "   例: サイコロを振ったとき、「出た目が 6 である」という事象。\n",
        "\n",
        "2. **確率 P(A) :**  \n",
        "   事象 A  が起こる確率を意味します。$P(A)$全体で数値になります。 \\\n",
        "   PはProbability(確率)のPです。 \\\n",
        "   例: サイコロを振ったとき、出た目が 6 である確率は $P(A) = \\frac{1}{6}$ 。\n",
        "\n",
        "3. **全体の確率の範囲:**  \n",
        "   確率は常に次の範囲に収まります：  \n",
        "   $$\n",
        "   0 \\leq P(A) \\leq 1\n",
        "   $$  \n",
        "\n",
        "   - $P(A) = 0$ : A  が絶対に起こらない。  \n",
        "   - $P(A) = 1$ : A  が確実に起こる。\n",
        "\n",
        "- 補足\n",
        "   - 関数を表す$f(x)$みたいな表記のときに、fの部分はgになったりといろんな文字を使うことができますが、確率のP(なんちゃら)というのは、いつもP(なんちゃら)です。\n"
      ]
    },
    {
      "cell_type": "code",
      "execution_count": null,
      "metadata": {
        "id": "RJJUMDjS_cFT"
      },
      "outputs": [],
      "source": [
        "import matplotlib.pyplot as plt\n",
        "from matplotlib.patches import Rectangle, Circle\n",
        "import math\n",
        "\n",
        "def plot_event_A(P_A):\n",
        "    \"\"\"\n",
        "    事象 A の確率を受け取り、A の面積が確率に比例する図を描く関数。\n",
        "\n",
        "    Parameters:\n",
        "    P_A (float): 事象 A の確率（0 < P_A < 1）\n",
        "    \"\"\"\n",
        "    if not (0 < P_A < 1):\n",
        "        raise ValueError(\"P_A は 0 と 1 の間の値でなければなりません。\")\n",
        "\n",
        "    P_not_A = 1 - P_A  # 事象 A の補集合の確率\n",
        "\n",
        "    # Figure と Axes オブジェクトを作成\n",
        "    fig, ax = plt.subplots(figsize=(8,8))  # 正方形の図形にするためサイズを調整\n",
        "\n",
        "    # 全事象を表す長方形を描画\n",
        "    universal_set = Rectangle((0, 0), width=10, height=10, linewidth=1.5,\n",
        "                              edgecolor='black', facecolor='none')\n",
        "    ax.add_patch(universal_set)\n",
        "\n",
        "    # 円の半径を計算（面積が P_A に比例するように）\n",
        "    # スケール係数を適用して視覚的にわかりやすいサイズに調整\n",
        "    scale_factor = math.sqrt(100 / math.pi)  # 全事象のエリアを 100 と仮定\n",
        "    radius = math.sqrt(P_A) * scale_factor\n",
        "\n",
        "    # 事象 A を表す円を描画（円の中心は長方形の中央に配置）\n",
        "    event_A = Circle((5, 5), radius=radius, linewidth=1.5,\n",
        "                     edgecolor='blue', facecolor='skyblue', alpha=0.5)\n",
        "    ax.add_patch(event_A)\n",
        "\n",
        "    # ラベルの追加\n",
        "    # 全事象のラベル\n",
        "    ax.text(10.5, 10.5, '全事象', fontsize=16, ha='right', va='top')\n",
        "\n",
        "    # 事象 A のラベルと確率\n",
        "    ax.text(5, 5, f'A\\nP(A) = {P_A:.2f}', fontsize=16, ha='center', va='center')\n",
        "\n",
        "    # 事象 A の補集合の確率を表示（円の外側の領域に）\n",
        "    ax.text(5, 9.5, f'P(Ā) = {P_not_A:.2f}', fontsize=16, ha='center', va='center')\n",
        "\n",
        "    # 軸の範囲を設定\n",
        "    margin = 1\n",
        "    ax.set_xlim(0 - margin, 10 + margin)\n",
        "    ax.set_ylim(0 - margin, 10 + margin)\n",
        "\n",
        "    # 軸のアスペクト比を等倍に設定\n",
        "    ax.set_aspect('equal', adjustable='box')\n",
        "\n",
        "    # 軸を非表示に\n",
        "    ax.axis('off')\n",
        "\n",
        "    # タイトルを追加\n",
        "    ax.set_title('事象 A とその補集合の図', fontsize=20)\n",
        "\n",
        "    # 図の表示\n",
        "    plt.show()\n",
        "\n",
        "plot_event_A(0.3)"
      ]
    },
    {
      "cell_type": "markdown",
      "metadata": {
        "id": "HyRviG9Z_cFT"
      },
      "source": [
        "---\n",
        "### 確率の基本法則\n",
        "\n",
        "#### 1. **加法の法則（排反事象）**  \n",
        "事象 A  と B  が互いに重ならない場合（排反事象）、そのどちらかが起こる確率は次のように計算されます：\n",
        "$$\n",
        "P(A \\cup B) = P(A) + P(B)\n",
        "$$\n",
        "例: サイコロを振ったとき、「出た目が 2 か 4」の確率は：\n",
        "$$\n",
        "P(\\text{2または4}) = P(\\text{2}) + P(\\text{4}) = \\frac{1}{6} + \\frac{1}{6} = \\frac{1}{3}\n",
        "$$\n",
        "\n",
        "\n",
        "#### 2. **積法の法則（独立事象）**  \n",
        "事象 A  と B  が互いに独立している場合、その両方が起こる確率は：\n",
        "$$\n",
        "P(A \\cap B) = P(A) \\cdot P(B)\n",
        "$$\n",
        "例: コインを2回投げたとき、1回目と2回目が表になる確率は：\n",
        "$$\n",
        "P(\\text{表1回目} \\cap \\text{表2回目}) = P(\\text{表1回目}) \\cdot P(\\text{表2回目}) = \\frac{1}{2} \\cdot \\frac{1}{2} = \\frac{1}{4}\n",
        "$$\n",
        "\n",
        "#### 3. **全確率の和**  \n",
        "全ての可能な事象の確率の和は 1 に等しくなります：\n",
        "$$\n",
        "\\sum_{i} P(A_i) = 1\n",
        "$$\n",
        "例: サイコロを振ったとき、「出た目が 1, 2, 3, 4, 5, 6」の確率をすべて足すと：\n",
        "$$\n",
        "P(\\text{1}) + P(\\text{2}) + \\cdots + P(\\text{6}) = 1\n",
        "$$"
      ]
    },
    {
      "cell_type": "markdown",
      "metadata": {
        "id": "yQgq9ejo_cFU"
      },
      "source": [
        "### 排反であることのベン図での表現\n",
        "\n",
        "\n"
      ]
    },
    {
      "cell_type": "code",
      "execution_count": null,
      "metadata": {
        "id": "pO4I5NEi_cFU"
      },
      "outputs": [],
      "source": [
        "from matplotlib_venn import venn2\n",
        "from matplotlib import pyplot as plt\n",
        "\n",
        "def haihan(namelist,valuelist):\n",
        "    nameA = namelist[0]\n",
        "    nameB = namelist[1]\n",
        "    a1 = valuelist[0]\n",
        "    a2 = valuelist[1]\n",
        "    # 重なる部分の領域の割合を0にする\n",
        "    v = venn2(subsets=(a1, a2, 0),set_labels = (nameA, nameB))\n",
        "\n",
        "    # ベン図の色を変更する\n",
        "    v.get_patch_by_id('10').set_color('skyblue')\n",
        "    v.get_patch_by_id('10').set_edgecolor('black')\n",
        "    v.get_patch_by_id('01').set_color('skyblue')\n",
        "    v.get_patch_by_id('01').set_edgecolor('black')\n",
        "\n",
        "    # 背景色を変更する\n",
        "    plt.gca().set_axis_on()\n",
        "    plt.gca().set_facecolor('white')\n",
        "    plt.title(\"排反の場合\")\n",
        "    plt.show()\n",
        "\n",
        "haihan(['A','B'],[0.3,0.3])\n"
      ]
    },
    {
      "cell_type": "markdown",
      "metadata": {
        "id": "zBzVRPgF_cFU"
      },
      "source": [
        "### 排反でないことのベン図での表現"
      ]
    },
    {
      "cell_type": "code",
      "execution_count": null,
      "metadata": {
        "id": "TS7E0PLD_cFU"
      },
      "outputs": [],
      "source": [
        "def non_haihan(a,b,c, title=\"排反でない事象\"):\n",
        "    # 重なる部分の領域の割合を1にする\n",
        "    v = venn2(subsets=(a, b, c),set_labels = ('A', 'B'))\n",
        "\n",
        "    # ベン図の色を変更する\n",
        "    v.get_patch_by_id('10').set_color('skyblue')\n",
        "    v.get_patch_by_id('10').set_edgecolor('black')\n",
        "    v.get_patch_by_id('11').set_color('skyblue')\n",
        "    v.get_patch_by_id('11').set_edgecolor('black')\n",
        "    v.get_patch_by_id('01').set_color('skyblue')\n",
        "    v.get_patch_by_id('01').set_edgecolor('black')\n",
        "\n",
        "    # 背景色を変更する\n",
        "    plt.gca().set_axis_on()\n",
        "    plt.gca().set_facecolor('white')\n",
        "    plt.title(title)\n",
        "    plt.show()\n",
        "\n",
        "non_haihan(0.3,0.3, 0.1)"
      ]
    },
    {
      "cell_type": "markdown",
      "metadata": {
        "id": "qs7tk5yj_cFU"
      },
      "source": [
        "---\n",
        "\n",
        "### 応用に向けた基本的概念\n",
        "\n",
        "- **補集合 $A^c$ :**  \n",
        "  A  が起こらない確率。次の式で表されます：  \n",
        "  $$\n",
        "  P(A^c) = 1 - P(A)\n",
        "  $$  \n",
        "  例: サイコロを振ったとき、「出た目が 6 以外」の確率は：\n",
        "  $$\n",
        "  P(A^c) = 1 - P(A) = 1 - \\frac{1}{6} = \\frac{5}{6}\n",
        "  $$\n",
        "\n",
        "  補集合を表す記号として、集合 A の上にバー（線）を引いて $\\overline{A}$ と書く方法もあります。\n",
        "  - 集合 $A$ の補集合 : $\\overline{A}$\n",
        "  - 補集合 $\\overline{A}$の起こる確率 : $P(\\overline{A})$\n"
      ]
    },
    {
      "cell_type": "markdown",
      "metadata": {
        "id": "p--L-gQV_cFU"
      },
      "source": [
        "\n",
        "- **共通部分 $A \\cap B$ :**  \n",
        "  A  と B  の両方が起こる確率。これを用いると条件付き確率やベイズの定理に繋がります。"
      ]
    },
    {
      "cell_type": "markdown",
      "metadata": {
        "id": "Rl5HcD0S_cFV"
      },
      "source": [
        "\n",
        "---\n",
        "\n",
        "### 実例で基本を確認\n",
        "\n",
        "1. **サイコロ問題**  \n",
        "サイコロを振って「偶数が出る確率 $P(A)$ 」を求める：\n",
        "$$\n",
        "P(A) = \\frac{\\text{偶数の目（2, 4, 6）の数}}{\\text{全ての目の数（1, 2, 3, 4, 5, 6）}} = \\frac{3}{6} = \\frac{1}{2}\n",
        "$$\n",
        "\n",
        "2. **コイン問題**  \n",
        "コインを投げたとき「表が出る確率 $P(A)$ 」：\n",
        "$$\n",
        "P(A) = \\frac{\\text{表の出る場合の数（1つ）}}{\\text{全ての面の数（表と裏で2つ）}} = \\frac{1}{2}\n",
        "$$\n",
        "\n",
        "---\n",
        "\n",
        "これが確率の基本です。この土台をもとに、条件付き確率や期待値といった発展的な概念を学んでいくことができます！"
      ]
    },
    {
      "cell_type": "markdown",
      "metadata": {
        "id": "JmJkiKdH_cFV"
      },
      "source": [
        "----\n",
        "### 問1 確率の式をMakrdownで書いてみよう\n",
        "----\n"
      ]
    },
    {
      "cell_type": "markdown",
      "metadata": {
        "id": "m5ssPDLJ_cFV"
      },
      "source": [
        "- 数式の書き方は2種類。どちらも$を使う。\n",
        "    - 行の中で書く場合($一つで囲う) :\n",
        "        ```\n",
        "        $数式$\n",
        "        ```\n",
        "    - 独立した行として書く場合($２つで囲う) :\n",
        "        ```\n",
        "        $$\n",
        "        数式\n",
        "        $$\n",
        "        ```\n",
        "\n",
        "- TeXの記法が使える。\n",
        "    - `\\`(バックスラッシュ)の後に予約語を書くことで特別な記号が出せる。\n",
        "        - `\\cup`で$\\cup$\n",
        "        - `\\cap`で$\\cap$\n",
        "        - `\\frac{a}{b}`で$\\frac{a}{b}$\n",
        "        - `a, \\ldots, b`で$a, \\ldots, b$\n",
        "        - `a+ \\ldots+ b`で$a+ \\ldots+ b$\n",
        "    - 上付き文字・下付き文字\n",
        "        - `a^b`で$a^b$\n",
        "        - `a_b`で$a_b$\n",
        "\n",
        "\n",
        "- 再現するもの\n",
        "    - $P(A)$\n",
        "    - $P(A \\cup B)$\n",
        "    - $P(A \\cap B)$\n",
        "    - $(x_1, x_2, \\ldots , x_n)$\n",
        "    - $(a_1 + a_2 + \\cdots +z_n)$\n",
        "\n",
        "    $$\n",
        "    P(A^c) = 1 - P(A) = 1 - \\frac{1}{6} = \\frac{5}{6}\n",
        "    $$"
      ]
    },
    {
      "cell_type": "markdown",
      "metadata": {
        "id": "sW5zNgEA_cFV"
      },
      "source": []
    },
    {
      "cell_type": "markdown",
      "metadata": {
        "id": "rNUnWYcq_cFV"
      },
      "source": [
        "### 排反でないときの確率の加法\n",
        "\n",
        "確率の計算において、2つ以上の事象が同時に起こる可能性がある場合、つまり**排反でない事象**の場合には、単純に各事象の確率を足し合わせるだけでは正しい結果が得られません。ここでは、排反でない事象の確率の加法について、ベン図や数式を用いて解説し、具体的な例を示します。\n",
        "\n",
        "---\n",
        "\n",
        "#### **1. 基本的な考え方**\n",
        "\n",
        "**確率の加法定理（一般化）**：\n",
        "\n",
        "2つの事象 A と B があるとき、A または B が起こる確率 P(A ∪ B) は次のように表されます。\n",
        "\n",
        "$$\n",
        "P(A ∪ B) = P(A) + P(B) - P(A ∩ B)\n",
        "$$\n",
        "\n",
        "- **P(A)**：事象 A が起こる確率\n",
        "- **P(B)**：事象 B が起こる確率\n",
        "- **P(A ∩ B)**：事象 A と B が**同時に**起こる確率\n",
        "\n",
        "**ポイント**：\n",
        "\n",
        "- **排反な事象**の場合（A と B が同時に起こらない）、P(A ∩ B) = 0 となり、式は P(A ∪ B) = P(A) + P(B) に簡略化されます。\n",
        "- **排反でない事象**の場合、同時に起こる可能性があるため、P(A ∩ B) を引いて重複部分を調整します。\n",
        "\n",
        "---"
      ]
    },
    {
      "cell_type": "markdown",
      "metadata": {
        "id": "BMjsaG0d_cFV"
      },
      "source": [
        "\n",
        "#### **2. ベン図による視覚的な説明**\n",
        "\n",
        "以下のベン図は、排反でない事象 A と B の関係を示しています。"
      ]
    },
    {
      "cell_type": "code",
      "execution_count": null,
      "metadata": {
        "id": "3T7uzJxW_cFV"
      },
      "outputs": [],
      "source": [
        "non_haihan(3,3,1)"
      ]
    },
    {
      "cell_type": "markdown",
      "metadata": {
        "id": "DW2ZEqsF_cFW"
      },
      "source": [
        "- **全体の長方形**：全事象（全ての可能性）\n",
        "- **円 A**：事象 A が起こる領域\n",
        "- **円 B**：事象 B が起こる領域\n",
        "- **重なり部分（A ∩ B）**：事象 A と B が同時に起こる領域\n",
        "\n",
        "**解説**：\n",
        "\n",
        "- P(A) と P(B) を単純に足すと、重なり部分（A ∩ B）が二重に数えられます。\n",
        "- そのため、P(A ∩ B) を引いて重複を取り除きます。\n"
      ]
    },
    {
      "cell_type": "markdown",
      "metadata": {
        "id": "nPdG7f_c_cFW"
      },
      "source": [
        "\n",
        "---\n",
        "\n",
        "#### **3. 例：トランプを用いた例**\n",
        "\n",
        "**問題**：\n",
        "\n",
        "52枚のトランプから1枚のカードを引くとき、それが「スペード」または「エース」である確率は？\n",
        "\n",
        "**解答**：\n",
        "\n",
        "1. **事象の定義**：\n",
        "\n",
        "   - **A**：カードがスペードである\n",
        "   - **B**：カードがエースである\n",
        "\n",
        "2. **それぞれの確率**：\n",
        "\n",
        "   - **P(A)**：スペードは13枚\n",
        "     $$\n",
        "     P(A) = \\frac{13}{52} = \\frac{1}{4}\n",
        "     $$\n",
        "   - **P(B)**：エースは4枚\n",
        "     $$\n",
        "     P(B) = \\frac{4}{52} = \\frac{1}{13}\n",
        "     $$\n",
        "   - **P(A ∩ B)**：スペードのエースは1枚\n",
        "     $$\n",
        "     P(A ∩ B) = \\frac{1}{52}\n",
        "     $$\n",
        "\n",
        "3. **式に当てはめて計算**：\n",
        "\n",
        "   $$\n",
        "   \\begin{align*}\n",
        "   P(A ∪ B) &= P(A) + P(B) - P(A ∩ B) \\\\\n",
        "   &= \\frac{1}{4} + \\frac{1}{13} - \\frac{1}{52} \\\\\n",
        "   &= \\frac{13}{52} + \\frac{4}{52} - \\frac{1}{52} \\\\\n",
        "   &= \\frac{16}{52} \\\\\n",
        "   &= \\frac{4}{13}\n",
        "   \\end{align*}\n",
        "   $$\n",
        "\n",
        "**答え**：\n",
        "\n",
        "カードが「スペード」または「エース」である確率は $\\frac{4}{13}$ です。\n"
      ]
    },
    {
      "cell_type": "markdown",
      "metadata": {
        "id": "f7AJpAk7_cFW"
      },
      "source": [
        "---\n",
        "#### **4. ベン図での視覚的な確認**"
      ]
    },
    {
      "cell_type": "code",
      "execution_count": null,
      "metadata": {
        "id": "lWf5EVqq_cFW"
      },
      "outputs": [],
      "source": [
        "non_haihan(12,3,1, title='カートが「スペード」または「エース」である事象の数')"
      ]
    },
    {
      "cell_type": "markdown",
      "metadata": {
        "id": "O5GBJq07_cFW"
      },
      "source": [
        "\n",
        "- **円 A（スペード）**：13枚のスペードのカード\n",
        "- **円 B（エース）**：4枚のエース\n",
        "- **重なり部分（スペードのエース）**：1枚\n",
        "\n",
        "**解説**：\n",
        "\n",
        "- P(A) と P(B) を足すと、スペードのエースが二重に数えられるため、P(A ∩ B) を引いて調整します。\n",
        "\n"
      ]
    },
    {
      "cell_type": "markdown",
      "metadata": {
        "id": "-ZdVUkKm_cFW"
      },
      "source": [
        "----\n",
        "### 問2 排反でないときの確率の加法の計算\n",
        "\n",
        "----\n",
        "\n"
      ]
    },
    {
      "cell_type": "markdown",
      "metadata": {
        "id": "qleS-hOl_cFW"
      },
      "source": [
        "- 以下の問いを考えます。\n",
        "    - 52枚のトランプから1枚のカードを引くとき、それが「ハート」または「絵札」である確率は？\n",
        "\n",
        "- Markdownで計算の過程を書いてみましょう(上の例を参考に)"
      ]
    },
    {
      "cell_type": "markdown",
      "metadata": {
        "id": "4G5k4I0t_cFW"
      },
      "source": [
        "ここに書く"
      ]
    },
    {
      "cell_type": "code",
      "execution_count": null,
      "metadata": {
        "id": "64-_eFEn_cFX"
      },
      "outputs": [],
      "source": [
        "## 計算が必要ならここでpythonでやる"
      ]
    },
    {
      "cell_type": "markdown",
      "metadata": {
        "id": "I7MnPJFm_cFX"
      },
      "source": [
        "## 確率変数"
      ]
    },
    {
      "cell_type": "markdown",
      "metadata": {
        "id": "pPQsqSsz_cFX"
      },
      "source": [
        "確率変数（かくりつへんすう）は、確率論や統計学における基本的な概念であり、偶然に起こる現象を数値で表現するために用いられます。具体的には、**試行の結果を数値に対応付ける関数**として定義されます。この関数は、結果が起こる確率と、それに対応する数値を組み合わせて、数学的な解析を可能にします。\n"
      ]
    },
    {
      "cell_type": "markdown",
      "metadata": {
        "id": "4tZYIYtS_cFX"
      },
      "source": [
        "**確率的な事象に数値を対応させたもの**と考えるとよいでしょう。"
      ]
    },
    {
      "cell_type": "markdown",
      "metadata": {
        "id": "HH6nsYZe_cFX"
      },
      "source": [
        "---\n",
        "\n",
        "### **確率変数の定義**\n",
        "\n",
        "確率空間 $(\\Omega, \\mathcal{F}, P)$ が与えられているとき、**確率変数** $X$ は次の条件を満たす関数です：\n",
        "\n",
        "- **可測関数**：$X: \\Omega \\rightarrow \\mathbb{R}$ （$\\mathbb{R}$ は実数全体の集合）であり、任意の実数 $x$ に対して、\n",
        "  $$\n",
        "  \\{ \\omega \\in \\Omega \\mid X(\\omega) \\leq x \\} \\in \\mathcal{F}\n",
        "  $$\n",
        "  が成立します。\n",
        "\n",
        "つまり、確率変数 $X$ は確率空間の元（試行の結果）に数値を対応させ、その数値に基づく事象が確率的に定義可能であることを意味します。\n",
        "\n",
        "---\n",
        "\n",
        "### **確率変数の役割と目的**\n",
        "\n",
        "1. **事象の数値化**：\n",
        "\n",
        "   - 複雑な事象を数値に置き換えることで、統計的・数学的な手法を適用できます。\n",
        "   - 確率分布や統計量（平均、分散、標準偏差など）を計算する基盤となります。\n",
        "\n",
        "2. **情報の集約**：\n",
        "\n",
        "   - 試行の結果を単一の数値で表現することで、大量のデータを扱いやすくします。\n",
        "   - データの特徴や傾向を把握しやすくなります。\n",
        "\n",
        "3. **確率モデルの構築**：\n",
        "\n",
        "   - 確率変数を用いて、現象をモデル化し、予測や推定を行うことができます。\n",
        "\n",
        "---\n",
        "\n",
        "### **具体例**\n",
        "\n",
        "#### **例1：サイコロの出目**\n",
        "\n",
        "- **試行**：6面体のサイコロを1回投げる。\n",
        "\n",
        "- **確率空間**：\n",
        "  $$\n",
        "  \\Omega = \\{1, 2, 3, 4, 5, 6\\}\n",
        "  $$\n",
        "\n",
        "- **確率変数 $X$**：\n",
        "  - サイコロの出た目そのものを確率変数とする。\n",
        "  - 定義：$X(\\omega) = \\omega$\n",
        "  - これは各試行結果に対して、そのままの数値を対応させています。\n",
        "\n",
        "---\n",
        "\n",
        "#### **例2：コイン投げの表の回数**\n",
        "\n",
        "- **試行**：コインを3回投げる。\n",
        "\n",
        "- **確率空間**：\n",
        "  $$\n",
        "  \\Omega = \\{(H, H, H), (H, H, T), (H, T, H), (H, T, T), (T, H, H), (T, H, T), (T, T, H), (T, T, T)\\}\n",
        "  $$\n",
        "  （ここで、$H$ は表、$T$ は裏を表します）\n",
        "\n",
        "- **確率変数 $X$**：\n",
        "  - 「表が出た回数」を表す。\n",
        "  - 例えば、$\\omega = (H, T, H)$ のとき、$X(\\omega) = 2$\n"
      ]
    },
    {
      "cell_type": "markdown",
      "metadata": {
        "id": "fwgImXGP_cFX"
      },
      "source": [
        "\n",
        "---\n",
        "\n",
        "### 離散型確率変数と連続型確率変数\n",
        "\n",
        "確率変数は、その取り得る値の性質により、以下の2種類に分類されます。\n",
        "\n",
        "1. **離散型確率変数**：\n",
        "   - **定義**：取り得る値が**個々の離散的な値**であり、その数が有限または可算無限個であるもの。\n",
        "   - **例**：\n",
        "     - サイコロを振ったときの出目（1から6）\n",
        "     - コイン投げで表か裏が出る（表を0、裏を1と数値化）\n",
        "     - 試験で正答した問題の数\n",
        "\n",
        "2. **連続型確率変数**：\n",
        "   - **定義**：取り得る値が**連続的な範囲**を持ち、数直線上の区間内の任意の値を取り得るもの。\n",
        "   - **例**：\n",
        "     - 身長や体重といった身体的な測定値\n",
        "     - 一定期間内の気温や降水量\n",
        "     - 製品の寿命や故障までの時間\n"
      ]
    },
    {
      "cell_type": "markdown",
      "metadata": {
        "id": "OstA6nyY_cFY"
      },
      "source": [
        "\n",
        "---\n",
        "\n",
        "### **確率分布**\n",
        "\n",
        "確率変数の取り得る値とそれぞれの確率の対応関係を表したものを**確率分布**と呼びます。\n",
        "\n",
        "- **離散型確率変数の場合**：\n",
        "  - **確率質量関数**(PMF：Probability Mass Function) を用いて、各値が取る確率を定義します。\n",
        "  - 式で表すと、$$ P(X = x_i) = p_i $$ となり、全ての確率の総和は1になります。\n",
        "\n",
        "- **連続型確率変数の場合**：\n",
        "  - **確率密度関数**(PDF：Probability Density Function)を用いて、値の範囲に対する確率を定義します。\n",
        "  - ある区間 $[a, b]$ において確率は、$$ P(a \\leq X \\leq b) = \\int_a^b f(x) \\, dx $$ と積分により計算されます。これも全ての確率の総和は1になります。\n"
      ]
    },
    {
      "cell_type": "markdown",
      "metadata": {
        "id": "Sz41VtPA_cFY"
      },
      "source": [
        "---\n",
        "\n",
        "### **累積分布関数（CDF：Cumulative Distribution Function）**\n",
        "\n",
        "累積分布関数は、確率変数がある値以下になる確率を示す関数です。\n",
        "\n",
        "- **定義**：$$ F(x) = P(X \\leq x) $$\n",
        "- **性質**：\n",
        "  - 単調非減少関数であり、$ \\lim_{x \\to -\\infty} F(x) = 0 $、$ \\lim_{x \\to \\infty} F(x) = 1 $ を満たします。\n",
        "  - 任意の区間の確率は、累積分布関数の差で表せます。\n",
        "    - 例：$$ P(a < X \\leq b) = F(b) - F(a) $$"
      ]
    },
    {
      "cell_type": "markdown",
      "metadata": {
        "id": "po1QHWY0_cFY"
      },
      "source": [
        "---\n",
        "\n",
        "### **期待値と分散**\n",
        "\n",
        "確率変数の特性を数値的に要約するために、**期待値**と**分散**が用いられます。\n",
        "\n",
        "- **期待値（平均値）**：\n",
        "  - **離散型**：$ E[X] = \\sum x_i \\cdot P(X = x_i) $\n",
        "  - **連続型**：$ E[X] = \\int_{-\\infty}^\\infty x \\cdot f(x) \\, dx $\n",
        "\n",
        "- **分散**：\n",
        "  - **定義**：期待値からの偏差の2乗の平均。\n",
        "  - **離散型**：$ Var(X) = \\sum (x_i - E[X])^2 \\cdot P(X = x_i) $\n",
        "  - **連続型**：$ Var(X) = \\int_{-\\infty}^\\infty (x - E[X])^2 \\cdot f(x) \\, dx $\n",
        "\n",
        "- **標準偏差**：\n",
        "  - 分散の平方根であり、$ \\sigma = \\sqrt{Var(X)} $ と表されます。"
      ]
    },
    {
      "cell_type": "markdown",
      "metadata": {
        "id": "Txt5G7R8_cFZ"
      },
      "source": [
        "---\n",
        "\n",
        "### **具体例：サイコロの出目**\n",
        "\n",
        "**問題設定**：6面体の公正なサイコロを1回振る。\n",
        "\n",
        "- **確率変数 $X$**：出た目の数値。\n",
        "- **取り得る値**：1, 2, 3, 4, 5, 6\n",
        "- **確率質量関数**：$$ P(X = k) = \\frac{1}{6} \\quad (k = 1, 2, 3, 4, 5, 6) $$\n",
        "\n",
        "**期待値の計算**：\n",
        "$$\n",
        "\\begin{align*}\n",
        "E[X] &= \\sum_{k=1}^6 k \\cdot P(X = k) \\\\\n",
        "&= \\frac{1+2+3+4+5+6}{6} \\\\\n",
        "&= \\frac{21}{6} = 3.5\n",
        "\\end{align*}\n",
        "$$\n",
        "\n",
        "**分散の計算**：\n",
        "$$\n",
        "\\begin{align*}\n",
        "Var(X) &= \\sum_{k=1}^6 (k - E[X])^2 \\cdot P(X = k) \\\\\n",
        "&= \\frac{(1 - 3.5)^2 + (2 - 3.5)^2 + \\dots + (6 - 3.5)^2}{6} \\\\\n",
        "&= \\frac{17.5}{6} \\approx 2.9167\n",
        "\\end{align*}\n",
        "$$"
      ]
    },
    {
      "cell_type": "markdown",
      "metadata": {
        "id": "PMKuf0_v_cFZ"
      },
      "source": [
        "## 条件付確率"
      ]
    },
    {
      "cell_type": "markdown",
      "metadata": {
        "id": "UEZMC2eG_cFZ"
      },
      "source": [
        "### 条件付き確率とは？\n",
        "\n",
        "条件付き確率は、ある出来事 B  が起きたという前提のもとで、別の出来事 A  が起きる確率を表します。この確率は、全体の確率空間を B  が起きた場合に限定して考えます。\n",
        "\n",
        "---\n",
        "\n",
        "### 条件付き確率の数式（Markdown形式）\n",
        "\n",
        "$$\n",
        "P(A \\mid B) = \\frac{P(A \\cap B)}{P(B)} \\quad (P(B) > 0)\n",
        "$$\n",
        "\n",
        "---\n",
        "\n",
        "### 各項の意味\n",
        "\n",
        "- $P(A \\mid B)$ :  B  が起きた条件下で、A が起きる確率。\n",
        "- $P(A \\cap B)$ :  A  と  B の両方が同時に起きる確率（共通部分の確率）。\n",
        "- $P(B)$ : B  が起きる確率。\n",
        "\n",
        "---\n",
        "\n",
        "### 条件付き確率のポイント\n",
        "\n",
        "1. **分母 $P(B)$ **  \n",
        "   条件を課す基準である  B の確率。これは全体の中で B が発生する割合を示します。\n",
        "\n",
        "2. **分子 $P(A \\cap B)$ **  \n",
        "   A と B が同時に発生する確率。条件付き確率では、これを B の中での A の発生割合と考えます。\n",
        "\n",
        "---\n",
        "\n",
        "### 条件付き確率の直感的理解\n",
        "\n",
        "- $P(A \\mid B)$ は、全体の中で A が発生する割合ではなく、条件として与えられた B の中での A の発生割合です。\n",
        "- 例えるなら、全体の中で赤いボールを引く確率ではなく、「箱に青いラベルが付いている」箱から赤いボールを引く確率のようなものです。\n",
        "\n",
        "---\n",
        "\n",
        "### 応用例\n",
        "\n",
        "#### 1. **天気予報**  \n",
        "「雨が降る確率」ではなく、「曇っているときに雨が降る確率」を考える。\n",
        "\n",
        "- A : 雨が降る\n",
        "- B : 曇っている\n",
        "\n",
        "この場合、曇りであることを前提として、雨が降る確率を計算します。\n",
        "\n",
        "---\n",
        "\n",
        "#### 2. **カードゲーム**  \n",
        "トランプの山札から引いたカードが「絵札である」という条件のもとで、それが「ハート」である確率を求める。\n",
        "\n",
        "- A : カードがハート\n",
        "- B : カードが絵札\n",
        "\n",
        "分子は「ハートの絵札の枚数」、分母は「全体の絵札の枚数」に相当します。\n",
        "\n",
        "---\n",
        "\n",
        "### 条件付き確率とベイズの定理の関係\n",
        "\n",
        "条件付き確率は、ベイズの定理の基礎概念として利用されます。ベイズの定理では、条件付き確率を逆転して計算する方法を提供します。両者を理解することで、確率をより柔軟に扱えるようになります。"
      ]
    },
    {
      "cell_type": "markdown",
      "metadata": {
        "id": "yYZJhqth_cFZ"
      },
      "source": []
    },
    {
      "cell_type": "markdown",
      "metadata": {
        "id": "NVAQ06dl_cFa"
      },
      "source": [
        "以下に、条件付き確率を求めるための計算問題をいくつか作成しました。各問題にはヒントも含めています。\n",
        "\n",
        "---\n",
        "\n",
        "### 問題 3-1: サイコロを使った問題\n",
        "\n",
        "サイコロを1回振ります。  \n",
        "- A : 出た目が偶数である（2, 4, 6）。  \n",
        "- B : 出た目が 4 以上である（4, 5, 6）。  \n",
        "\n",
        "条件付き確率 $P(A \\mid B)$  を求めなさい。\n",
        "\n",
        "**ヒント:**  \n",
        "1. 分母 $P(B)$  を求めるには、B  の事象の数を全事象の数で割ります。  \n",
        "2. 分子 $P(A \\cap B)$  を求めるには、A  と B  の両方を満たす目の数を考えます。\n",
        "\n",
        "---\n",
        "\n",
        "### 問題 3-2: カードを引く問題\n",
        "\n",
        "52枚のトランプから1枚をランダムに引きます。  \n",
        "- A : 引いたカードがハートである。  \n",
        "- B : 引いたカードが絵札（ジャック、クイーン、キング）である。  \n",
        "\n",
        "条件付き確率 $P(A \\mid B)$  を求めなさい。\n",
        "\n",
        "**ヒント:**  \n",
        "1. $A \\cap B$  は「ハートの絵札」であり、その枚数を数えます。  \n",
        "2. B  は「全ての絵札」であり、その枚数を数えます。\n",
        "\n",
        "---\n",
        "\n",
        "### 問題 3-3: 天気予報\n",
        "\n",
        "ある都市で観測されたデータによると、次の情報があります：  \n",
        "- 雨が降る確率 P(R) = 0.3 。  \n",
        "- 曇っている確率 P(C) = 0.5 。  \n",
        "- 雨が降っているときに曇っている確率$P(C \\mid R)$ = 0.8 。  \n",
        "\n",
        "雨が降っている条件下で曇っている確率を用いて、曇っているときに雨が降っている確率 $P(R \\mid C)$  を求めなさい。\n",
        "\n",
        "**ヒント:**  \n",
        "ベイズの定理を利用して計算します：\n",
        "$$\n",
        "P(R \\mid C) = \\frac{P(C \\mid R) P(R)}{P(C)}\n",
        "$$\n",
        "\n",
        "---\n",
        "\n",
        "### 問題 3-4: 製品の不良率\n",
        "\n",
        "ある工場で製品を検査したところ、以下のデータが得られました：  \n",
        "- 全製品のうち 10% が不良品（事象 F ）。  \n",
        "- 不良品のうち 80% は機械1で製造された（事象 M \\mid F ）。  \n",
        "- 全製品のうち 60% は機械1で製造された（事象 M ）。  \n",
        "\n",
        "機械1で製造された製品が不良品である確率 P(F \\mid M)  を求めなさい。\n",
        "\n",
        "**ヒント:**  \n",
        "1. $P(F \\cap M) = P(M \\mid F) P(F)$  を利用して共通確率を求める。  \n",
        "2. $P(F \\mid M) = \\frac{P(F \\cap M)}{P(M)}$  を用いる。\n",
        "\n",
        "---\n",
        "\n",
        "### 問題 3-5: 学校の試験\n",
        "\n",
        "あるクラスで、次の情報が与えられています：  \n",
        "- 試験に合格する確率 P(A) = 0.7 。  \n",
        "- 特定の参考書を利用して勉強した確率 P(B) = 0.5 。  \n",
        "- 参考書を利用して勉強した学生が試験に合格する確率 P(A \\mid B) = 0.9 。  \n",
        "\n",
        "参考書を利用していない学生が試験に合格する確率 P(A \\mid B^c)  を求めなさい。\n",
        "\n",
        "**ヒント:**  \n",
        "1. 全体の合格確率 P(A)  を条件付き確率の加法定理で分解：  \n",
        "$$\n",
        "P(A) = P(A \\mid B)P(B) + P(A \\mid B^c)P(B^c)\n",
        "$$\n",
        "2. 上式を用いて P(A \\mid B^c)  を計算します。\n"
      ]
    },
    {
      "cell_type": "markdown",
      "metadata": {
        "id": "36P41ltu_cFa"
      },
      "source": [
        "## ベイズの定理"
      ]
    },
    {
      "cell_type": "markdown",
      "metadata": {
        "id": "EXKwH2d8_cFa"
      },
      "source": [
        "### ベイズの定理とは？\n",
        "\n",
        "ベイズの定理は、条件付き確率を計算するための公式で、ある出来事 A  が起こったときに、別の出来事 B  が起こる確率を求める際に利用されます。この定理は、既知の情報をもとに新しい情報が得られた場合に確率を更新する手法として広く使われています。\n",
        "\n",
        "---\n",
        "\n",
        "### ベイズの定理の数式（Markdown形式）\n",
        "\n",
        "$$\n",
        "P(A \\mid B) = \\frac{P(B \\mid A) P(A)}{P(B)}\n",
        "$$\n",
        "\n",
        "---\n",
        "\n",
        "### 各項の意味\n",
        "\n",
        "- $P(A \\mid B)$ : B  が起きたという条件のもとで、A  が起きる確率（事後確率）\n",
        "- $P(B \\mid A)$ : A  が起きたときに B  が起きる確率（尤度）\n",
        "- $P(A)$ : A  が起きる確率（事前確率）\n",
        "- $P(B)$ : B  が起きる確率（正規化項）\n",
        "\n",
        "---\n",
        "\n",
        "### ベイズの定理のポイント\n",
        "\n",
        "1. 事前確率 $P(A)$  \n",
        "   事象 A  が発生する確率。元々の仮説や事象に対する初期の信頼度。\n",
        "\n",
        "2. 尤度 $P(B \\mid A)$\n",
        "   仮説 A  のもとで観測データ B  が得られる確率。\n",
        "\n",
        "3. 事後確率 $P(A \\mid B)$\n",
        "   観測データ B  を考慮した上で、仮説 A  が正しい確率。\n",
        "\n",
        "4. 正規化項 $P(B)$  \n",
        "   事象 B  が起きる全体的な確率。すべての可能性を考慮して事後確率を正規化するために必要。\n",
        "\n",
        "---\n",
        "\n",
        "### 応用例\n",
        "\n",
        "#### 1. **医療診断**  \n",
        "病気 A  の確率を検査結果 B  に基づいて更新する。\n",
        "\n",
        "- P(A) : 事前確率（病気の発生率）\n",
        "- P(B \\mid A) : 病気があるときに陽性となる確率（検査の感度）\n",
        "- P(B) : 検査が陽性になる確率（病気の有無を考慮した全体の陽性率）\n",
        "\n",
        "#### 2. **スパムメールフィルタリング**  \n",
        "メールがスパム A  である確率を、メール内の単語の出現 B  に基づいて計算する。\n",
        "\n",
        "---\n",
        "\n",
        "### ベイズの定理の直感的理解\n",
        "\n",
        "- ベイズの定理は「新しい証拠 B  を得る前後で、仮説 A  の信頼度をどのように更新するか」を教えてくれます。\n",
        "- 元の信頼度（事前確率）を、観測されたデータ（尤度）で修正して、最終的な信頼度（事後確率）を計算します。\n",
        "\n",
        "これにより、得られたデータに基づいてより正確な予測や推論を行うことが可能になります。"
      ]
    },
    {
      "cell_type": "markdown",
      "metadata": {
        "id": "KGr-jEpb_cFb"
      },
      "source": []
    },
    {
      "cell_type": "markdown",
      "metadata": {
        "id": "9C1HYvTP_cFb"
      },
      "source": [
        "## 正規分布"
      ]
    },
    {
      "cell_type": "markdown",
      "metadata": {
        "id": "6ituJyDa_cFb"
      },
      "source": [
        "**正規分布について**\n",
        "\n",
        "正規分布は、統計学や確率論で最も重要な連続型確率分布の一つです。多くの自然現象や測定値が正規分布に従うとされています。\n",
        "\n",
        "確率密度関数（PDF）は次の式で表されます：\n",
        "\n",
        "$$\n",
        "f(x) = \\frac{1}{\\sqrt{2\\pi \\sigma^2}} \\exp{\\left( -\\frac{(x - \\mu )^2}{2\\sigma^2} \\right)}\n",
        "$$\n",
        "\n",
        "- $\\mu$：平均値（期待値）\n",
        "- $\\sigma^2$：分散\n",
        "\n",
        "### 正規分布の特徴\n",
        "\n",
        "- **左右対称性**：平均値 $\\mu$ を中心にグラフが左右対称になります。\n",
        "- **単峰性**：平均値の位置で最大値を持つ鐘形の曲線です。\n",
        "- **中心極限定理**：独立した複数の確率変数の合計は、分布の種類に関わらず正規分布に近づきます。\n"
      ]
    },
    {
      "cell_type": "markdown",
      "metadata": {
        "id": "jRhxzNoa_cFb"
      },
      "source": [
        "### 確率密度関数（PDF）のプロット\n",
        "\n",
        "平均値 $\\mu = 0$、標準偏差 $\\sigma = 1$ の標準正規分布の確率密度関数を描画します。\n"
      ]
    },
    {
      "cell_type": "code",
      "execution_count": null,
      "metadata": {
        "id": "lBUsX3Ml_cFb"
      },
      "outputs": [],
      "source": [
        "\n",
        "# 平均と標準偏差の設定\n",
        "mu = 0      # 平均値\n",
        "sigma = 1   # 標準偏差"
      ]
    },
    {
      "cell_type": "code",
      "execution_count": null,
      "metadata": {
        "id": "Rmku3upN_cFb"
      },
      "outputs": [],
      "source": [
        "# xの範囲を設定\n",
        "x = np.linspace(mu - 4*sigma, mu + 4*sigma, 1000)\n",
        "\n",
        "# 確率密度関数を計算\n",
        "pdf = norm.pdf(x, mu, sigma)\n",
        "\n",
        "# グラフの描画\n",
        "plt.figure(figsize=(8, 4))\n",
        "plt.plot(x, pdf, label='確率密度関数')\n",
        "plt.title('正規分布の確率密度関数')\n",
        "plt.xlabel('x')\n",
        "plt.ylabel('確率密度')\n",
        "plt.legend()\n",
        "plt.grid(True)\n",
        "plt.show()"
      ]
    },
    {
      "cell_type": "markdown",
      "metadata": {
        "id": "sf_W77_F_cFc"
      },
      "source": [
        "\n",
        "\n",
        "### 累積分布関数（CDF）のプロット\n",
        "\n",
        "累積分布関数は、ある値以下の確率を示します。\n",
        "\n"
      ]
    },
    {
      "cell_type": "code",
      "execution_count": null,
      "metadata": {
        "id": "eGKx-hLW_cFc"
      },
      "outputs": [],
      "source": [
        "# 累積分布関数を計算\n",
        "cdf = norm.cdf(x, mu, sigma)\n",
        "\n",
        "# グラフの描画\n",
        "plt.figure(figsize=(8, 4))\n",
        "plt.plot(x, cdf, label='累積分布関数', color='orange')\n",
        "plt.title('正規分布の累積分布関数')\n",
        "plt.xlabel('x')\n",
        "plt.ylabel('累積確率')\n",
        "plt.legend()\n",
        "plt.grid(True)\n",
        "plt.show()"
      ]
    },
    {
      "cell_type": "markdown",
      "metadata": {
        "id": "plV95d5__cFc"
      },
      "source": [
        "### 特定の範囲の確率を計算\n",
        "\n",
        "例えば、$x = -1$ から $x = 1$ の間に値が存在する確率を計算します。"
      ]
    },
    {
      "cell_type": "code",
      "execution_count": null,
      "metadata": {
        "id": "hfvIaK8T_cFc"
      },
      "outputs": [],
      "source": [
        "# x = -1 から x = 1 の間の確率\n",
        "prob_between = norm.cdf(1, mu, sigma) - norm.cdf(-1, mu, sigma)\n",
        "print(f\"平均 {mu}, 標準偏差 {sigma} の正規分布で、xが-1から1の範囲にある確率は {prob_between:.4f} です。\")"
      ]
    },
    {
      "cell_type": "markdown",
      "metadata": {
        "id": "VJ4VZ18R_cFc"
      },
      "source": [
        "\n",
        "\n",
        "### パラメータを変えた場合の比較\n",
        "\n",
        "異なる平均値や標準偏差を持つ正規分布を比較します。\n"
      ]
    },
    {
      "cell_type": "code",
      "execution_count": null,
      "metadata": {
        "id": "QRwlfYcA_cFc"
      },
      "outputs": [],
      "source": [
        "# 平均値と標準偏差のリスト\n",
        "params = [\n",
        "    {'mu': 0, 'sigma': 0.5},\n",
        "    {'mu': 0, 'sigma': 1},\n",
        "    {'mu': 0, 'sigma': 2},\n",
        "    {'mu': -2, 'sigma': 1},\n",
        "]\n",
        "\n",
        "# xの範囲を設定\n",
        "x = np.linspace(-10, 10, 1000)\n",
        "\n",
        "# グラフの描画\n",
        "plt.figure(figsize=(8, 6))\n",
        "\n",
        "for param in params:\n",
        "    mu = param['mu']\n",
        "    sigma = param['sigma']\n",
        "    pdf = norm.pdf(x, mu, sigma)\n",
        "    plt.plot(x, pdf, label=f\"μ={mu}, σ={sigma}\")\n",
        "\n",
        "plt.title('異なる平均値と標準偏差を持つ正規分布')\n",
        "plt.xlabel('x')\n",
        "plt.ylabel('確率密度')\n",
        "plt.legend()\n",
        "plt.grid(True)\n",
        "plt.show()"
      ]
    },
    {
      "cell_type": "markdown",
      "metadata": {
        "id": "VEhPFS9T_cFc"
      },
      "source": [
        "## 中心極限定理\n",
        "- 小宮さんの資料を参照\n",
        "    - https://github.com/misya11p/data-econometrics-materials/blob/clt/central_limit_theorem.ipynb\n",
        "\n",
        "\n"
      ]
    },
    {
      "cell_type": "markdown",
      "metadata": {
        "id": "fT2QKWAm_cFc"
      },
      "source": []
    }
  ],
  "metadata": {
    "kernelspec": {
      "display_name": "class_bayes",
      "language": "python",
      "name": "python3"
    },
    "language_info": {
      "codemirror_mode": {
        "name": "ipython",
        "version": 3
      },
      "file_extension": ".py",
      "mimetype": "text/x-python",
      "name": "python",
      "nbconvert_exporter": "python",
      "pygments_lexer": "ipython3",
      "version": "3.11.0"
    },
    "colab": {
      "provenance": [],
      "include_colab_link": true
    }
  },
  "nbformat": 4,
  "nbformat_minor": 0
}